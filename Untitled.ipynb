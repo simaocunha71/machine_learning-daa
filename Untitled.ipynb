{
 "cells": [
  {
   "cell_type": "code",
   "execution_count": 12,
   "id": "c0a9d0c6-caca-49b2-a5a1-b869dfddad46",
   "metadata": {},
   "outputs": [],
   "source": [
    "import numpy as np\n",
    "from sklearn.model_selection import train_test_split\n",
    "from sklearn.preprocessing import StandardScaler\n",
    "from tensorflow.keras.utils import to_categorical\n",
    "from keras.models import Sequential\n",
    "from keras.layers import Dense\n",
    "\n",
    "# Generate a dummy dataset with 20 features and 5 categories\n",
    "num_samples = 1000\n",
    "num_features = 20\n",
    "num_classes = 5\n",
    "X = np.random.rand(num_samples, num_features)\n",
    "y = np.random.randint(num_classes, size=num_samples)\n",
    "\n",
    "# Split the data into training and test sets\n",
    "X_train, X_test, y_train, y_test = train_test_split(X, y, test_size=0.2)\n",
    "\n"
   ]
  },
  {
   "cell_type": "code",
   "execution_count": 13,
   "id": "947a6942-e510-4478-94c8-c968814805d7",
   "metadata": {},
   "outputs": [
    {
     "data": {
      "text/plain": [
       "array([3, 0, 3, 4, 0, 2, 2, 3, 1, 2, 4, 0, 1, 4, 1, 2, 3, 3, 0, 1, 4, 3,\n",
       "       4, 2, 0, 1, 3, 3, 2, 0, 0, 1, 4, 1, 4, 4, 3, 4, 3, 0, 1, 4, 2, 2,\n",
       "       3, 1, 3, 4, 2, 0, 1, 4, 2, 2, 3, 2, 2, 1, 2, 0, 0, 4, 3, 4, 0, 1,\n",
       "       3, 4, 3, 3, 0, 3, 1, 2, 0, 2, 4, 0, 2, 2, 3, 3, 3, 1, 2, 2, 2, 2,\n",
       "       4, 1, 4, 0, 4, 0, 3, 0, 1, 3, 1, 1, 0, 4, 2, 1, 4, 0, 0, 0, 1, 4,\n",
       "       2, 4, 3, 2, 4, 3, 4, 2, 2, 3, 1, 0, 3, 4, 1, 2, 3, 2, 3, 2, 0, 3,\n",
       "       2, 2, 0, 3, 1, 3, 4, 4, 4, 4, 3, 3, 3, 2, 1, 3, 0, 0, 4, 2, 3, 1,\n",
       "       1, 0, 4, 0, 0, 3, 1, 1, 4, 2, 2, 4, 0, 3, 2, 3, 3, 4, 2, 2, 1, 1,\n",
       "       1, 1, 4, 2, 2, 3, 2, 0, 0, 1, 0, 4, 1, 1, 3, 2, 0, 0, 0, 2, 0, 0,\n",
       "       0, 0, 1, 1, 0, 3, 1, 0, 4, 3, 0, 2, 4, 2, 3, 3, 3, 1, 4, 4, 4, 4,\n",
       "       4, 4, 3, 0, 2, 1, 1, 3, 4, 2, 1, 1, 1, 2, 2, 2, 4, 3, 3, 2, 4, 1,\n",
       "       4, 4, 3, 4, 0, 4, 4, 4, 3, 1, 3, 1, 4, 4, 1, 3, 1, 1, 0, 2, 1, 2,\n",
       "       3, 1, 4, 2, 4, 0, 1, 4, 3, 2, 3, 2, 3, 1, 2, 3, 3, 3, 3, 4, 1, 4,\n",
       "       0, 2, 4, 3, 1, 1, 4, 1, 2, 3, 4, 3, 1, 4, 0, 0, 1, 1, 1, 2, 1, 4,\n",
       "       1, 2, 4, 3, 3, 3, 4, 1, 1, 1, 4, 4, 1, 3, 3, 0, 3, 2, 2, 0, 1, 3,\n",
       "       0, 2, 4, 1, 4, 1, 0, 0, 1, 1, 3, 4, 1, 4, 3, 4, 4, 3, 2, 2, 0, 3,\n",
       "       1, 0, 4, 1, 4, 2, 1, 0, 2, 0, 2, 2, 1, 1, 1, 2, 1, 4, 1, 4, 4, 3,\n",
       "       2, 4, 2, 4, 2, 0, 3, 1, 1, 0, 2, 0, 3, 4, 4, 1, 1, 1, 3, 0, 0, 2,\n",
       "       3, 0, 3, 0, 2, 3, 0, 0, 1, 4, 4, 3, 0, 1, 2, 4, 3, 1, 2, 2, 1, 0,\n",
       "       4, 4, 3, 0, 0, 1, 4, 2, 3, 4, 3, 2, 1, 2, 1, 3, 3, 3, 3, 0, 1, 3,\n",
       "       3, 1, 4, 4, 1, 1, 3, 4, 0, 2, 1, 3, 3, 4, 0, 0, 4, 0, 0, 3, 4, 1,\n",
       "       4, 3, 0, 0, 2, 4, 2, 4, 4, 4, 0, 2, 3, 1, 3, 0, 1, 1, 1, 0, 2, 4,\n",
       "       0, 1, 1, 1, 0, 4, 0, 4, 1, 2, 2, 2, 4, 1, 2, 2, 1, 1, 1, 2, 3, 0,\n",
       "       0, 2, 1, 3, 1, 4, 4, 3, 1, 3, 4, 3, 4, 1, 4, 0, 3, 2, 3, 4, 1, 0,\n",
       "       2, 1, 1, 1, 4, 3, 4, 0, 3, 4, 0, 4, 3, 1, 0, 1, 3, 1, 3, 2, 2, 4,\n",
       "       2, 2, 0, 3, 4, 0, 0, 0, 1, 3, 1, 3, 2, 1, 0, 3, 1, 1, 4, 4, 2, 1,\n",
       "       0, 1, 2, 1, 2, 4, 3, 4, 3, 3, 1, 0, 0, 4, 3, 2, 2, 0, 1, 3, 3, 2,\n",
       "       4, 2, 3, 0, 1, 1, 3, 3, 4, 3, 4, 1, 4, 2, 0, 4, 2, 1, 1, 4, 1, 0,\n",
       "       3, 3, 1, 2, 4, 2, 1, 3, 3, 3, 0, 1, 1, 4, 0, 1, 1, 2, 4, 2, 0, 4,\n",
       "       4, 2, 2, 0, 2, 1, 3, 4, 0, 4, 4, 4, 2, 2, 3, 1, 2, 1, 1, 0, 4, 1,\n",
       "       0, 2, 0, 2, 1, 2, 0, 3, 3, 1, 1, 2, 4, 4, 1, 1, 4, 3, 2, 0, 1, 3,\n",
       "       0, 4, 4, 2, 3, 1, 0, 0, 0, 1, 2, 0, 3, 0, 0, 1, 3, 1, 0, 4, 4, 3,\n",
       "       0, 4, 1, 2, 4, 0, 0, 3, 4, 1, 4, 2, 4, 0, 1, 0, 4, 0, 0, 3, 0, 4,\n",
       "       4, 1, 0, 1, 4, 1, 1, 1, 1, 3, 0, 0, 3, 2, 0, 1, 0, 3, 0, 2, 0, 0,\n",
       "       2, 4, 3, 2, 0, 1, 1, 3, 0, 0, 1, 0, 2, 0, 4, 2, 2, 2, 2, 0, 0, 3,\n",
       "       2, 4, 0, 4, 4, 4, 2, 1, 0, 2, 4, 3, 4, 0, 4, 3, 4, 2, 4, 3, 4, 3,\n",
       "       3, 1, 1, 1, 1, 4, 2, 3])"
      ]
     },
     "execution_count": 13,
     "metadata": {},
     "output_type": "execute_result"
    }
   ],
   "source": [
    "y_train"
   ]
  },
  {
   "cell_type": "code",
   "execution_count": 14,
   "id": "3b0520ef-3f0c-41ba-bd25-26bff3a4d0a3",
   "metadata": {},
   "outputs": [],
   "source": [
    "# Scale the data\n",
    "scaler = StandardScaler()\n",
    "X_train = scaler.fit_transform(X_train)\n",
    "X_test = scaler.transform(X_test)\n",
    "\n",
    "# Convert the labels to one-hot encoded vectors\n",
    "y_train = to_categorical(y_train, num_classes)\n",
    "y_test = to_categorical(y_test, num_classes)\n",
    "\n",
    "\n"
   ]
  },
  {
   "cell_type": "code",
   "execution_count": 15,
   "id": "84008bc9-2444-4fcb-9afa-d78c310d78e1",
   "metadata": {},
   "outputs": [
    {
     "data": {
      "text/plain": [
       "array([[0., 0., 0., 1., 0.],\n",
       "       [1., 0., 0., 0., 0.],\n",
       "       [0., 0., 0., 1., 0.],\n",
       "       ...,\n",
       "       [0., 0., 0., 0., 1.],\n",
       "       [0., 0., 1., 0., 0.],\n",
       "       [0., 0., 0., 1., 0.]], dtype=float32)"
      ]
     },
     "execution_count": 15,
     "metadata": {},
     "output_type": "execute_result"
    }
   ],
   "source": [
    "y_train"
   ]
  },
  {
   "cell_type": "code",
   "execution_count": null,
   "id": "48294ed3-ce9f-4bd3-a1cb-e8b5ba5b9209",
   "metadata": {},
   "outputs": [],
   "source": [
    "# Define the model\n",
    "model = Sequential()\n",
    "model.add(Dense(32, input_shape=(num_features,), activation='relu'))\n",
    "model.add(Dense(num_classes, activation='softmax'))\n",
    "\n",
    "# Compile the model\n",
    "model.compile(loss='categorical_crossentropy',\n",
    "              optimizer='adam',\n",
    "              metrics=['accuracy'])\n",
    "\n",
    "# Train the model\n",
    "model.fit(X_train, y_train,\n",
    "          batch_size=64,\n",
    "          epochs=10,\n",
    "          verbose=1,\n",
    "          validation_data=(X_test, y_test))\n",
    "\n",
    "# Evaluate the model\n",
    "score = model.evaluate(X_test, y_test, verbose=0)\n",
    "print('Test loss:', score[0])\n",
    "print('Test accuracy:', score[1])"
   ]
  }
 ],
 "metadata": {
  "kernelspec": {
   "display_name": "TensorFlowGPU",
   "language": "python",
   "name": "tf_gpu"
  },
  "language_info": {
   "codemirror_mode": {
    "name": "ipython",
    "version": 3
   },
   "file_extension": ".py",
   "mimetype": "text/x-python",
   "name": "python",
   "nbconvert_exporter": "python",
   "pygments_lexer": "ipython3",
   "version": "3.6.15"
  }
 },
 "nbformat": 4,
 "nbformat_minor": 5
}
