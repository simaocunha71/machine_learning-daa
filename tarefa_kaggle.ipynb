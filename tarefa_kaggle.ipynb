{
 "cells": [
  {
   "cell_type": "markdown",
   "id": "d0be7b61",
   "metadata": {},
   "source": [
    "# TAREFA DATASET KAGGLE\n",
    "\n",
    "\n",
    "Para esta fase, o objetivo é alcançar o melhor resultado possível com o dataset da competição fornecido pelos docentes na previsão do nível de incidentes rodoviários, numa determinada hora, na cidade de Guimarães."
   ]
  },
  {
   "cell_type": "markdown",
   "id": "f3425fbd",
   "metadata": {},
   "source": [
    "### **1.** Importar as bibliotecas essenciais do Python para a elaboração desta tarefa"
   ]
  },
  {
   "cell_type": "code",
   "execution_count": null,
   "id": "d2110514",
   "metadata": {},
   "outputs": [],
   "source": [
    "import sklearn as skl\n",
    "import pandas as pd\n",
    "import matplotlib.pyplot as plt\n",
    "import seaborn as sns\n",
    "import numpy as np\n",
    "\n",
    "pd.set_option('display.max_columns', None)"
   ]
  },
  {
   "cell_type": "markdown",
   "id": "bf0e69e0",
   "metadata": {},
   "source": [
    "### **2.** Carregar o dataset para um dataframe da biblioteca Pandas"
   ]
  },
  {
   "cell_type": "code",
   "execution_count": null,
   "id": "c5b1ae2b",
   "metadata": {},
   "outputs": [],
   "source": [
    "df = pd.read_csv('docs/training_data.csv', encoding=\"utf-8\", skipinitialspace=True)\n",
    "df_teste = pd.read_csv('docs/test_data.csv', encoding=\"utf-8\", skipinitialspace=True)"
   ]
  },
  {
   "cell_type": "markdown",
   "id": "67994d89",
   "metadata": {},
   "source": [
    "### **3.** Obtenção de informação acerca do dataset: tipos de dados das features, conteúdo do dataset e estatística"
   ]
  },
  {
   "cell_type": "markdown",
   "id": "6f6d0507",
   "metadata": {},
   "source": [
    "* **tipos de dados das features**"
   ]
  },
  {
   "cell_type": "code",
   "execution_count": null,
   "id": "45f0c71d",
   "metadata": {},
   "outputs": [],
   "source": [
    "df.info()"
   ]
  },
  {
   "cell_type": "markdown",
   "id": "b5152fce",
   "metadata": {},
   "source": [
    "* **conteúdo do dataset**"
   ]
  },
  {
   "cell_type": "code",
   "execution_count": null,
   "id": "258cac20",
   "metadata": {},
   "outputs": [],
   "source": [
    "df.head()"
   ]
  },
  {
   "cell_type": "markdown",
   "id": "7561aa58",
   "metadata": {},
   "source": [
    "* **estatística**"
   ]
  },
  {
   "cell_type": "code",
   "execution_count": null,
   "id": "5d441b59",
   "metadata": {},
   "outputs": [],
   "source": [
    "df.describe()"
   ]
  },
  {
   "cell_type": "markdown",
   "id": "8c00787f",
   "metadata": {},
   "source": [
    "Distribuição da feature target \"incidents\""
   ]
  },
  {
   "cell_type": "code",
   "execution_count": null,
   "id": "0be961c4",
   "metadata": {
    "scrolled": true
   },
   "outputs": [],
   "source": [
    "df[\"incidents\"].hist()"
   ]
  },
  {
   "cell_type": "markdown",
   "id": "9cc82c89",
   "metadata": {},
   "source": [
    "Análise dos valores únicos no dataset"
   ]
  },
  {
   "cell_type": "code",
   "execution_count": null,
   "id": "389d4274",
   "metadata": {
    "scrolled": true
   },
   "outputs": [],
   "source": [
    "for c in df:\n",
    "    print(f\"{c}: {df[c].unique()}\")\n",
    "    print(f\"Quantidade: {df[c].nunique()}\")\n",
    "    print(\"---------------------------------------\")"
   ]
  },
  {
   "cell_type": "markdown",
   "id": "ad54e250",
   "metadata": {},
   "source": [
    "TODO: tabelinha gira da análise da tabela acima"
   ]
  },
  {
   "cell_type": "markdown",
   "id": "0df88f51",
   "metadata": {},
   "source": [
    "### **4.** Preparação dos dados"
   ]
  },
  {
   "cell_type": "code",
   "execution_count": null,
   "id": "f973c9dc",
   "metadata": {},
   "outputs": [],
   "source": [
    "df.head()"
   ]
  },
  {
   "cell_type": "code",
   "execution_count": null,
   "id": "b4fc3b5f",
   "metadata": {},
   "outputs": [],
   "source": [
    "df.columns"
   ]
  },
  {
   "cell_type": "markdown",
   "id": "58452eaf",
   "metadata": {},
   "source": [
    "**Remoção da feature \"avg_precipitation\"**"
   ]
  },
  {
   "cell_type": "code",
   "execution_count": null,
   "id": "698ee45d",
   "metadata": {
    "scrolled": true
   },
   "outputs": [],
   "source": [
    "#Possui informação incompleta\n",
    "df = df.drop('avg_precipitation', axis=1)\n",
    "df_teste = df_teste.drop('avg_precipitation', axis=1)"
   ]
  },
  {
   "cell_type": "markdown",
   "id": "ff10bf98",
   "metadata": {},
   "source": [
    "**Transformação da coluna *record_date* nas colunas ano, mês, dia, hora e minuto**"
   ]
  },
  {
   "cell_type": "code",
   "execution_count": null,
   "id": "adc5c906-af4a-40db-8d3b-2a1122a34248",
   "metadata": {
    "scrolled": true
   },
   "outputs": [],
   "source": [
    "df['record_date'] = pd.to_datetime(df['record_date'],format='%Y-%m-%d %H:%M', errors='coerce')\n",
    "assert df['record_date'].isnull().sum() == 0,'missing record date'\n",
    "\n",
    "df['record_date_year'] = df['record_date'].dt.year\n",
    "df['record_date_month'] = df['record_date'].dt.month\n",
    "df['record_date_day'] = df['record_date'].dt.day\n",
    "df['record_date_hour'] = df['record_date'].dt.hour\n",
    "df['record_date_minute'] = df['record_date'].dt.minute\n",
    "df = df.drop('record_date', axis=1)\n",
    "\n",
    "df.head()\n",
    "\n",
    "\n",
    "df_teste['record_date'] = pd.to_datetime(df_teste['record_date'],format='%Y-%m-%d %H:%M', errors='coerce')\n",
    "assert df_teste['record_date'].isnull().sum() == 0,'missing record date'\n",
    "\n",
    "df_teste['record_date_year'] = df_teste['record_date'].dt.year\n",
    "df_teste['record_date_month'] = df_teste['record_date'].dt.month\n",
    "df_teste['record_date_day'] = df_teste['record_date'].dt.day\n",
    "df_teste['record_date_hour'] = df_teste['record_date'].dt.hour\n",
    "df_teste['record_date_minute'] = df_teste['record_date'].dt.minute\n",
    "df_teste = df_teste.drop('record_date', axis=1)"
   ]
  },
  {
   "cell_type": "markdown",
   "id": "ad87d239",
   "metadata": {},
   "source": [
    "**Remoção das features \"city_name\", \"record_date_year\" e \"record_date_minute\"**"
   ]
  },
  {
   "cell_type": "code",
   "execution_count": null,
   "id": "fac48a8a",
   "metadata": {},
   "outputs": [],
   "source": [
    "#como apenas existe um valor para \"city_name\", esta coluna pode ser removida\n",
    "df = df.drop('city_name', axis=1)\n",
    "df_teste = df_teste.drop('city_name', axis=1)\n",
    "\n",
    "#o mesmo se aplica para o ano e minuto\n",
    "df = df.drop('record_date_year', axis=1)\n",
    "df = df.drop('record_date_minute', axis=1)\n",
    "\n",
    "df_teste = df_teste.drop('record_date_year', axis=1)\n",
    "df_teste = df_teste.drop('record_date_minute', axis=1)"
   ]
  },
  {
   "cell_type": "markdown",
   "id": "b20b66e9",
   "metadata": {},
   "source": [
    "**Transformação da feature \"magnitude_of_delay\" em valores numéricos**"
   ]
  },
  {
   "cell_type": "code",
   "execution_count": null,
   "id": "7c9b38ae-4061-40c5-952d-6939028da932",
   "metadata": {},
   "outputs": [],
   "source": [
    "df['magnitude_of_delay'].unique()"
   ]
  },
  {
   "cell_type": "code",
   "execution_count": null,
   "id": "4cb417e1-69bc-4c14-84ac-d07124720bc3",
   "metadata": {},
   "outputs": [],
   "source": [
    "replace_map = {'magnitude_of_delay': {'UNDEFINED':0 ,'MODERATE': 1, 'MAJOR': 2}}\n",
    "df.replace(replace_map,inplace=True)\n",
    "df_teste.replace(replace_map,inplace=True)\n",
    "df.head()"
   ]
  },
  {
   "cell_type": "markdown",
   "id": "cada91d3",
   "metadata": {},
   "source": [
    "**Tratamento da feature \"affected_roads\"**"
   ]
  },
  {
   "cell_type": "markdown",
   "id": "0eb2538c",
   "metadata": {},
   "source": [
    "* Tratamento dos missing values"
   ]
  },
  {
   "cell_type": "code",
   "execution_count": null,
   "id": "30c53530",
   "metadata": {},
   "outputs": [],
   "source": [
    "df['affected_roads'].fillna(',',inplace=True) #tratar de missing values\n",
    "df_teste['affected_roads'].fillna(',',inplace=True) #tratar de missing values\n",
    "df.info()"
   ]
  },
  {
   "cell_type": "markdown",
   "id": "ed21b36b",
   "metadata": {},
   "source": [
    "* Separação das ruas e remoção de ruas repetidas"
   ]
  },
  {
   "cell_type": "code",
   "execution_count": null,
   "id": "f0e1f017-eacb-42c4-b7a1-d5520ac4c86d",
   "metadata": {},
   "outputs": [],
   "source": [
    "affected_roads = {}\n",
    "\n",
    "#Separação das ruas e remoção de ruas repetidas\n",
    "for row in df['affected_roads']:\n",
    "    roads = list(dict.fromkeys(row.split(',')))\n",
    "    for road in roads:\n",
    "        affected_roads[road] = []\n",
    "\n",
    "for row in df['affected_roads']:\n",
    "    roads = list(dict.fromkeys(row.split(',')))\n",
    "    for road in affected_roads:\n",
    "        if road in roads:\n",
    "            affected_roads[road].append(1)\n",
    "        else:\n",
    "            affected_roads[road].append(0)\n",
    "\n",
    "        \n",
    "affected_roads = pd.DataFrame.from_dict(affected_roads)\n",
    "df = df.drop('affected_roads',axis=1)\n",
    "\n",
    "for column in affected_roads:\n",
    "    df[column] = affected_roads[column]\n",
    "    \n",
    "#######################################################################\n",
    "affected_roads = {}\n",
    "\n",
    "for row in df_teste['affected_roads']:\n",
    "    roads = list(dict.fromkeys(row.split(',')))\n",
    "    for road in roads:\n",
    "        affected_roads[road] = []\n",
    "\n",
    "for row in df_teste['affected_roads']:\n",
    "    roads = list(dict.fromkeys(row.split(',')))\n",
    "    for road in affected_roads:\n",
    "        if road in roads:\n",
    "            affected_roads[road].append(1)\n",
    "        else:\n",
    "            affected_roads[road].append(0)\n",
    "\n",
    "        \n",
    "affected_roads = pd.DataFrame.from_dict(affected_roads)\n",
    "df_teste = df_teste.drop('affected_roads',axis=1)\n",
    "\n",
    "for column in affected_roads:\n",
    "    df_teste[column] = affected_roads[column]\n",
    "    \n",
    "df"
   ]
  },
  {
   "cell_type": "markdown",
   "id": "0a789ac6",
   "metadata": {},
   "source": [
    "**Transformação da feature \"luminosity\" em valores numéricos**"
   ]
  },
  {
   "cell_type": "code",
   "execution_count": null,
   "id": "255298c8-7958-45d3-8072-88265056e73d",
   "metadata": {},
   "outputs": [],
   "source": [
    "df['luminosity'].unique()"
   ]
  },
  {
   "cell_type": "code",
   "execution_count": null,
   "id": "15f1eb6a-f931-4e42-b192-25143c58212b",
   "metadata": {},
   "outputs": [],
   "source": [
    "replace_map = {'luminosity': {'LOW_LIGHT':0 ,'LIGHT': 1, 'DARK': 2}}\n",
    "df.replace(replace_map,inplace=True)\n",
    "df_teste.replace(replace_map,inplace=True)\n",
    "df.head()"
   ]
  },
  {
   "cell_type": "markdown",
   "id": "4c07f81a",
   "metadata": {},
   "source": [
    "**Tranformação da feature \"avg_rain\" em valores numéricos**"
   ]
  },
  {
   "cell_type": "code",
   "execution_count": null,
   "id": "3be99b42-acb3-4bff-9570-ce90fce273a9",
   "metadata": {},
   "outputs": [],
   "source": [
    "df['avg_rain'].unique()"
   ]
  },
  {
   "cell_type": "code",
   "execution_count": null,
   "id": "f4801902-4957-47ec-a34a-cf347acfb4a0",
   "metadata": {},
   "outputs": [],
   "source": [
    "replace_map = {'avg_rain': {'Sem Chuva':0 ,'chuva fraca': 1, 'chuva moderada': 2,'chuva forte' : 3}}\n",
    "df.replace(replace_map,inplace=True)\n",
    "df_teste.replace(replace_map,inplace=True)\n",
    "df.head()"
   ]
  },
  {
   "cell_type": "markdown",
   "id": "436dd738",
   "metadata": {},
   "source": [
    "**Transformação da feature \"incidents\" em valores numéricos**"
   ]
  },
  {
   "cell_type": "code",
   "execution_count": null,
   "id": "1e249962-1a4c-4c5e-8b31-9db5a90c5e81",
   "metadata": {},
   "outputs": [],
   "source": [
    "replace_map = {'incidents': {'None':0 ,'Low': 1, 'Medium': 2, 'High': 3, 'Very_High': 4}}\n",
    "df.replace(replace_map,inplace=True)\n",
    "df_teste.replace(replace_map,inplace=True)\n",
    "df.head()"
   ]
  },
  {
   "cell_type": "markdown",
   "id": "3d7279a9",
   "metadata": {},
   "source": [
    "### 5. Aplicação de modelos de machine learning"
   ]
  },
  {
   "cell_type": "markdown",
   "id": "05b5507c",
   "metadata": {},
   "source": [
    "#### 5.1. Decision Tree Classifier"
   ]
  },
  {
   "cell_type": "markdown",
   "id": "a7949fcf",
   "metadata": {},
   "source": [
    "Imports necessários para a implementação deste modelo"
   ]
  },
  {
   "cell_type": "code",
   "execution_count": null,
   "id": "472fb541",
   "metadata": {},
   "outputs": [],
   "source": [
    "from sklearn import preprocessing\n",
    "from sklearn.model_selection import train_test_split\n",
    "from sklearn.tree import DecisionTreeClassifier\n",
    "from sklearn.metrics import confusion_matrix\n",
    "from sklearn.metrics import recall_score\n",
    "from sklearn.metrics import accuracy_score\n",
    "from sklearn.metrics import precision_score\n",
    "from sklearn.metrics import roc_auc_score\n",
    "from sklearn.metrics import roc_curve\n",
    "from sklearn.metrics import f1_score\n",
    "from sklearn.metrics import fbeta_score\n",
    "from sklearn.metrics import mean_absolute_error\n",
    "from sklearn.metrics import mean_squared_error\n",
    "from sklearn.metrics import classification_report, plot_confusion_matrix\n",
    "from sklearn import tree"
   ]
  },
  {
   "cell_type": "code",
   "execution_count": null,
   "id": "421a1074",
   "metadata": {},
   "outputs": [],
   "source": [
    "x = df.drop(\"incidents\", axis = 1)"
   ]
  },
  {
   "cell_type": "code",
   "execution_count": null,
   "id": "83652314",
   "metadata": {},
   "outputs": [],
   "source": [
    "y = df.incidents"
   ]
  },
  {
   "cell_type": "code",
   "execution_count": null,
   "id": "8e4e48a9",
   "metadata": {},
   "outputs": [],
   "source": [
    "x_train, x_test, y_train,y_test = train_test_split(x,y,test_size=0.25,random_state=2022)"
   ]
  },
  {
   "cell_type": "markdown",
   "id": "6edbfd68",
   "metadata": {},
   "source": [
    "Treino do modelo"
   ]
  },
  {
   "cell_type": "code",
   "execution_count": null,
   "id": "547e9d43",
   "metadata": {},
   "outputs": [],
   "source": [
    "clf = DecisionTreeClassifier(random_state=2022)\n",
    "clf = clf.fit(x_train,y_train)"
   ]
  },
  {
   "cell_type": "markdown",
   "id": "b4cd8eca",
   "metadata": {},
   "source": [
    "Visualização da árvore de decisão"
   ]
  },
  {
   "cell_type": "code",
   "execution_count": null,
   "id": "09c1c2d1",
   "metadata": {},
   "outputs": [],
   "source": [
    "tree.export_graphviz(clf,\n",
    "                     out_file=\"tree_dsCompeticao.dot\",\n",
    "                     filled = True)\n",
    "\n",
    "from graphviz import Source\n",
    "Source.from_file(\"tree_dsCompeticao.dot\")"
   ]
  },
  {
   "cell_type": "markdown",
   "id": "bd404095",
   "metadata": {},
   "source": [
    "Geração de previsões"
   ]
  },
  {
   "cell_type": "code",
   "execution_count": null,
   "id": "8f7b65a1",
   "metadata": {},
   "outputs": [],
   "source": [
    "predictions = clf.predict(x_test)\n",
    "pd.DataFrame(predictions)"
   ]
  },
  {
   "cell_type": "code",
   "execution_count": null,
   "id": "a0dab2ad",
   "metadata": {},
   "outputs": [],
   "source": [
    "y_test"
   ]
  },
  {
   "cell_type": "markdown",
   "id": "36be26a3",
   "metadata": {},
   "source": [
    "Avaliação do modelo"
   ]
  },
  {
   "cell_type": "code",
   "execution_count": null,
   "id": "7dcb2053",
   "metadata": {},
   "outputs": [],
   "source": [
    "plot_confusion_matrix(clf, x_test, y_test) "
   ]
  },
  {
   "cell_type": "code",
   "execution_count": null,
   "id": "384efebf",
   "metadata": {},
   "outputs": [],
   "source": [
    "print(classification_report(y_test, predictions))"
   ]
  },
  {
   "cell_type": "code",
   "execution_count": null,
   "id": "0d42a862",
   "metadata": {},
   "outputs": [],
   "source": [
    "mean_absolute_error(y_test,predictions)"
   ]
  },
  {
   "cell_type": "markdown",
   "id": "22c05709",
   "metadata": {},
   "source": [
    "**Geração do ficheiro de submissão para o Decision Tree**"
   ]
  },
  {
   "cell_type": "code",
   "execution_count": null,
   "id": "fd35994b",
   "metadata": {},
   "outputs": [],
   "source": [
    "#Função genérica que irá ser reutilizada para os proximos modelos\n",
    "def download_submission_file(model, df_teste, filename):\n",
    "    predictions_dfT = model.predict(df_teste)\n",
    "    pd.DataFrame(predictions_dfT)\n",
    "    \n",
    "    replace_map = {'Incidents': {\"0\":'None' ,\"1\":'Low', \"2\":'Medium', \"3\":'High', \"4\":'Very_High'}}\n",
    "    \n",
    "    predictions_dfT = pd.DataFrame(predictions_dfT, columns = [\"Incidents\"])\n",
    "    predictions_dfT[\"Incidents\"] = predictions_dfT[\"Incidents\"].astype(str)\n",
    "    predictions_dfT.replace(replace_map,inplace=True)\n",
    "    predictions_dfT.index+=1\n",
    "    predictions_dfT.head()\n",
    "    \n",
    "    from pathlib import Path\n",
    "    filepath = Path(filename)\n",
    "    predictions_dfT.to_csv(filepath, index = True)"
   ]
  },
  {
   "cell_type": "code",
   "execution_count": null,
   "id": "2218b7ca",
   "metadata": {},
   "outputs": [],
   "source": [
    "download_submission_file(clf, df_teste, \"submission_files/decisionTree.csv\")"
   ]
  },
  {
   "cell_type": "markdown",
   "id": "3694869e",
   "metadata": {},
   "source": [
    "#### 5.2 Logistic Regression"
   ]
  },
  {
   "cell_type": "code",
   "execution_count": null,
   "id": "b2879d2b",
   "metadata": {},
   "outputs": [],
   "source": [
    "from sklearn.linear_model import LogisticRegression\n",
    "from sklearn.preprocessing import MinMaxScaler"
   ]
  },
  {
   "cell_type": "code",
   "execution_count": null,
   "id": "90795f87",
   "metadata": {},
   "outputs": [],
   "source": [
    "x = df.drop(\"incidents\", axis = 1)\n",
    "x"
   ]
  },
  {
   "cell_type": "code",
   "execution_count": 521,
   "id": "a0e28fdc",
   "metadata": {},
   "outputs": [
    {
     "data": {
      "text/plain": [
       "0       0\n",
       "1       0\n",
       "2       1\n",
       "3       4\n",
       "4       3\n",
       "       ..\n",
       "4995    3\n",
       "4996    0\n",
       "4997    0\n",
       "4998    0\n",
       "4999    0\n",
       "Name: incidents, Length: 5000, dtype: int64"
      ]
     },
     "execution_count": 521,
     "metadata": {},
     "output_type": "execute_result"
    }
   ],
   "source": [
    "y = df.incidents\n",
    "y"
   ]
  },
  {
   "cell_type": "code",
   "execution_count": 522,
   "id": "1f4201f1",
   "metadata": {},
   "outputs": [],
   "source": [
    "x_train, x_test, y_train,y_test = train_test_split(x,y,test_size=0.25,random_state=2022)"
   ]
  },
  {
   "cell_type": "code",
   "execution_count": 530,
   "id": "b0ca5e92",
   "metadata": {},
   "outputs": [],
   "source": [
    "lr = LogisticRegression(random_state=2022, solver=\"liblinear\") #mudar solver?"
   ]
  },
  {
   "cell_type": "code",
   "execution_count": 531,
   "id": "67800a49",
   "metadata": {},
   "outputs": [
    {
     "data": {
      "text/plain": [
       "LogisticRegression(random_state=2022, solver='liblinear')"
      ]
     },
     "execution_count": 531,
     "metadata": {},
     "output_type": "execute_result"
    }
   ],
   "source": [
    "lr.fit(x_train,y_train)"
   ]
  },
  {
   "cell_type": "code",
   "execution_count": 532,
   "id": "4a52f9dd",
   "metadata": {},
   "outputs": [
    {
     "data": {
      "text/plain": [
       "array([0, 1, 0, ..., 3, 3, 3], dtype=int64)"
      ]
     },
     "execution_count": 532,
     "metadata": {},
     "output_type": "execute_result"
    }
   ],
   "source": [
    "predictions_lr = lr.predict(x_test)\n",
    "predictions_lr"
   ]
  },
  {
   "cell_type": "code",
   "execution_count": 533,
   "id": "21964371",
   "metadata": {},
   "outputs": [
    {
     "data": {
      "text/plain": [
       "3419    1\n",
       "178     4\n",
       "3721    0\n",
       "3087    0\n",
       "3685    1\n",
       "       ..\n",
       "1266    2\n",
       "4556    4\n",
       "1371    2\n",
       "4911    3\n",
       "3642    3\n",
       "Name: incidents, Length: 1250, dtype: int64"
      ]
     },
     "execution_count": 533,
     "metadata": {},
     "output_type": "execute_result"
    }
   ],
   "source": [
    "y_test"
   ]
  },
  {
   "cell_type": "code",
   "execution_count": 534,
   "id": "4e47977f",
   "metadata": {},
   "outputs": [
    {
     "name": "stdout",
     "output_type": "stream",
     "text": [
      "              precision    recall  f1-score   support\n",
      "\n",
      "           0       0.82      0.98      0.89       521\n",
      "           1       0.58      0.41      0.48       169\n",
      "           2       0.62      0.03      0.07       144\n",
      "           3       0.60      0.78      0.68       262\n",
      "           4       0.79      0.78      0.79       154\n",
      "\n",
      "    accuracy                           0.73      1250\n",
      "   macro avg       0.68      0.60      0.58      1250\n",
      "weighted avg       0.71      0.73      0.68      1250\n",
      "\n"
     ]
    }
   ],
   "source": [
    "print(classification_report(y_test, predictions_lr))"
   ]
  },
  {
   "cell_type": "code",
   "execution_count": 535,
   "id": "54b01f67",
   "metadata": {},
   "outputs": [],
   "source": [
    "download_submission_file(lr, df_teste, \"submission_files/logisticRegression.csv\")"
   ]
  },
  {
   "cell_type": "markdown",
   "id": "a1b0fa84",
   "metadata": {},
   "source": [
    "#### 5.3 Support Vector Machine"
   ]
  },
  {
   "cell_type": "markdown",
   "id": "5a0b2bd5-8e3f-4b0b-b66d-aafab1dd17da",
   "metadata": {},
   "source": [
    "#### 5.4 Redes neuronais"
   ]
  },
  {
   "cell_type": "code",
   "execution_count": null,
   "id": "8ba9f004-13a2-4c71-bcda-2e56b399a087",
   "metadata": {},
   "outputs": [],
   "source": [
    "import tensorflow as tf\n",
    "\n",
    "from tensorflow.keras.models import Sequential\n",
    "\n",
    "from tensorflow.keras.layers import Dense, Dropout, BatchNormalization\n",
    "from tensorflow.keras.wrappers.scikit_learn import KerasRegressor\n",
    "from tensorflow.keras.wrappers.scikit_learn import KerasRegressor\n",
    "from sklearn.model_selection import GridSearchCV, KFold, train_test_split\n",
    "from sklearn.preprocessing import MinMaxScaler\n",
    "\n",
    "RANDOM_SEED = 2022\n",
    "\n",
    "print(\"TensorFlow version:\", tf.__version__)"
   ]
  },
  {
   "cell_type": "code",
   "execution_count": null,
   "id": "8501adab-5de3-433e-a79e-eb85ff51096b",
   "metadata": {},
   "outputs": [],
   "source": [
    "x = df.drop('incidents',axis=1)\n",
    "y = df[['incidents']]"
   ]
  },
  {
   "cell_type": "code",
   "execution_count": null,
   "id": "5734bcad-b540-4bf7-9ab0-cc71030acf1d",
   "metadata": {},
   "outputs": [],
   "source": [
    "df.info"
   ]
  },
  {
   "cell_type": "code",
   "execution_count": null,
   "id": "cd71e9a5",
   "metadata": {},
   "outputs": [],
   "source": [
    "df_teste"
   ]
  }
 ],
 "metadata": {
  "kernelspec": {
   "display_name": "Python 3",
   "language": "python",
   "name": "python3"
  },
  "language_info": {
   "codemirror_mode": {
    "name": "ipython",
    "version": 3
   },
   "file_extension": ".py",
   "mimetype": "text/x-python",
   "name": "python",
   "nbconvert_exporter": "python",
   "pygments_lexer": "ipython3",
   "version": "3.6.4"
  }
 },
 "nbformat": 4,
 "nbformat_minor": 5
}
