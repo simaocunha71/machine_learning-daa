{
 "cells": [
  {
   "cell_type": "markdown",
   "id": "d0be7b61",
   "metadata": {},
   "source": [
    "# TAREFA DATASET GRUPO\n",
    "\n",
    "Para esta fase, decidimos escolher um dataset referente a avaliações de vinhos. \n",
    "Pode ser encontrado neste link: https://www.kaggle.com/datasets/zynicide/wine-reviews <br>\n",
    "O objetivo desta fase é, através deste dataset, inferir acerca do valor de points que será dado a um dado vinho."
   ]
  },
  {
   "cell_type": "markdown",
   "id": "f99c993a",
   "metadata": {},
   "source": [
    "## TODO:\n",
    "* Resolver modelos que não estão a executar (e estão comentados) - demoram muito:\n",
    "    * SVR\n",
    "    * RN\n",
    "    * Voting\n",
    "    * Bagging\n",
    "    * Blending\n",
    "* Colocar dataset mais \"limpo\""
   ]
  },
  {
   "cell_type": "markdown",
   "id": "f3425fbd",
   "metadata": {},
   "source": [
    "### **1.** Importar as bibliotecas essenciais do Python para a elaboração desta tarefa"
   ]
  },
  {
   "cell_type": "code",
   "execution_count": 1,
   "id": "d2110514",
   "metadata": {},
   "outputs": [],
   "source": [
    "import sklearn as skl\n",
    "import numpy as np\n",
    "import pandas as pd\n",
    "import matplotlib.pyplot as plt\n",
    "import seaborn as sns\n",
    "pd.set_option('display.max_columns', None)\n",
    "\n",
    "import warnings\n",
    "warnings.filterwarnings('always')"
   ]
  },
  {
   "cell_type": "markdown",
   "id": "bf0e69e0",
   "metadata": {
    "tags": []
   },
   "source": [
    "### **2. Carregar o dataset para um dataframe da biblioteca Panda**"
   ]
  },
  {
   "cell_type": "code",
   "execution_count": 2,
   "id": "c5b1ae2b",
   "metadata": {},
   "outputs": [],
   "source": [
    "df = pd.read_csv('docs/winemag-data-130k-v2.csv', encoding=\"utf-8\", skipinitialspace=True)"
   ]
  },
  {
   "cell_type": "markdown",
   "id": "67994d89",
   "metadata": {
    "jp-MarkdownHeadingCollapsed": true,
    "tags": []
   },
   "source": [
    "### **3. Obtenção de informação acerca do dataset**"
   ]
  },
  {
   "cell_type": "markdown",
   "id": "6f6d0507",
   "metadata": {},
   "source": [
    "* **tipos de dados das features**"
   ]
  },
  {
   "cell_type": "code",
   "execution_count": 3,
   "id": "45f0c71d",
   "metadata": {
    "tags": []
   },
   "outputs": [
    {
     "name": "stdout",
     "output_type": "stream",
     "text": [
      "<class 'pandas.core.frame.DataFrame'>\n",
      "RangeIndex: 129971 entries, 0 to 129970\n",
      "Data columns (total 14 columns):\n",
      " #   Column                 Non-Null Count   Dtype  \n",
      "---  ------                 --------------   -----  \n",
      " 0   Unnamed: 0             129971 non-null  int64  \n",
      " 1   country                129908 non-null  object \n",
      " 2   description            129971 non-null  object \n",
      " 3   designation            92506 non-null   object \n",
      " 4   points                 129971 non-null  int64  \n",
      " 5   price                  120975 non-null  float64\n",
      " 6   province               129908 non-null  object \n",
      " 7   region_1               108724 non-null  object \n",
      " 8   region_2               50511 non-null   object \n",
      " 9   taster_name            103727 non-null  object \n",
      " 10  taster_twitter_handle  98758 non-null   object \n",
      " 11  title                  129971 non-null  object \n",
      " 12  variety                129970 non-null  object \n",
      " 13  winery                 129971 non-null  object \n",
      "dtypes: float64(1), int64(2), object(11)\n",
      "memory usage: 13.9+ MB\n"
     ]
    }
   ],
   "source": [
    "df.info()"
   ]
  },
  {
   "cell_type": "markdown",
   "id": "ab9ff096-9c59-4187-85ac-64e58ef63877",
   "metadata": {},
   "source": [
    "A feature objetivo, points, está preenchida em todas as linhas.<br>\n",
    "Muitas das outras features têm de ser preenchidas mais tarde ou retiradas completamente por estarem incompletas (como taster_twitter_handle)"
   ]
  },
  {
   "cell_type": "markdown",
   "id": "b5152fce",
   "metadata": {},
   "source": [
    "* **conteúdo do dataset**"
   ]
  },
  {
   "cell_type": "code",
   "execution_count": 4,
   "id": "258cac20",
   "metadata": {
    "scrolled": true,
    "tags": []
   },
   "outputs": [
    {
     "data": {
      "text/html": [
       "<div>\n",
       "<style scoped>\n",
       "    .dataframe tbody tr th:only-of-type {\n",
       "        vertical-align: middle;\n",
       "    }\n",
       "\n",
       "    .dataframe tbody tr th {\n",
       "        vertical-align: top;\n",
       "    }\n",
       "\n",
       "    .dataframe thead th {\n",
       "        text-align: right;\n",
       "    }\n",
       "</style>\n",
       "<table border=\"1\" class=\"dataframe\">\n",
       "  <thead>\n",
       "    <tr style=\"text-align: right;\">\n",
       "      <th></th>\n",
       "      <th>Unnamed: 0</th>\n",
       "      <th>country</th>\n",
       "      <th>description</th>\n",
       "      <th>designation</th>\n",
       "      <th>points</th>\n",
       "      <th>price</th>\n",
       "      <th>province</th>\n",
       "      <th>region_1</th>\n",
       "      <th>region_2</th>\n",
       "      <th>taster_name</th>\n",
       "      <th>taster_twitter_handle</th>\n",
       "      <th>title</th>\n",
       "      <th>variety</th>\n",
       "      <th>winery</th>\n",
       "    </tr>\n",
       "  </thead>\n",
       "  <tbody>\n",
       "    <tr>\n",
       "      <th>0</th>\n",
       "      <td>0</td>\n",
       "      <td>Italy</td>\n",
       "      <td>Aromas include tropical fruit, broom, brimston...</td>\n",
       "      <td>Vulkà Bianco</td>\n",
       "      <td>87</td>\n",
       "      <td>NaN</td>\n",
       "      <td>Sicily &amp; Sardinia</td>\n",
       "      <td>Etna</td>\n",
       "      <td>NaN</td>\n",
       "      <td>Kerin O’Keefe</td>\n",
       "      <td>@kerinokeefe</td>\n",
       "      <td>Nicosia 2013 Vulkà Bianco  (Etna)</td>\n",
       "      <td>White Blend</td>\n",
       "      <td>Nicosia</td>\n",
       "    </tr>\n",
       "    <tr>\n",
       "      <th>1</th>\n",
       "      <td>1</td>\n",
       "      <td>Portugal</td>\n",
       "      <td>This is ripe and fruity, a wine that is smooth...</td>\n",
       "      <td>Avidagos</td>\n",
       "      <td>87</td>\n",
       "      <td>15.0</td>\n",
       "      <td>Douro</td>\n",
       "      <td>NaN</td>\n",
       "      <td>NaN</td>\n",
       "      <td>Roger Voss</td>\n",
       "      <td>@vossroger</td>\n",
       "      <td>Quinta dos Avidagos 2011 Avidagos Red (Douro)</td>\n",
       "      <td>Portuguese Red</td>\n",
       "      <td>Quinta dos Avidagos</td>\n",
       "    </tr>\n",
       "    <tr>\n",
       "      <th>2</th>\n",
       "      <td>2</td>\n",
       "      <td>US</td>\n",
       "      <td>Tart and snappy, the flavors of lime flesh and...</td>\n",
       "      <td>NaN</td>\n",
       "      <td>87</td>\n",
       "      <td>14.0</td>\n",
       "      <td>Oregon</td>\n",
       "      <td>Willamette Valley</td>\n",
       "      <td>Willamette Valley</td>\n",
       "      <td>Paul Gregutt</td>\n",
       "      <td>@paulgwine</td>\n",
       "      <td>Rainstorm 2013 Pinot Gris (Willamette Valley)</td>\n",
       "      <td>Pinot Gris</td>\n",
       "      <td>Rainstorm</td>\n",
       "    </tr>\n",
       "    <tr>\n",
       "      <th>3</th>\n",
       "      <td>3</td>\n",
       "      <td>US</td>\n",
       "      <td>Pineapple rind, lemon pith and orange blossom ...</td>\n",
       "      <td>Reserve Late Harvest</td>\n",
       "      <td>87</td>\n",
       "      <td>13.0</td>\n",
       "      <td>Michigan</td>\n",
       "      <td>Lake Michigan Shore</td>\n",
       "      <td>NaN</td>\n",
       "      <td>Alexander Peartree</td>\n",
       "      <td>NaN</td>\n",
       "      <td>St. Julian 2013 Reserve Late Harvest Riesling ...</td>\n",
       "      <td>Riesling</td>\n",
       "      <td>St. Julian</td>\n",
       "    </tr>\n",
       "    <tr>\n",
       "      <th>4</th>\n",
       "      <td>4</td>\n",
       "      <td>US</td>\n",
       "      <td>Much like the regular bottling from 2012, this...</td>\n",
       "      <td>Vintner's Reserve Wild Child Block</td>\n",
       "      <td>87</td>\n",
       "      <td>65.0</td>\n",
       "      <td>Oregon</td>\n",
       "      <td>Willamette Valley</td>\n",
       "      <td>Willamette Valley</td>\n",
       "      <td>Paul Gregutt</td>\n",
       "      <td>@paulgwine</td>\n",
       "      <td>Sweet Cheeks 2012 Vintner's Reserve Wild Child...</td>\n",
       "      <td>Pinot Noir</td>\n",
       "      <td>Sweet Cheeks</td>\n",
       "    </tr>\n",
       "    <tr>\n",
       "      <th>...</th>\n",
       "      <td>...</td>\n",
       "      <td>...</td>\n",
       "      <td>...</td>\n",
       "      <td>...</td>\n",
       "      <td>...</td>\n",
       "      <td>...</td>\n",
       "      <td>...</td>\n",
       "      <td>...</td>\n",
       "      <td>...</td>\n",
       "      <td>...</td>\n",
       "      <td>...</td>\n",
       "      <td>...</td>\n",
       "      <td>...</td>\n",
       "      <td>...</td>\n",
       "    </tr>\n",
       "    <tr>\n",
       "      <th>129966</th>\n",
       "      <td>129966</td>\n",
       "      <td>Germany</td>\n",
       "      <td>Notes of honeysuckle and cantaloupe sweeten th...</td>\n",
       "      <td>Brauneberger Juffer-Sonnenuhr Spätlese</td>\n",
       "      <td>90</td>\n",
       "      <td>28.0</td>\n",
       "      <td>Mosel</td>\n",
       "      <td>NaN</td>\n",
       "      <td>NaN</td>\n",
       "      <td>Anna Lee C. Iijima</td>\n",
       "      <td>NaN</td>\n",
       "      <td>Dr. H. Thanisch (Erben Müller-Burggraef) 2013 ...</td>\n",
       "      <td>Riesling</td>\n",
       "      <td>Dr. H. Thanisch (Erben Müller-Burggraef)</td>\n",
       "    </tr>\n",
       "    <tr>\n",
       "      <th>129967</th>\n",
       "      <td>129967</td>\n",
       "      <td>US</td>\n",
       "      <td>Citation is given as much as a decade of bottl...</td>\n",
       "      <td>NaN</td>\n",
       "      <td>90</td>\n",
       "      <td>75.0</td>\n",
       "      <td>Oregon</td>\n",
       "      <td>Oregon</td>\n",
       "      <td>Oregon Other</td>\n",
       "      <td>Paul Gregutt</td>\n",
       "      <td>@paulgwine</td>\n",
       "      <td>Citation 2004 Pinot Noir (Oregon)</td>\n",
       "      <td>Pinot Noir</td>\n",
       "      <td>Citation</td>\n",
       "    </tr>\n",
       "    <tr>\n",
       "      <th>129968</th>\n",
       "      <td>129968</td>\n",
       "      <td>France</td>\n",
       "      <td>Well-drained gravel soil gives this wine its c...</td>\n",
       "      <td>Kritt</td>\n",
       "      <td>90</td>\n",
       "      <td>30.0</td>\n",
       "      <td>Alsace</td>\n",
       "      <td>Alsace</td>\n",
       "      <td>NaN</td>\n",
       "      <td>Roger Voss</td>\n",
       "      <td>@vossroger</td>\n",
       "      <td>Domaine Gresser 2013 Kritt Gewurztraminer (Als...</td>\n",
       "      <td>Gewürztraminer</td>\n",
       "      <td>Domaine Gresser</td>\n",
       "    </tr>\n",
       "    <tr>\n",
       "      <th>129969</th>\n",
       "      <td>129969</td>\n",
       "      <td>France</td>\n",
       "      <td>A dry style of Pinot Gris, this is crisp with ...</td>\n",
       "      <td>NaN</td>\n",
       "      <td>90</td>\n",
       "      <td>32.0</td>\n",
       "      <td>Alsace</td>\n",
       "      <td>Alsace</td>\n",
       "      <td>NaN</td>\n",
       "      <td>Roger Voss</td>\n",
       "      <td>@vossroger</td>\n",
       "      <td>Domaine Marcel Deiss 2012 Pinot Gris (Alsace)</td>\n",
       "      <td>Pinot Gris</td>\n",
       "      <td>Domaine Marcel Deiss</td>\n",
       "    </tr>\n",
       "    <tr>\n",
       "      <th>129970</th>\n",
       "      <td>129970</td>\n",
       "      <td>France</td>\n",
       "      <td>Big, rich and off-dry, this is powered by inte...</td>\n",
       "      <td>Lieu-dit Harth Cuvée Caroline</td>\n",
       "      <td>90</td>\n",
       "      <td>21.0</td>\n",
       "      <td>Alsace</td>\n",
       "      <td>Alsace</td>\n",
       "      <td>NaN</td>\n",
       "      <td>Roger Voss</td>\n",
       "      <td>@vossroger</td>\n",
       "      <td>Domaine Schoffit 2012 Lieu-dit Harth Cuvée Car...</td>\n",
       "      <td>Gewürztraminer</td>\n",
       "      <td>Domaine Schoffit</td>\n",
       "    </tr>\n",
       "  </tbody>\n",
       "</table>\n",
       "<p>129971 rows × 14 columns</p>\n",
       "</div>"
      ],
      "text/plain": [
       "        Unnamed: 0   country  \\\n",
       "0                0     Italy   \n",
       "1                1  Portugal   \n",
       "2                2        US   \n",
       "3                3        US   \n",
       "4                4        US   \n",
       "...            ...       ...   \n",
       "129966      129966   Germany   \n",
       "129967      129967        US   \n",
       "129968      129968    France   \n",
       "129969      129969    France   \n",
       "129970      129970    France   \n",
       "\n",
       "                                              description  \\\n",
       "0       Aromas include tropical fruit, broom, brimston...   \n",
       "1       This is ripe and fruity, a wine that is smooth...   \n",
       "2       Tart and snappy, the flavors of lime flesh and...   \n",
       "3       Pineapple rind, lemon pith and orange blossom ...   \n",
       "4       Much like the regular bottling from 2012, this...   \n",
       "...                                                   ...   \n",
       "129966  Notes of honeysuckle and cantaloupe sweeten th...   \n",
       "129967  Citation is given as much as a decade of bottl...   \n",
       "129968  Well-drained gravel soil gives this wine its c...   \n",
       "129969  A dry style of Pinot Gris, this is crisp with ...   \n",
       "129970  Big, rich and off-dry, this is powered by inte...   \n",
       "\n",
       "                                   designation  points  price  \\\n",
       "0                                 Vulkà Bianco      87    NaN   \n",
       "1                                     Avidagos      87   15.0   \n",
       "2                                          NaN      87   14.0   \n",
       "3                         Reserve Late Harvest      87   13.0   \n",
       "4           Vintner's Reserve Wild Child Block      87   65.0   \n",
       "...                                        ...     ...    ...   \n",
       "129966  Brauneberger Juffer-Sonnenuhr Spätlese      90   28.0   \n",
       "129967                                     NaN      90   75.0   \n",
       "129968                                   Kritt      90   30.0   \n",
       "129969                                     NaN      90   32.0   \n",
       "129970           Lieu-dit Harth Cuvée Caroline      90   21.0   \n",
       "\n",
       "                 province             region_1           region_2  \\\n",
       "0       Sicily & Sardinia                 Etna                NaN   \n",
       "1                   Douro                  NaN                NaN   \n",
       "2                  Oregon    Willamette Valley  Willamette Valley   \n",
       "3                Michigan  Lake Michigan Shore                NaN   \n",
       "4                  Oregon    Willamette Valley  Willamette Valley   \n",
       "...                   ...                  ...                ...   \n",
       "129966              Mosel                  NaN                NaN   \n",
       "129967             Oregon               Oregon       Oregon Other   \n",
       "129968             Alsace               Alsace                NaN   \n",
       "129969             Alsace               Alsace                NaN   \n",
       "129970             Alsace               Alsace                NaN   \n",
       "\n",
       "               taster_name taster_twitter_handle  \\\n",
       "0            Kerin O’Keefe          @kerinokeefe   \n",
       "1               Roger Voss            @vossroger   \n",
       "2             Paul Gregutt           @paulgwine    \n",
       "3       Alexander Peartree                   NaN   \n",
       "4             Paul Gregutt           @paulgwine    \n",
       "...                    ...                   ...   \n",
       "129966  Anna Lee C. Iijima                   NaN   \n",
       "129967        Paul Gregutt           @paulgwine    \n",
       "129968          Roger Voss            @vossroger   \n",
       "129969          Roger Voss            @vossroger   \n",
       "129970          Roger Voss            @vossroger   \n",
       "\n",
       "                                                    title         variety  \\\n",
       "0                       Nicosia 2013 Vulkà Bianco  (Etna)     White Blend   \n",
       "1           Quinta dos Avidagos 2011 Avidagos Red (Douro)  Portuguese Red   \n",
       "2           Rainstorm 2013 Pinot Gris (Willamette Valley)      Pinot Gris   \n",
       "3       St. Julian 2013 Reserve Late Harvest Riesling ...        Riesling   \n",
       "4       Sweet Cheeks 2012 Vintner's Reserve Wild Child...      Pinot Noir   \n",
       "...                                                   ...             ...   \n",
       "129966  Dr. H. Thanisch (Erben Müller-Burggraef) 2013 ...        Riesling   \n",
       "129967                  Citation 2004 Pinot Noir (Oregon)      Pinot Noir   \n",
       "129968  Domaine Gresser 2013 Kritt Gewurztraminer (Als...  Gewürztraminer   \n",
       "129969      Domaine Marcel Deiss 2012 Pinot Gris (Alsace)      Pinot Gris   \n",
       "129970  Domaine Schoffit 2012 Lieu-dit Harth Cuvée Car...  Gewürztraminer   \n",
       "\n",
       "                                          winery  \n",
       "0                                        Nicosia  \n",
       "1                            Quinta dos Avidagos  \n",
       "2                                      Rainstorm  \n",
       "3                                     St. Julian  \n",
       "4                                   Sweet Cheeks  \n",
       "...                                          ...  \n",
       "129966  Dr. H. Thanisch (Erben Müller-Burggraef)  \n",
       "129967                                  Citation  \n",
       "129968                           Domaine Gresser  \n",
       "129969                      Domaine Marcel Deiss  \n",
       "129970                          Domaine Schoffit  \n",
       "\n",
       "[129971 rows x 14 columns]"
      ]
     },
     "execution_count": 4,
     "metadata": {},
     "output_type": "execute_result"
    }
   ],
   "source": [
    "df"
   ]
  },
  {
   "cell_type": "markdown",
   "id": "36c1cdb7-b3b5-4222-beb2-a733153cab45",
   "metadata": {},
   "source": [
    "Reparamos que a feature Unnamed: 0 apenas serve como id, sendo portanto desnecessária. <br>\n",
    "Region 1 e 2 sao apenas especificações de province, dependendo do seu número de valores únicos, talvez sejam um overload de informação que é melhor excluir. <br>\n",
    "Da mesma forma, taster_twitter_handle apenas complementa taster_name."
   ]
  },
  {
   "cell_type": "markdown",
   "id": "7561aa58",
   "metadata": {},
   "source": [
    "* **estatística**"
   ]
  },
  {
   "cell_type": "code",
   "execution_count": 5,
   "id": "5d441b59",
   "metadata": {},
   "outputs": [
    {
     "data": {
      "text/html": [
       "<div>\n",
       "<style scoped>\n",
       "    .dataframe tbody tr th:only-of-type {\n",
       "        vertical-align: middle;\n",
       "    }\n",
       "\n",
       "    .dataframe tbody tr th {\n",
       "        vertical-align: top;\n",
       "    }\n",
       "\n",
       "    .dataframe thead th {\n",
       "        text-align: right;\n",
       "    }\n",
       "</style>\n",
       "<table border=\"1\" class=\"dataframe\">\n",
       "  <thead>\n",
       "    <tr style=\"text-align: right;\">\n",
       "      <th></th>\n",
       "      <th>Unnamed: 0</th>\n",
       "      <th>points</th>\n",
       "      <th>price</th>\n",
       "    </tr>\n",
       "  </thead>\n",
       "  <tbody>\n",
       "    <tr>\n",
       "      <th>count</th>\n",
       "      <td>129971.000000</td>\n",
       "      <td>129971.000000</td>\n",
       "      <td>120975.000000</td>\n",
       "    </tr>\n",
       "    <tr>\n",
       "      <th>mean</th>\n",
       "      <td>64985.000000</td>\n",
       "      <td>88.447138</td>\n",
       "      <td>35.363389</td>\n",
       "    </tr>\n",
       "    <tr>\n",
       "      <th>std</th>\n",
       "      <td>37519.540256</td>\n",
       "      <td>3.039730</td>\n",
       "      <td>41.022218</td>\n",
       "    </tr>\n",
       "    <tr>\n",
       "      <th>min</th>\n",
       "      <td>0.000000</td>\n",
       "      <td>80.000000</td>\n",
       "      <td>4.000000</td>\n",
       "    </tr>\n",
       "    <tr>\n",
       "      <th>25%</th>\n",
       "      <td>32492.500000</td>\n",
       "      <td>86.000000</td>\n",
       "      <td>17.000000</td>\n",
       "    </tr>\n",
       "    <tr>\n",
       "      <th>50%</th>\n",
       "      <td>64985.000000</td>\n",
       "      <td>88.000000</td>\n",
       "      <td>25.000000</td>\n",
       "    </tr>\n",
       "    <tr>\n",
       "      <th>75%</th>\n",
       "      <td>97477.500000</td>\n",
       "      <td>91.000000</td>\n",
       "      <td>42.000000</td>\n",
       "    </tr>\n",
       "    <tr>\n",
       "      <th>max</th>\n",
       "      <td>129970.000000</td>\n",
       "      <td>100.000000</td>\n",
       "      <td>3300.000000</td>\n",
       "    </tr>\n",
       "  </tbody>\n",
       "</table>\n",
       "</div>"
      ],
      "text/plain": [
       "          Unnamed: 0         points          price\n",
       "count  129971.000000  129971.000000  120975.000000\n",
       "mean    64985.000000      88.447138      35.363389\n",
       "std     37519.540256       3.039730      41.022218\n",
       "min         0.000000      80.000000       4.000000\n",
       "25%     32492.500000      86.000000      17.000000\n",
       "50%     64985.000000      88.000000      25.000000\n",
       "75%     97477.500000      91.000000      42.000000\n",
       "max    129970.000000     100.000000    3300.000000"
      ]
     },
     "execution_count": 5,
     "metadata": {},
     "output_type": "execute_result"
    }
   ],
   "source": [
    "df.describe()"
   ]
  },
  {
   "cell_type": "markdown",
   "id": "cb9c76dd-141b-459a-bdbd-f1a2d01ef0b7",
   "metadata": {},
   "source": [
    "Podemos ver que embora points seja da perspetiva de fora um atributo de classificação que iria de 0-100, neste dataset apenas temos valores entre 80 e 100.<br>\n",
    "O valor máximo de preço é muito superior à sua média (possível necessidade de tratar de outliers).\n"
   ]
  },
  {
   "cell_type": "markdown",
   "id": "e16bf2f7-58b6-40b7-8aa8-2542d240b6e4",
   "metadata": {},
   "source": [
    "* **Distribuição da feature target**"
   ]
  },
  {
   "cell_type": "code",
   "execution_count": 6,
   "id": "556a6ef7-31ef-4a30-9221-8ef2f5ee1196",
   "metadata": {
    "scrolled": true,
    "tags": []
   },
   "outputs": [
    {
     "data": {
      "text/plain": [
       "<AxesSubplot:>"
      ]
     },
     "execution_count": 6,
     "metadata": {},
     "output_type": "execute_result"
    },
    {
     "data": {
      "image/png": "[encoded data removed]",
      "text/plain": [
       "<Figure size 432x288 with 1 Axes>"
      ]
     },
     "metadata": {
      "needs_background": "light"
     },
     "output_type": "display_data"
    }
   ],
   "source": [
    "df.points.hist()"
   ]
  },
  {
   "cell_type": "markdown",
   "id": "513b8a69-81b8-4487-bef9-d303f0fbc56c",
   "metadata": {},
   "source": [
    "Distribuição do target é aproximadamente normal, o que será benéfico para a criação de modelos, como por exemplo de regressão linear."
   ]
  },
  {
   "cell_type": "markdown",
   "id": "7105f47a-0132-4d7d-8676-95d819b5d3a7",
   "metadata": {},
   "source": [
    "* **Distribuição da feature price**"
   ]
  },
  {
   "cell_type": "code",
   "execution_count": 7,
   "id": "bee6a747-1f4b-425a-a1b4-351184db86be",
   "metadata": {
    "scrolled": true,
    "tags": []
   },
   "outputs": [
    {
     "data": {
      "text/plain": [
       "<AxesSubplot:>"
      ]
     },
     "execution_count": 7,
     "metadata": {},
     "output_type": "execute_result"
    },
    {
     "data": {
      "image/png": "[encoded data removed]",
      "text/plain": [
       "<Figure size 432x288 with 1 Axes>"
      ]
     },
     "metadata": {
      "needs_background": "light"
     },
     "output_type": "display_data"
    }
   ],
   "source": [
    "df.price.hist(bins=[0,20,50,100,200,300,1000,2000,2500,3000])"
   ]
  },
  {
   "cell_type": "markdown",
   "id": "3de4423a-d05f-439c-b3e1-6c2283135283",
   "metadata": {},
   "source": [
    "Através do grafo dos preços (possível segunda feature alvo), podemos ver que a grande maioria destes se distribui por volta de valores menores que 100."
   ]
  },
  {
   "cell_type": "markdown",
   "id": "1c565635-76f8-49cc-b2e1-d43e2b3074ef",
   "metadata": {},
   "source": [
    "* **Análise dos valores únicos das features**"
   ]
  },
  {
   "cell_type": "code",
   "execution_count": 8,
   "id": "38a369f5-d7ed-41bb-9fd3-3143cab934da",
   "metadata": {
    "tags": []
   },
   "outputs": [
    {
     "name": "stdout",
     "output_type": "stream",
     "text": [
      "Unnamed: 0: [     0      1      2 ... 129968 129969 129970]\n",
      "Quantidade: 129971\n",
      "---------------------------------------\n",
      "country: ['Italy' 'Portugal' 'US' 'Spain' 'France' 'Germany' 'Argentina' 'Chile'\n",
      " 'Australia' 'Austria' 'South Africa' 'New Zealand' 'Israel' 'Hungary'\n",
      " 'Greece' 'Romania' 'Mexico' 'Canada' nan 'Turkey' 'Czech Republic'\n",
      " 'Slovenia' 'Luxembourg' 'Croatia' 'Georgia' 'Uruguay' 'England' 'Lebanon'\n",
      " 'Serbia' 'Brazil' 'Moldova' 'Morocco' 'Peru' 'India' 'Bulgaria' 'Cyprus'\n",
      " 'Armenia' 'Switzerland' 'Bosnia and Herzegovina' 'Ukraine' 'Slovakia'\n",
      " 'Macedonia' 'China' 'Egypt']\n",
      "Quantidade: 43\n",
      "---------------------------------------\n",
      "description: [\"Aromas include tropical fruit, broom, brimstone and dried herb. The palate isn't overly expressive, offering unripened apple, citrus and dried sage alongside brisk acidity.\"\n",
      " \"This is ripe and fruity, a wine that is smooth while still structured. Firm tannins are filled out with juicy red berry fruits and freshened with acidity. It's  already drinkable, although it will certainly be better from 2016.\"\n",
      " 'Tart and snappy, the flavors of lime flesh and rind dominate. Some green pineapple pokes through, with crisp acidity underscoring the flavors. The wine was all stainless-steel fermented.'\n",
      " ...\n",
      " 'Well-drained gravel soil gives this wine its crisp and dry character. It is ripe and fruity, although the spice is subdued in favor of a more serious structure. This is a wine to age for a couple of years, so drink from 2017.'\n",
      " 'A dry style of Pinot Gris, this is crisp with some acidity. It also has weight and a solid, powerful core of spice and baked apple flavors. With its structure still developing, the wine needs to age. Drink from 2015.'\n",
      " 'Big, rich and off-dry, this is powered by intense spiciness and rounded texture. Lychees dominate the fruit profile, giving an opulent feel to the aftertaste. Drink now.']\n",
      "Quantidade: 119955\n",
      "---------------------------------------\n",
      "designation: ['Vulkà Bianco' 'Avidagos' nan ...\n",
      " 'Gimblett Gravels Merlot-Cabernet Sauvignon-Malbec' 'Irongate'\n",
      " 'Lieu-dit Harth Cuvée Caroline']\n",
      "Quantidade: 37979\n",
      "---------------------------------------\n",
      "points: [ 87  86  85  88  92  91  90  89  83  82  81  80 100  98  97  96  95  93\n",
      "  94  84  99]\n",
      "Quantidade: 21\n",
      "---------------------------------------\n",
      "price: [  nan   15.   14.   13.   65.   16.   24.   12.   27.   19.   30.   34.\n",
      "   28.   32.   23.   20.   22.   35.   69.   10.   17.   50.   21.   11.\n",
      "    9.   40.   55.  100.   25.   58.   26.   46.   75.   18.   29.   85.\n",
      "   44.   80.   70.   36.   39.   45.   48.   68.   78.   60.  112.   84.\n",
      "   64.   38.   95.   62.   57.   49.   37.   52.   41.  215.  125.   56.\n",
      "    7.   42.  350.  775.  225.  150.  320.  630.  365.   66.  110.  200.\n",
      "  380.  160.   89.   54.  115.   73.   72.  130.   88.   59.   90.   53.\n",
      "   43.  120.    8.  102.   33.  105.  101.  117.  175.  180.   98.   47.\n",
      "   31.   86.  135.  154.  132.   71.   92.   94. 1900.  170.  220. 1100.\n",
      "   82.  280. 1200.  195. 1300.  400.  163.    6.  126.   63.   74.  300.\n",
      "  270.    4.   76.   79.  107.  106.  260.   96.    5.  164.  190.  205.\n",
      "  145.   67.  140.  210.  161.  155.  146.  230.   51.   61.  104.  148.\n",
      "  209.   99.  430.  550.  475.  235.  165.  375.  398.  273.  152.  500.\n",
      "  285.  250.   81.  286.  262.  113.   77.  275.   91.  450.  114.  224.\n",
      "  138.  299.  359.  185.  149.  109.   87.  119.   97.  127.   93.  330.\n",
      "  193.   83.  460.  174.  187.  520.  166.  257.  199.  103.  108.  142.\n",
      "  333.  144.  153.  234.  159.  698. 2500.  770.  141.  316.  240.  116.\n",
      "  111.  151.  128.  305.  129.  179.  279.  325.  685.  600.  143.  304.\n",
      "  510.  370.  440.  360.  118.  314.  169.  315.  133.  214.  212.  625.\n",
      "  355.  171.  306.  242.  124.  206.  290.  158.  367.  265.  184.  231.\n",
      "  540.  474.  227.  886.  569.  710.  249.  388.  236.  194.  243.  167.\n",
      "  245.  147.  122.  207.  595.  172.  248.  317.  259.  800. 1000.  162.\n",
      "  391.  139.  134.  253.  301.  780.  293.  428.  980.  323.  182.  419.\n",
      "  255.  476.  131.  181.  292.  319.  764.  137.  574.  451.  310.  258.\n",
      "  750.  467.  208.  168.  307.  222.  932.  767.  426.  588.  850.  820.\n",
      "  530.  385.  203.  425.  202.  282.  226.  196.  229. 2000.  480.  496.\n",
      "  295.  399.  650.  219.  486.  455.  580.  545.  156.  272.  412.  188.\n",
      "  216.  525.  276.  157.  237.  790.  121.  303. 3300.  369.  322.  410.\n",
      "  420.  197.  247.  757.  328.  390.  499.  469.  252.  602.  353.  973.\n",
      "  177.  415.  351.  900.  312.  617.  639.  288.  468.  281.  357.  123.\n",
      "  675.  560.  269.  395.  204.  136.  495.  660.  176.  183. 1500.  463.\n",
      "  448.  376.  198.  575. 1125.  470.  268.  189.  445.  612.  271.  228.\n",
      "  191.  239. 2013.  335.  238.  672.  848.]\n",
      "Quantidade: 390\n",
      "---------------------------------------\n",
      "province: ['Sicily & Sardinia' 'Douro' 'Oregon' 'Michigan' 'Northern Spain' 'Alsace'\n",
      " 'Rheinhessen' 'California' 'Mosel' 'Other' 'Mendoza Province' 'Virginia'\n",
      " 'Beaujolais' 'Colchagua Valley' 'Southern Italy' 'Maule Valley'\n",
      " 'Bordeaux' 'Maipo Valley' 'Washington' 'Central Italy' 'Champagne'\n",
      " 'Burgundy' 'South Australia' 'Tejo' 'Rapel Valley' 'Galicia'\n",
      " 'France Other' 'Tuscany' 'Burgenland' 'New York' 'Leyda Valley'\n",
      " 'Piedmont' 'Stellenbosch' 'Simonsberg-Stellenbosch' 'Walker Bay'\n",
      " 'Alentejano' 'Central Spain' 'Southwest France' 'Aconcagua Valley'\n",
      " 'Loncomilla Valley' 'Marlborough' 'Northeastern Italy'\n",
      " 'Casablanca Valley' 'Veneto' 'Western Cape' 'Judean Hills' 'Alentejo'\n",
      " 'Coastal Region' 'Rhône Valley' 'Galilee' 'Beira Atlantico' 'Tokaj'\n",
      " 'Leithaberg' 'Santorini' 'Kremstal' 'Catalonia' 'Recas' \"Hawke's Bay\"\n",
      " 'Curicó Valley' 'Limarí Valley' 'Colchagua Costa' 'Languedoc-Roussillon'\n",
      " 'Provence' 'Victoria' 'Rheingau' 'Tokaji' 'Naoussa' 'Valle de Guadalupe'\n",
      " 'Central Valley' 'Lontué Valley' 'Italy Other' 'Weinviertel'\n",
      " 'Thermenregion' 'Niederösterreich' 'Wagram' 'Loire Valley' 'Lombardy'\n",
      " 'Ontario' 'Österreichischer Sekt' 'Kamptal' 'Steiermark' 'Südsteiermark'\n",
      " 'Crete' 'Vinho Verde' 'Idaho' 'Western Australia' 'Levante'\n",
      " 'Martinborough' 'Central Otago' 'Lisboa' 'Texas' 'Península de Setúbal'\n",
      " 'Australia Other' 'Tasmania' 'Franken' 'Ahr' 'Nahe' nan 'Dealu Mare'\n",
      " 'Port' 'Darling' 'Chile' 'Südoststeiermark' 'Corinth' 'Halkidiki'\n",
      " 'Thrace' 'Pfalz' 'Robertson' 'Dan' 'Northwestern Italy' 'Andalucia'\n",
      " 'Awatere Valley' 'Wiener Gemischter Satz' 'Wachau' 'Pennsylvania'\n",
      " 'Swartland' 'Dão' 'Wagram-Donauland' 'Rio Claro' 'Villány'\n",
      " 'Cachapoal Valley' 'Jidvei' 'America' 'Traisental' 'Bairrada'\n",
      " 'Negev Hills' 'Ribatejano' 'Duriense' 'New Jersey' 'Beiras'\n",
      " 'Spanish Islands' 'Upper Galilee' 'Vinho Espumante' 'Epanomi' 'Nemea'\n",
      " 'Peloponnese' 'Aconcagua Costa' 'Moravia' 'Slovenia' 'Terras do Dão'\n",
      " 'Beira Interior' 'Panciu' 'Bío Bío Valley' 'Romania'\n",
      " 'Portuguese Table Wine' 'Minho' 'Missouri' 'New Mexico' 'Nevada'\n",
      " 'Bucelas' 'Peumo' 'San Antonio' 'Carnuntum' 'Estremadura' 'Canterbury'\n",
      " 'Spain Other' 'Drama' 'Ella Valley' 'Moselle Luxembourgeoise'\n",
      " 'Württemberg' 'Baden' 'Pangeon' 'Elqui Valley' 'Wairau Valley' 'Istria'\n",
      " 'Peljesac' 'Kakheti' 'Canelones' 'England' 'Marchigue' 'Paarl'\n",
      " 'Durbanville' 'Weinland Österreich' 'Mantinia' 'Chalkidiki' 'Lebanon'\n",
      " 'Setubal' 'Mosel-Saar-Ruwer' 'Colorado' 'Pocerina' 'British Columbia'\n",
      " 'Puente Alto' 'Kumeu' 'Trás-os-Montes' 'Shomron' 'Rapsani' 'Vienna'\n",
      " 'New South Wales' 'Nelson' 'Waipara Valley' 'Constantia' 'Arizona'\n",
      " 'Pinto Bandeira' 'Primorska' 'Moldova' 'Uruguay' 'Zenata' 'South Africa'\n",
      " 'Massachusetts' 'Ohio' 'Ica' 'San Vicente' 'Nashik' 'Franschhoek'\n",
      " 'South Island' 'Atlantida' 'Thracian Valley' 'Tarnave' 'Vipavska Dolina'\n",
      " 'Bekaa Valley' 'Elgin' 'Itata Valley' 'Table wine' 'Samson' 'Madeira'\n",
      " 'Cyprus' 'Pageon' 'Vinho Espumante de Qualidade' 'Wellington'\n",
      " 'Danube River Plains' 'Gisborne' 'Obidos' 'Wairarapa' 'Armenia'\n",
      " 'Santa Cruz' 'Korčula' 'Viile Timisului' 'Illinois' 'Aegean'\n",
      " 'Simonsberg-Paarl' 'Juanico' 'Black Sea Coastal' 'Santa Catarina'\n",
      " 'Overberg' 'Atalanti Valley' 'Sebes' 'Moscatel de Setúbal' 'Macedonia'\n",
      " 'Ribatejo' 'Germany' 'Palmela' 'Galil' 'Kras' 'Croatia' 'Waipara'\n",
      " 'Olifants River' 'Montevideo' 'Campanha' 'Israel' 'Neusiedlersee'\n",
      " 'Hungary' 'Lolol Valley' 'Cauquenes Valley' 'Groenekloof' 'Alenquer'\n",
      " 'Goriska Brda' 'Murfatlar' 'Moscatel do Douro' 'Washington-Oregon'\n",
      " 'New Zealand' 'Serra Gaúcha' 'San Jose' 'Vale dos Vinhedos'\n",
      " 'Mittelburgenland' 'Lutzville Valley' 'North Carolina' 'Apalta' 'Malleco'\n",
      " 'Guerrouane' 'Valais' 'Choapa Valley' 'Georgia' 'Ankara' 'Samos'\n",
      " 'Mittelrhein' 'Eisenberg' 'Sagrada Familia' 'Austria' 'Mostar' 'Iowa'\n",
      " 'Tulbagh' 'Cederberg' 'Hemel en Aarde' 'Ceres Plateau' 'Bot River'\n",
      " 'Patras' 'Korinthia' 'Greece' 'San Clemente' 'Podunavlje' 'Florina'\n",
      " 'Buin' 'Haut-Judeé' 'Ukraine' 'Terras do Sado'\n",
      " 'Maipo Valley-Colchagua Valley' 'Brazil' 'Breedekloof'\n",
      " 'Leyda Valley-Maipo Valley' 'Vermont' 'Switzerland' 'Waitaki Valley'\n",
      " 'Eger' 'Golan Heights' 'Fruška Gora' 'Philadelphia' 'Muzla' 'Mátra'\n",
      " 'Pirque' 'Negev' 'Pitsilia Mountains' 'East Coast'\n",
      " 'Mavrodaphne of Patras' 'Attica' 'Progreso' 'Elazığ-Diyarbakir'\n",
      " 'Jonkershoek Valley' 'Tikves' 'Vale Trentino' 'Turkey' 'Waiheke Island'\n",
      " 'Molina' 'Serra do Sudeste' 'Dalmatian Coast' 'Eilandia'\n",
      " 'Dealurile Munteniei' 'Thraki' 'Curicó and Maipo Valleys' 'Štajerska'\n",
      " 'Middle and South Dalmatia' 'Kentucky' 'Župa' 'Pafos' 'Monemvasia'\n",
      " 'Szekszárd' 'Elazığ' 'Cappadocia' 'Kutjevo' 'Ismarikos' 'Connecticut'\n",
      " 'Sithonia' 'Curicó and Leyda Valleys' 'Agioritikos'\n",
      " 'Casablanca-Curicó Valley' 'Piekenierskloof' 'Elim' 'Malgas' 'Beotia'\n",
      " 'Algarve' 'Retsina' 'Amindeo' 'Coelemu' 'Cape South Coast' 'Sopron'\n",
      " 'Bulgaria' 'North Dalmatia' 'Northern Cape' 'Vinho da Mesa' 'Hvar'\n",
      " 'Cephalonia' 'Lemesos' 'Cahul' 'Cyclades' 'Breede River Valley' 'Ticino'\n",
      " 'Vlootenburg' 'Brda' 'Dingač' 'Morocco' 'Achaia' 'Polkadraai Hills'\n",
      " 'Rhode Island' 'Amyndeon' 'Vânju Mare' 'Hrvatsko Primorje'\n",
      " 'Central Greece' 'Dolenjska' 'Österreichischer Perlwein' 'Requinoa'\n",
      " 'Mavrodaphne de Cephalonie' 'Goumenissa' 'Portugal' 'Messinia' 'Lakonia'\n",
      " 'Markopoulo' 'Vinho Licoroso' 'Paardeberg'\n",
      " 'San Antonio de las Minas Valley' 'Krania Olympus' 'Corinthia'\n",
      " 'Slovenska Istra' 'Commandaria' 'Gladstone' 'Jerusalem Hills'\n",
      " 'Mount Athos' 'Colares' 'Helderberg' 'Casablanca & Leyda Valleys'\n",
      " 'Dealurile Hușilor' 'Urla-Thrace' 'Südburgenland' 'Cape Peninsula'\n",
      " 'Codru Region' 'Sterea Ellada' 'Muscat of Patras' 'Imathia' 'Alenteo'\n",
      " 'Canada Other' 'Letrinon' 'Muscat of Kefallonian' 'Thessalikos' 'Hawaii'\n",
      " 'China' 'Limnos' 'Egypt' 'Viile Timis' 'Devon Valley' 'Krk' 'Arcadia'\n",
      " 'Cape Agulhas' 'Kathikas' 'Vin de Pays de Velvendo' 'Landwein Rhein'\n",
      " 'Lesbos' 'Távora-Varosa' 'Neuchâtel']\n",
      "Quantidade: 425\n",
      "---------------------------------------\n",
      "region_1: ['Etna' nan 'Willamette Valley' ... 'Del Veneto' 'Bardolino Superiore'\n",
      " 'Paestum']\n",
      "Quantidade: 1229\n",
      "---------------------------------------\n",
      "region_2: [nan 'Willamette Valley' 'Napa' 'Sonoma' 'Central Coast' 'Oregon Other'\n",
      " 'Central Valley' 'North Coast' 'Columbia Valley' 'California Other'\n",
      " 'Finger Lakes' 'Sierra Foothills' 'New York Other' 'Long Island'\n",
      " 'Napa-Sonoma' 'Southern Oregon' 'Washington Other' 'South Coast']\n",
      "Quantidade: 17\n",
      "---------------------------------------\n",
      "taster_name: ['Kerin O’Keefe' 'Roger Voss' 'Paul Gregutt' 'Alexander Peartree'\n",
      " 'Michael Schachner' 'Anna Lee C. Iijima' 'Virginie Boone' 'Matt Kettmann'\n",
      " nan 'Sean P. Sullivan' 'Jim Gordon' 'Joe Czerwinski'\n",
      " 'Anne Krebiehl\\xa0MW' 'Lauren Buzzeo' 'Mike DeSimone' 'Jeff Jenssen'\n",
      " 'Susan Kostrzewa' 'Carrie Dykes' 'Fiona Adams' 'Christina Pickard']\n"
     ]
    },
    {
     "name": "stdout",
     "output_type": "stream",
     "text": [
      "Quantidade: 19\n",
      "---------------------------------------\n",
      "taster_twitter_handle: ['@kerinokeefe' '@vossroger' '@paulgwine\\xa0' nan '@wineschach' '@vboone'\n",
      " '@mattkettmann' '@wawinereport' '@gordone_cellars' '@JoeCz' '@AnneInVino'\n",
      " '@laurbuzz' '@worldwineguys' '@suskostrzewa' '@bkfiona' '@winewchristina']\n",
      "Quantidade: 15\n",
      "---------------------------------------\n",
      "title: ['Nicosia 2013 Vulkà Bianco  (Etna)'\n",
      " 'Quinta dos Avidagos 2011 Avidagos Red (Douro)'\n",
      " 'Rainstorm 2013 Pinot Gris (Willamette Valley)' ...\n",
      " 'Domaine Gresser 2013 Kritt Gewurztraminer (Alsace)'\n",
      " 'Domaine Marcel Deiss 2012 Pinot Gris (Alsace)'\n",
      " 'Domaine Schoffit 2012 Lieu-dit Harth Cuvée Caroline Gewurztraminer (Alsace)']\n",
      "Quantidade: 118840\n",
      "---------------------------------------\n",
      "variety: ['White Blend' 'Portuguese Red' 'Pinot Gris' 'Riesling' 'Pinot Noir'\n",
      " 'Tempranillo-Merlot' 'Frappato' 'Gewürztraminer' 'Cabernet Sauvignon'\n",
      " 'Nerello Mascalese' 'Chardonnay' 'Malbec' 'Tempranillo Blend' 'Meritage'\n",
      " 'Red Blend' 'Merlot' \"Nero d'Avola\" 'Chenin Blanc' 'Gamay'\n",
      " 'Sauvignon Blanc' 'Viognier-Chardonnay' 'Primitivo' 'Catarratto'\n",
      " 'Inzolia' 'Petit Verdot' 'Monica' 'Bordeaux-style White Blend' 'Grillo'\n",
      " 'Sangiovese' 'Cabernet Franc' 'Champagne Blend'\n",
      " 'Bordeaux-style Red Blend' 'Aglianico' 'Petite Sirah' 'Touriga Nacional'\n",
      " 'Carmenère' 'Albariño' 'Petit Manseng' 'Rosé' 'Zinfandel' 'Vernaccia'\n",
      " 'Rosato' 'Grüner Veltliner' 'Viognier' 'Vermentino' 'Grenache Blanc'\n",
      " 'Syrah' 'Nebbiolo' 'Shiraz-Cabernet Sauvignon' 'Pinot Blanc'\n",
      " 'Alsace white blend' 'Barbera' 'Rhône-style Red Blend' 'Portuguese White'\n",
      " 'Graciano' 'Tannat-Cabernet' 'Sauvignon' 'Sangiovese Grosso' 'Torrontés'\n",
      " 'Prugnolo Gentile' 'G-S-M' 'Verdejo' 'Fumé Blanc' 'Furmint'\n",
      " 'Pinot Bianco' 'Bonarda' 'Shiraz' 'Montepulciano' 'Moscato' 'Grenache'\n",
      " 'Ugni Blanc-Colombard' 'Syrah-Viognier' 'Blaufränkisch' 'Friulano'\n",
      " 'Assyrtico' 'Carignan-Grenache' 'Sagrantino' 'Savagnin'\n",
      " 'Cabernet Sauvignon-Syrah' 'Prosecco' 'Vignoles' 'Sparkling Blend'\n",
      " 'Muscat' 'Muscadelle' 'Shiraz-Viognier' 'Garganega' 'Pinot Grigio'\n",
      " 'Tempranillo' 'Zierfandler' 'Cortese' 'Mencía' 'Zweigelt' 'Melon'\n",
      " 'Rhône-style White Blend' 'Vidal' 'Cannonau' 'Verdelho' 'Marsanne'\n",
      " 'Scheurebe' 'Kerner' 'Syrah-Grenache' 'Dolcetto' 'Vilana' 'Glera' 'Viura'\n",
      " 'Garnacha Tintorera' 'Pinot Nero' 'Roter Veltliner' 'Pinotage' 'Sémillon'\n",
      " 'Pinot Noir-Gamay' 'Antão Vaz' 'Cabernet Sauvignon-Carmenère'\n",
      " 'Verdejo-Viura' 'Verduzzo' 'Verdicchio' 'Silvaner' 'Colombard'\n",
      " 'Carricante' 'Sylvaner' 'Fiano' 'Früburgunder' 'Sousão' 'Roussanne'\n",
      " 'Avesso' 'Cinsault' 'Chinuri' 'Tinta Miúda'\n",
      " 'Muscat Blanc à Petits Grains' 'Portuguese Sparkling' 'Monastrell'\n",
      " 'Xarel-lo' 'Greco' 'Trebbiano' 'Corvina, Rondinella, Molinara' 'Port'\n",
      " 'Chenin Blanc-Chardonnay' 'Insolia' 'Merlot-Malbec' 'Ribolla Gialla'\n",
      " 'Cabernet Sauvignon-Merlot' 'Duras' 'Weissburgunder' 'Roditis' 'Traminer'\n",
      " 'Papaskarasi' 'Tannat-Syrah' 'Marsanne-Roussanne' 'Charbono'\n",
      " 'Merlot-Argaman' 'Prié Blanc' 'Sherry' 'Provence red blend' 'Tannat'\n",
      " 'Zibibbo' 'Falanghina' 'Garnacha' 'Negroamaro' 'Mourvèdre'\n",
      " 'Syrah-Cabernet' 'Müller-Thurgau' 'Pinot Meunier'\n",
      " 'Cabernet Sauvignon-Sangiovese' 'Austrian Red Blend' 'Teroldego'\n",
      " 'Pansa Blanca' 'Muskat Ottonel' 'Sauvignon Blanc-Semillon' 'Claret'\n",
      " 'Semillon-Sauvignon Blanc' 'Bical' 'Moscatel' 'Rosado' 'Viura-Chardonnay'\n",
      " 'Baga' 'Malvasia Bianca' 'Gelber Muskateller' 'Malbec-Merlot'\n",
      " 'Monastrell-Syrah' 'Malbec-Tannat' 'Malbec-Cabernet Franc' 'Turbiana'\n",
      " 'Refosco' 'Alvarinho' 'Manzoni' 'Aragonês' 'Agiorgitiko' 'Malagousia'\n",
      " 'Assyrtiko' 'Ruché' 'Welschriesling' 'Tinta de Toro' 'Cabernet Moravia'\n",
      " 'Rieslaner' 'Traminette' 'Chambourcin' 'Nero di Troia'\n",
      " 'Lambrusco di Sorbara' 'Cesanese' 'Feteasca Neagra' 'Lagrein'\n",
      " 'Tinta Fina' 'St. Laurent' 'Marsanne-Viognier'\n",
      " 'Cabernet Sauvignon-Shiraz' 'Syrah-Cabernet Sauvignon'\n",
      " 'Gewürztraminer-Riesling' 'Pugnitello' 'Cerceal' 'Touriga Nacional Blend'\n",
      " 'Austrian white blend' 'Tocai' 'Tinta Roriz' 'Chardonnay-Viognier'\n",
      " 'Fernão Pires' 'Cabernet Franc-Cabernet Sauvignon' 'Grenache-Syrah'\n",
      " 'Seyval Blanc' 'Muscat Canelli' 'Cabernet Merlot'\n",
      " 'Tempranillo-Cabernet Sauvignon' 'Arinto' 'Aragonez'\n",
      " 'Merlot-Cabernet Franc' 'Syrah-Petite Sirah' 'Cabernet Blend' 'Maturana'\n",
      " 'Pecorino' 'Rotgipfler' 'Kinali Yapincak' 'Cabernet Franc-Carmenère'\n",
      " 'Magliocco' 'Gamay Noir' 'Sauvignon Gris' 'Spätburgunder' 'Picpoul'\n",
      " 'Vidal Blanc' 'Albanello' 'White Port' 'Arneis' 'Malvasia' 'Plavac Mali'\n",
      " 'Lemberger' 'Saperavi' 'Altesse' 'Blanc du Bois' 'Provence white blend'\n",
      " 'Nosiola' 'Dornfelder' 'Roussanne-Viognier' 'Ojaleshi' 'Godello'\n",
      " 'Mondeuse' 'Perricone' 'Pedro Ximénez' 'Auxerrois' 'Syrah-Merlot'\n",
      " 'Albana' 'Muskat' 'Lambrusco' 'Cabernet Sauvignon-Malbec' 'Tinto Fino'\n",
      " 'Malbec-Cabernet Sauvignon' 'Moschofilero' 'Grechetto' 'Encruzado'\n",
      " 'Carignano' 'Cabernet Franc-Merlot' 'Torbato' 'Syrah-Petit Verdot'\n",
      " 'Garnacha Blanca' 'Pallagrello' 'Morava' 'Syrah-Mourvèdre' 'Aleatico'\n",
      " 'Carcajolu' 'Kisi' 'Shiraz-Grenache' 'Palomino' 'Grenache-Carignan'\n",
      " 'Nascetta' 'Siria' 'Malbec-Syrah' 'Asprinio' 'Feteascǎ Regalǎ'\n",
      " 'Lambrusco Grasparossa' 'Marselan' 'Tocai Friulano' 'Schiava'\n",
      " 'Alfrocheiro' 'Chardonnay-Semillon' 'Corvina' 'Norton'\n",
      " 'Alicante Bouschet' 'Tokaji' 'Moscadello'\n",
      " 'Cabernet Sauvignon-Tempranillo' 'Carignan' 'Loureiro-Arinto'\n",
      " 'Cabernet-Syrah' 'Sauvignon Blanc-Chardonnay' 'Symphony' 'Edelzwicker'\n",
      " 'Madeira Blend' 'Black Muscat' 'Grenache Noir' 'Durella' 'Xinomavro'\n",
      " 'Tinto del Pais' 'Merlot-Cabernet Sauvignon' 'Cercial'\n",
      " 'Johannisberg Riesling' 'Petite Verdot' 'Passerina' 'Valdiguié'\n",
      " 'Colombard-Sauvignon Blanc' 'Kangoun' 'Loureiro' 'Posip' 'Uva di Troia'\n",
      " 'Gros and Petit Manseng' 'Jacquère' 'Kalecik Karasi' 'Karasakiz'\n",
      " 'Mourvèdre-Syrah' 'Negrette' 'Zierfandler-Rotgipfler' 'Clairette'\n",
      " 'Raboso' 'País' 'Mauzac' 'Pinot Auxerrois' 'Chenin Blanc-Sauvignon Blanc'\n",
      " 'Diamond' 'Marzemino' 'Tinta Barroca' 'Chardonnay-Sauvignon Blanc'\n",
      " 'Castelão' 'Trebbiano Spoletino' 'Teran' 'Trepat' 'Freisa' 'Neuburger'\n",
      " 'Sämling' 'Chasselas' 'Hárslevelü' 'Trincadeira' 'Merlot-Tannat'\n",
      " 'Rkatsiteli' 'Melnik' 'Siegerrebe' 'Trousseau Gris' 'Grenache Blend'\n",
      " 'Gros Manseng' 'Portuguese Rosé' 'Brachetto' 'Mantonico' 'Ekigaïna'\n",
      " 'Muskateller' 'Aligoté' 'Sangiovese Cabernet'\n",
      " 'Touriga Nacional-Cabernet Sauvignon' 'Muscat Blanc' 'Argaman'\n",
      " 'Viognier-Roussanne' 'Pallagrello Bianco' 'Bobal' 'Malvasia Istriana'\n",
      " 'Cabernet Sauvignon-Cabernet Franc' 'Baco Noir' 'Veltliner'\n",
      " 'Tempranillo-Tannat' 'Morillon' 'Touriga Franca' 'Picolit'\n",
      " 'Barbera-Nebbiolo' 'Prieto Picudo' 'Gaglioppo' 'Tokay' 'Sacy'\n",
      " 'Piedirosso' 'Piquepoul Blanc' 'Mansois' 'Chardonnay-Sauvignon'\n",
      " 'Tempranillo-Garnacha' 'Carmenère-Cabernet Sauvignon'\n",
      " 'Chenin Blanc-Viognier' 'Susumaniello' 'Vitovska' 'Orange Muscat'\n",
      " 'Grauburgunder' 'Carignane' 'Moscatel Roxo' 'Tannat-Merlot'\n",
      " 'Nerello Cappuccio' 'Counoise' 'Macabeo' 'Mazuelo' 'Sauvignon-Sémillon'\n",
      " 'Tinta del Pais' 'Vranec' 'Mavrud' \"Cesanese d'Affile\" 'Moscato Giallo'\n",
      " 'Debit' 'Verdil' 'Cabernet' 'Verduzzo Friulano ' 'Treixadura'\n",
      " \"Loin de l'Oeil\" 'Coda di Volpe' 'Grenache-Mourvèdre' 'Forcallà'\n",
      " 'Viura-Verdejo' 'Bombino Bianco' 'Pinot-Chardonnay' 'Syrah-Tempranillo'\n",
      " 'Cabernet Sauvignon-Barbera' 'Merlot-Cabernet' \"Muscat d'Alexandrie\"\n",
      " 'Jaen' 'Tinta del Toro' 'Timorasso' 'Pigato'\n",
      " 'Sangiovese-Cabernet Sauvignon' 'Shiraz-Cabernet'\n",
      " 'Viognier-Gewürztraminer' 'Prunelard' 'Sauvignon Blanc-Chenin Blanc'\n",
      " 'Gros Plant' 'Malbec-Petit Verdot' 'Colombard-Ugni Blanc' 'Grignolino'\n",
      " 'Garnacha-Syrah' 'Rufete' 'Tempranillo-Shiraz' 'Mtsvane'\n",
      " 'Chardonnay-Pinot Gris' 'Marawi' 'Chardonnay-Pinot Blanc' 'Mataro'\n",
      " 'Tinta Cao' 'Blauer Portugieser' 'Ugni Blanc' 'Groppello'\n",
      " 'Semillon-Chardonnay' 'Irsai Oliver' 'Alvarelhão' 'Poulsard'\n",
      " 'Grenache-Shiraz' 'Baga-Touriga Nacional' 'Carineña' 'Pignoletto'\n",
      " 'Muscatel' 'Mavrodaphne' 'Ciliegiolo' 'Viognier-Grenache Blanc'\n",
      " 'Greco Bianco' 'Cabernet Sauvignon-Merlot-Shiraz' 'Sciaccerellu' 'Zelen'\n",
      " 'Alicante' 'Emir' 'Rosenmuskateller' 'Tsolikouri' 'Narince'\n",
      " 'Malbec-Cabernet' 'Touriga' 'Grecanico' 'Carmenère-Syrah'\n",
      " 'Madeleine Angevine' 'Mavroudi' 'Pinot Blanc-Pinot Noir' 'Muscat Hamburg'\n",
      " 'Tempranillo Blanco' 'Casavecchia' 'Pinot Gris-Gewürztraminer'\n",
      " 'White Riesling' 'Tinto Velasco' 'Hondarrabi Zuri' 'Nuragus' 'Xynisteri'\n",
      " 'Kadarka' 'Sauvignon Musqué' 'Roussanne-Marsanne' 'Incrocio Manzoni'\n",
      " 'Terrantez' 'Bual' 'Okuzgozu' 'Rivaner' 'Doña Blanca' 'Graševina'\n",
      " 'Lambrusco Salamino' 'Sangiovese-Syrah' 'Tannat-Cabernet Franc'\n",
      " 'Thrapsathiri' 'Fer Servadou' 'Mission' 'Kekfrankos' 'Cococciola'\n",
      " 'Blauburgunder' 'Marquette' 'Romorantin' 'Verdejo-Sauvignon Blanc'\n",
      " 'Braucol' 'Malvasia-Viura' 'Savatiano' 'Cabernet Franc-Malbec'\n",
      " 'Pallagrello Nero' 'Rebula' 'Vespolina' 'Shiraz-Malbec' 'Rebo'\n",
      " 'Macabeo-Chardonnay' 'Tempranillo-Malbec' 'Tamjanika' 'Trousseau'\n",
      " 'Bacchus' 'Syrah-Malbec' 'Syrah-Cabernet Franc' 'Macabeo-Moscatel'\n",
      " 'Cariñena-Garnacha' 'Plyto' 'Códega do Larinho' 'Sideritis' 'Çalkarası'\n",
      " 'Azal' 'Moscatel Graúdo' 'Viosinho' 'Moschofilero-Chardonnay' 'Paralleda'\n",
      " 'Rara Neagra' 'Malvasia di Candia' 'Maria Gomes' 'Molinara' 'Malvar'\n",
      " 'Airen' 'Erbaluce' 'Muscat of Alexandria' 'Verdosilla' 'Abouriou'\n",
      " 'Pinot Noir-Syrah' 'Nielluciu' 'Malbec-Bonarda' 'Vespaiolo'\n",
      " 'Malbec-Carménère' 'Biancolella' 'Sauvignon Blanc-Verdejo' 'Aidani'\n",
      " 'Garnacha-Monastrell' 'Vinhão' 'Souzao' 'Roter Traminer'\n",
      " 'Moscatel de Alejandría' 'Rolle' 'Tinta Francisca' 'Malvasia Nera'\n",
      " 'Orangetraube' 'Riesling-Chardonnay' 'Žilavka' 'Portuguiser'\n",
      " 'Listán Negro' 'Pinotage-Merlot' 'Muscadine' 'Maria Gomes-Bical'\n",
      " 'Grolleau' 'Zlahtina' 'Syrah-Grenache-Viognier' 'Jacquez' 'Gouveio'\n",
      " 'Canaiolo' 'Carignan-Syrah' 'Bombino Nero' 'Chardonnay-Riesling'\n",
      " 'Malagouzia-Chardonnay' 'Mavrotragano' 'Bovale' 'Frankovka'\n",
      " 'Shiraz-Roussanne' 'Cabernet-Shiraz' 'Syrah-Carignan' 'Elbling'\n",
      " 'Gragnano' 'Garnacha Blend' 'Pinot Blanc-Chardonnay' 'Schwartzriesling'\n",
      " 'Petit Meslier' 'Bastardo' 'Vidadillo' 'Misket'\n",
      " 'Chardonnay Weissburgunder' 'Other' 'Robola' 'Merlot-Shiraz' 'Malagouzia'\n",
      " 'Folle Blanche' 'Malbec Blend' 'Merlot-Syrah' 'Tamianka'\n",
      " 'Cabernet Pfeffer' 'Morio Muskat' 'Rabigato' 'Babić' 'Roviello'\n",
      " 'Yapincak' 'Sauvignonasse' 'Viognier-Marsanne' 'Mandilaria' 'Meseguera'\n",
      " 'Alvarinho-Chardonnay' 'Saperavi-Merlot' 'Pinot Blanc-Viognier'\n",
      " 'Teroldego Rotaliano' 'Biancu Gentile' 'Garnacha-Tempranillo' 'Xinisteri'\n",
      " 'Sauvignon Blanc-Sauvignon Gris' 'Trebbiano di Lugana' 'Albarossa'\n",
      " 'Ryzlink Rýnský' 'Verdeca' 'Cabernet Sauvignon Grenache'\n",
      " 'Tămâioasă Românească' 'Black Monukka' 'Merlot-Grenache' 'Vranac'\n",
      " 'Tempranillo-Syrah' 'Chardonel' 'Silvaner-Traminer' 'Uvalino'\n",
      " 'Merseguera-Sauvignon Blanc' 'Cabernet-Malbec' 'Boğazkere'\n",
      " 'Gelber Traminer' 'Vermentino Nero' 'Cayuga' 'Tinta Amarela'\n",
      " 'Tinta Negra Mole' 'Moscato Rosa' 'Chelois' 'Sauvignon Blanc-Assyrtiko'\n",
      " nan 'Muscadel' 'Shiraz-Tempranillo' 'Roussanne-Grenache Blanc' 'Biancale'\n",
      " 'Ansonica' 'Syrah-Bonarda' 'Durif' 'Franconia' 'Malbec-Tempranillo'\n",
      " 'Nasco' 'Monastrell-Petit Verdot' 'Sirica' 'Vital' 'Espadeiro' 'Apple'\n",
      " 'Pinot Grigio-Sauvignon Blanc' 'Blatina' 'Karalahna' 'Feteasca' 'Sercial'\n",
      " 'Valvin Muscat' 'Malvasia Fina' 'Roditis-Moschofilero' 'St. Vincent'\n",
      " 'Chancellor' 'Premsal' 'Jampal' 'Tokay Pinot Gris' 'Colorino' 'Picapoll'\n",
      " 'Blauburger' 'Tinta Madeira' 'Centesimino' 'Grenache Gris' 'Trajadura'\n",
      " 'Merlot-Petite Verdot' 'Ramisco' 'Catalanesca' 'Garnacha-Cabernet'\n",
      " 'Garnacha-Cariñena' 'Gamza' 'Cabernet Franc-Lemberger'\n",
      " 'Chardonnay-Albariño' 'Shiraz-Mourvèdre' 'Mavrokalavryta' 'Favorita'\n",
      " 'Babosa Negro' 'Tintilia ' 'Dafni' 'Petit Courbu' 'Kotsifali' 'Parraleta'\n",
      " 'Moscato di Noto' 'Roscetto' 'Torontel' 'Otskhanuri Sapere'\n",
      " 'Viognier-Valdiguié' 'Trollinger' 'Tsapournakos' 'Francisa' 'Kuntra'\n",
      " 'Pignolo' 'Caprettone' 'Ondenc' 'Athiri' 'Bobal-Cabernet Sauvignon']\n",
      "Quantidade: 707\n",
      "---------------------------------------\n",
      "winery: ['Nicosia' 'Quinta dos Avidagos' 'Rainstorm' ... 'Mas de Pampelonne'\n",
      " 'Bodegas Eidosela' 'Penedo Borges']\n",
      "Quantidade: 16757\n",
      "---------------------------------------\n"
     ]
    }
   ],
   "source": [
    "for c in df:\n",
    "    print(f\"{c}: {df[c].unique()}\")\n",
    "    print(f\"Quantidade: {df[c].nunique()}\")\n",
    "    print(\"---------------------------------------\")"
   ]
  },
  {
   "cell_type": "markdown",
   "id": "ff2570ad-dc46-4d1b-8e9a-4efdfa17e3c1",
   "metadata": {
    "tags": []
   },
   "source": [
    "| Feature               | Justificação                                                                                                                                          |\n",
    "|-----------------------|-------------------------------------------------------------------------------------------------------------------------------------------------------|\n",
    "| Unnamed               | Como mencionado anteriormente, esta feature serve como id, devendo ser retirada.                                                                      |\n",
    "| description           | O número de valores únicos é muito elevado, além de serem strings sem nenhum significado para os modelos                                              |\n",
    "| designation           | Número de valores únicos muito elevados (para strings).                                                                                               |\n",
    "| province              | Embora uma especificação de country, como não tem um número excessivo de valores únicos, pode ser benéfico.                                           |\n",
    "| region_1              | Especificação de especificação (province), com muitos valores únicos. Provavelmente melhor retirar.                                                   |\n",
    "| region_2              | Nova especificação de province.                                                                                                                       |\n",
    "| taster_twitter_handle | Especificação/AlterEgo do taster_name, informação redundante.                                                                                         |\n",
    "| title                 | Como mencionado anteriormente, número de únicos demasiado elevado, mas contém informação útil dentro deste, devendo ser retirada nos próximos passos. |\n",
    "| variety               | Número elevado de strings únicas, pode ou não ser relevante, devendo ser experimentado o modelo em ambos os casos.                                    |\n",
    "| winery                | Número muito elevado de strings únicas, embora potencialmente relevantes numa perspetiva de mundo real.                                               |"
   ]
  },
  {
   "cell_type": "code",
   "execution_count": 9,
   "id": "4ea552fb",
   "metadata": {
    "scrolled": true,
    "tags": []
   },
   "outputs": [
    {
     "data": {
      "text/html": [
       "<div>\n",
       "<style scoped>\n",
       "    .dataframe tbody tr th:only-of-type {\n",
       "        vertical-align: middle;\n",
       "    }\n",
       "\n",
       "    .dataframe tbody tr th {\n",
       "        vertical-align: top;\n",
       "    }\n",
       "\n",
       "    .dataframe thead th {\n",
       "        text-align: right;\n",
       "    }\n",
       "</style>\n",
       "<table border=\"1\" class=\"dataframe\">\n",
       "  <thead>\n",
       "    <tr style=\"text-align: right;\">\n",
       "      <th></th>\n",
       "      <th>Unnamed: 0</th>\n",
       "      <th>country</th>\n",
       "      <th>description</th>\n",
       "      <th>designation</th>\n",
       "      <th>points</th>\n",
       "      <th>price</th>\n",
       "      <th>province</th>\n",
       "      <th>region_1</th>\n",
       "      <th>region_2</th>\n",
       "      <th>taster_name</th>\n",
       "      <th>taster_twitter_handle</th>\n",
       "      <th>title</th>\n",
       "      <th>variety</th>\n",
       "      <th>winery</th>\n",
       "    </tr>\n",
       "  </thead>\n",
       "  <tbody>\n",
       "    <tr>\n",
       "      <th>0</th>\n",
       "      <td>0</td>\n",
       "      <td>Italy</td>\n",
       "      <td>Aromas include tropical fruit, broom, brimston...</td>\n",
       "      <td>Vulkà Bianco</td>\n",
       "      <td>87</td>\n",
       "      <td>NaN</td>\n",
       "      <td>Sicily &amp; Sardinia</td>\n",
       "      <td>Etna</td>\n",
       "      <td>NaN</td>\n",
       "      <td>Kerin O’Keefe</td>\n",
       "      <td>@kerinokeefe</td>\n",
       "      <td>Nicosia 2013 Vulkà Bianco  (Etna)</td>\n",
       "      <td>White Blend</td>\n",
       "      <td>Nicosia</td>\n",
       "    </tr>\n",
       "    <tr>\n",
       "      <th>1</th>\n",
       "      <td>1</td>\n",
       "      <td>Portugal</td>\n",
       "      <td>This is ripe and fruity, a wine that is smooth...</td>\n",
       "      <td>Avidagos</td>\n",
       "      <td>87</td>\n",
       "      <td>15.0</td>\n",
       "      <td>Douro</td>\n",
       "      <td>NaN</td>\n",
       "      <td>NaN</td>\n",
       "      <td>Roger Voss</td>\n",
       "      <td>@vossroger</td>\n",
       "      <td>Quinta dos Avidagos 2011 Avidagos Red (Douro)</td>\n",
       "      <td>Portuguese Red</td>\n",
       "      <td>Quinta dos Avidagos</td>\n",
       "    </tr>\n",
       "    <tr>\n",
       "      <th>2</th>\n",
       "      <td>2</td>\n",
       "      <td>US</td>\n",
       "      <td>Tart and snappy, the flavors of lime flesh and...</td>\n",
       "      <td>NaN</td>\n",
       "      <td>87</td>\n",
       "      <td>14.0</td>\n",
       "      <td>Oregon</td>\n",
       "      <td>Willamette Valley</td>\n",
       "      <td>Willamette Valley</td>\n",
       "      <td>Paul Gregutt</td>\n",
       "      <td>@paulgwine</td>\n",
       "      <td>Rainstorm 2013 Pinot Gris (Willamette Valley)</td>\n",
       "      <td>Pinot Gris</td>\n",
       "      <td>Rainstorm</td>\n",
       "    </tr>\n",
       "    <tr>\n",
       "      <th>3</th>\n",
       "      <td>3</td>\n",
       "      <td>US</td>\n",
       "      <td>Pineapple rind, lemon pith and orange blossom ...</td>\n",
       "      <td>Reserve Late Harvest</td>\n",
       "      <td>87</td>\n",
       "      <td>13.0</td>\n",
       "      <td>Michigan</td>\n",
       "      <td>Lake Michigan Shore</td>\n",
       "      <td>NaN</td>\n",
       "      <td>Alexander Peartree</td>\n",
       "      <td>NaN</td>\n",
       "      <td>St. Julian 2013 Reserve Late Harvest Riesling ...</td>\n",
       "      <td>Riesling</td>\n",
       "      <td>St. Julian</td>\n",
       "    </tr>\n",
       "    <tr>\n",
       "      <th>4</th>\n",
       "      <td>4</td>\n",
       "      <td>US</td>\n",
       "      <td>Much like the regular bottling from 2012, this...</td>\n",
       "      <td>Vintner's Reserve Wild Child Block</td>\n",
       "      <td>87</td>\n",
       "      <td>65.0</td>\n",
       "      <td>Oregon</td>\n",
       "      <td>Willamette Valley</td>\n",
       "      <td>Willamette Valley</td>\n",
       "      <td>Paul Gregutt</td>\n",
       "      <td>@paulgwine</td>\n",
       "      <td>Sweet Cheeks 2012 Vintner's Reserve Wild Child...</td>\n",
       "      <td>Pinot Noir</td>\n",
       "      <td>Sweet Cheeks</td>\n",
       "    </tr>\n",
       "  </tbody>\n",
       "</table>\n",
       "</div>"
      ],
      "text/plain": [
       "   Unnamed: 0   country                                        description  \\\n",
       "0           0     Italy  Aromas include tropical fruit, broom, brimston...   \n",
       "1           1  Portugal  This is ripe and fruity, a wine that is smooth...   \n",
       "2           2        US  Tart and snappy, the flavors of lime flesh and...   \n",
       "3           3        US  Pineapple rind, lemon pith and orange blossom ...   \n",
       "4           4        US  Much like the regular bottling from 2012, this...   \n",
       "\n",
       "                          designation  points  price           province  \\\n",
       "0                        Vulkà Bianco      87    NaN  Sicily & Sardinia   \n",
       "1                            Avidagos      87   15.0              Douro   \n",
       "2                                 NaN      87   14.0             Oregon   \n",
       "3                Reserve Late Harvest      87   13.0           Michigan   \n",
       "4  Vintner's Reserve Wild Child Block      87   65.0             Oregon   \n",
       "\n",
       "              region_1           region_2         taster_name  \\\n",
       "0                 Etna                NaN       Kerin O’Keefe   \n",
       "1                  NaN                NaN          Roger Voss   \n",
       "2    Willamette Valley  Willamette Valley        Paul Gregutt   \n",
       "3  Lake Michigan Shore                NaN  Alexander Peartree   \n",
       "4    Willamette Valley  Willamette Valley        Paul Gregutt   \n",
       "\n",
       "  taster_twitter_handle                                              title  \\\n",
       "0          @kerinokeefe                  Nicosia 2013 Vulkà Bianco  (Etna)   \n",
       "1            @vossroger      Quinta dos Avidagos 2011 Avidagos Red (Douro)   \n",
       "2           @paulgwine       Rainstorm 2013 Pinot Gris (Willamette Valley)   \n",
       "3                   NaN  St. Julian 2013 Reserve Late Harvest Riesling ...   \n",
       "4           @paulgwine   Sweet Cheeks 2012 Vintner's Reserve Wild Child...   \n",
       "\n",
       "          variety               winery  \n",
       "0     White Blend              Nicosia  \n",
       "1  Portuguese Red  Quinta dos Avidagos  \n",
       "2      Pinot Gris            Rainstorm  \n",
       "3        Riesling           St. Julian  \n",
       "4      Pinot Noir         Sweet Cheeks  "
      ]
     },
     "execution_count": 9,
     "metadata": {},
     "output_type": "execute_result"
    }
   ],
   "source": [
    "df.head()"
   ]
  },
  {
   "cell_type": "code",
   "execution_count": 10,
   "id": "df891ea4-8dce-4c6c-aa6c-0e1273efa5a6",
   "metadata": {
    "tags": []
   },
   "outputs": [
    {
     "data": {
      "text/plain": [
       "Index(['Unnamed: 0', 'country', 'description', 'designation', 'points',\n",
       "       'price', 'province', 'region_1', 'region_2', 'taster_name',\n",
       "       'taster_twitter_handle', 'title', 'variety', 'winery'],\n",
       "      dtype='object')"
      ]
     },
     "execution_count": 10,
     "metadata": {},
     "output_type": "execute_result"
    }
   ],
   "source": [
    "df.columns"
   ]
  },
  {
   "cell_type": "markdown",
   "id": "376e31f5-e858-4f4b-8ca5-5bf88eb1705c",
   "metadata": {},
   "source": [
    "* **Remoção de features**"
   ]
  },
  {
   "cell_type": "code",
   "execution_count": 11,
   "id": "6a2f5793",
   "metadata": {
    "tags": []
   },
   "outputs": [],
   "source": [
    "remove_features_list = [\"Unnamed: 0\",'designation', \"description\",'region_1', \"region_2\", \"taster_twitter_handle\",\"winery\"]\n",
    "for ft in remove_features_list:\n",
    "    df = df.drop(ft, axis=1)"
   ]
  },
  {
   "cell_type": "markdown",
   "id": "cb118e49-0399-4cb1-90c5-2b6663cacea6",
   "metadata": {},
   "source": [
    "* **Preenchimento valores em falta**"
   ]
  },
  {
   "cell_type": "code",
   "execution_count": 12,
   "id": "3502377f-0e08-446d-a371-db61996b6568",
   "metadata": {},
   "outputs": [],
   "source": [
    "df.price.fillna(df.price.mean(),inplace =True)\n",
    "df.country.fillna(str(df.country.mode()),inplace =True)\n",
    "df.province.fillna(str(df.province.mode()),inplace =True)\n",
    "df.taster_name.fillna('unknown',inplace =True)\n",
    "df.variety.fillna(str(df.variety.mode()),inplace =True)"
   ]
  },
  {
   "cell_type": "markdown",
   "id": "92641438-6e75-46da-8adf-7d16bb29815b",
   "metadata": {
    "tags": []
   },
   "source": [
    "* **Tratamento de title**"
   ]
  },
  {
   "cell_type": "markdown",
   "id": "21a7ad35-7ee1-4447-9942-3ddc47c95cfb",
   "metadata": {},
   "source": [
    "Observando previamente os valores da feature title, observamos que todos parecem incluir o ano de produção de vinho e, embora a atualmente esta feature apresente demasiados valores únicos para ser útil, se conseguirmos retirar apenas o ano desta, possívelmente poderá ser usado no modelo."
   ]
  },
  {
   "cell_type": "code",
   "execution_count": 13,
   "id": "f2ed0fa3-0b89-4c27-b374-962a6ea41272",
   "metadata": {
    "scrolled": true,
    "tags": []
   },
   "outputs": [
    {
     "name": "stdout",
     "output_type": "stream",
     "text": [
      "<class 'pandas.core.frame.DataFrame'>\n",
      "Int64Index: 125362 entries, 0 to 129970\n",
      "Data columns (total 7 columns):\n",
      " #   Column       Non-Null Count   Dtype  \n",
      "---  ------       --------------   -----  \n",
      " 0   country      125362 non-null  object \n",
      " 1   points       125362 non-null  int64  \n",
      " 2   price        125362 non-null  float64\n",
      " 3   province     125362 non-null  object \n",
      " 4   taster_name  125362 non-null  object \n",
      " 5   title        125362 non-null  object \n",
      " 6   variety      125362 non-null  object \n",
      "dtypes: float64(1), int64(1), object(5)\n",
      "memory usage: 7.7+ MB\n"
     ]
    }
   ],
   "source": [
    "df[df.title.str.contains(r'.*\\d{4}.*')].info()"
   ]
  },
  {
   "cell_type": "markdown",
   "id": "1c6644cd-f94d-48d1-85a1-80706aa3f072",
   "metadata": {},
   "source": [
    "Confirmamos que a grande maioria das linhas apresenta o ano. (apenas 4608 de 130k não apresentam)"
   ]
  },
  {
   "cell_type": "code",
   "execution_count": 14,
   "id": "7c2b488a-3016-4adc-a85e-c93ff3299243",
   "metadata": {
    "tags": []
   },
   "outputs": [],
   "source": [
    "df.title = df.title.str.replace(r'(.|\\n)*(\\d{4})(.|\\n)*',r'\\2',regex=True)\n",
    "df.title = df.title[df.title.str.contains(r'\\d{4}')]"
   ]
  },
  {
   "cell_type": "markdown",
   "id": "859e119d-48aa-4521-83f8-0a193af1f8b6",
   "metadata": {},
   "source": [
    "Mudar nome da feature para year"
   ]
  },
  {
   "cell_type": "code",
   "execution_count": 16,
   "id": "be57b5d6-c6b7-4e29-a72d-f54ff26b227a",
   "metadata": {
    "tags": []
   },
   "outputs": [],
   "source": [
    "rename_map = {'title':'year'}\n",
    "df.rename(columns=rename_map,inplace=True)"
   ]
  },
  {
   "cell_type": "code",
   "execution_count": 17,
   "id": "3178a93b-3a67-4034-aa0f-290b6b34cfcb",
   "metadata": {
    "tags": []
   },
   "outputs": [
    {
     "data": {
      "text/html": [
       "<div>\n",
       "<style scoped>\n",
       "    .dataframe tbody tr th:only-of-type {\n",
       "        vertical-align: middle;\n",
       "    }\n",
       "\n",
       "    .dataframe tbody tr th {\n",
       "        vertical-align: top;\n",
       "    }\n",
       "\n",
       "    .dataframe thead th {\n",
       "        text-align: right;\n",
       "    }\n",
       "</style>\n",
       "<table border=\"1\" class=\"dataframe\">\n",
       "  <thead>\n",
       "    <tr style=\"text-align: right;\">\n",
       "      <th></th>\n",
       "      <th>country</th>\n",
       "      <th>points</th>\n",
       "      <th>price</th>\n",
       "      <th>province</th>\n",
       "      <th>taster_name</th>\n",
       "      <th>year</th>\n",
       "      <th>variety</th>\n",
       "    </tr>\n",
       "  </thead>\n",
       "  <tbody>\n",
       "    <tr>\n",
       "      <th>0</th>\n",
       "      <td>Italy</td>\n",
       "      <td>87</td>\n",
       "      <td>35.363389</td>\n",
       "      <td>Sicily &amp; Sardinia</td>\n",
       "      <td>Kerin O’Keefe</td>\n",
       "      <td>2013</td>\n",
       "      <td>White Blend</td>\n",
       "    </tr>\n",
       "    <tr>\n",
       "      <th>1</th>\n",
       "      <td>Portugal</td>\n",
       "      <td>87</td>\n",
       "      <td>15.000000</td>\n",
       "      <td>Douro</td>\n",
       "      <td>Roger Voss</td>\n",
       "      <td>2011</td>\n",
       "      <td>Portuguese Red</td>\n",
       "    </tr>\n",
       "    <tr>\n",
       "      <th>2</th>\n",
       "      <td>US</td>\n",
       "      <td>87</td>\n",
       "      <td>14.000000</td>\n",
       "      <td>Oregon</td>\n",
       "      <td>Paul Gregutt</td>\n",
       "      <td>2013</td>\n",
       "      <td>Pinot Gris</td>\n",
       "    </tr>\n",
       "    <tr>\n",
       "      <th>3</th>\n",
       "      <td>US</td>\n",
       "      <td>87</td>\n",
       "      <td>13.000000</td>\n",
       "      <td>Michigan</td>\n",
       "      <td>Alexander Peartree</td>\n",
       "      <td>2013</td>\n",
       "      <td>Riesling</td>\n",
       "    </tr>\n",
       "    <tr>\n",
       "      <th>4</th>\n",
       "      <td>US</td>\n",
       "      <td>87</td>\n",
       "      <td>65.000000</td>\n",
       "      <td>Oregon</td>\n",
       "      <td>Paul Gregutt</td>\n",
       "      <td>2012</td>\n",
       "      <td>Pinot Noir</td>\n",
       "    </tr>\n",
       "    <tr>\n",
       "      <th>...</th>\n",
       "      <td>...</td>\n",
       "      <td>...</td>\n",
       "      <td>...</td>\n",
       "      <td>...</td>\n",
       "      <td>...</td>\n",
       "      <td>...</td>\n",
       "      <td>...</td>\n",
       "    </tr>\n",
       "    <tr>\n",
       "      <th>129966</th>\n",
       "      <td>Germany</td>\n",
       "      <td>90</td>\n",
       "      <td>28.000000</td>\n",
       "      <td>Mosel</td>\n",
       "      <td>Anna Lee C. Iijima</td>\n",
       "      <td>2013</td>\n",
       "      <td>Riesling</td>\n",
       "    </tr>\n",
       "    <tr>\n",
       "      <th>129967</th>\n",
       "      <td>US</td>\n",
       "      <td>90</td>\n",
       "      <td>75.000000</td>\n",
       "      <td>Oregon</td>\n",
       "      <td>Paul Gregutt</td>\n",
       "      <td>2004</td>\n",
       "      <td>Pinot Noir</td>\n",
       "    </tr>\n",
       "    <tr>\n",
       "      <th>129968</th>\n",
       "      <td>France</td>\n",
       "      <td>90</td>\n",
       "      <td>30.000000</td>\n",
       "      <td>Alsace</td>\n",
       "      <td>Roger Voss</td>\n",
       "      <td>2013</td>\n",
       "      <td>Gewürztraminer</td>\n",
       "    </tr>\n",
       "    <tr>\n",
       "      <th>129969</th>\n",
       "      <td>France</td>\n",
       "      <td>90</td>\n",
       "      <td>32.000000</td>\n",
       "      <td>Alsace</td>\n",
       "      <td>Roger Voss</td>\n",
       "      <td>2012</td>\n",
       "      <td>Pinot Gris</td>\n",
       "    </tr>\n",
       "    <tr>\n",
       "      <th>129970</th>\n",
       "      <td>France</td>\n",
       "      <td>90</td>\n",
       "      <td>21.000000</td>\n",
       "      <td>Alsace</td>\n",
       "      <td>Roger Voss</td>\n",
       "      <td>2012</td>\n",
       "      <td>Gewürztraminer</td>\n",
       "    </tr>\n",
       "  </tbody>\n",
       "</table>\n",
       "<p>129971 rows × 7 columns</p>\n",
       "</div>"
      ],
      "text/plain": [
       "         country  points      price           province         taster_name  \\\n",
       "0          Italy      87  35.363389  Sicily & Sardinia       Kerin O’Keefe   \n",
       "1       Portugal      87  15.000000              Douro          Roger Voss   \n",
       "2             US      87  14.000000             Oregon        Paul Gregutt   \n",
       "3             US      87  13.000000           Michigan  Alexander Peartree   \n",
       "4             US      87  65.000000             Oregon        Paul Gregutt   \n",
       "...          ...     ...        ...                ...                 ...   \n",
       "129966   Germany      90  28.000000              Mosel  Anna Lee C. Iijima   \n",
       "129967        US      90  75.000000             Oregon        Paul Gregutt   \n",
       "129968    France      90  30.000000             Alsace          Roger Voss   \n",
       "129969    France      90  32.000000             Alsace          Roger Voss   \n",
       "129970    France      90  21.000000             Alsace          Roger Voss   \n",
       "\n",
       "        year         variety  \n",
       "0       2013     White Blend  \n",
       "1       2011  Portuguese Red  \n",
       "2       2013      Pinot Gris  \n",
       "3       2013        Riesling  \n",
       "4       2012      Pinot Noir  \n",
       "...      ...             ...  \n",
       "129966  2013        Riesling  \n",
       "129967  2004      Pinot Noir  \n",
       "129968  2013  Gewürztraminer  \n",
       "129969  2012      Pinot Gris  \n",
       "129970  2012  Gewürztraminer  \n",
       "\n",
       "[129971 rows x 7 columns]"
      ]
     },
     "execution_count": 17,
     "metadata": {},
     "output_type": "execute_result"
    }
   ],
   "source": [
    "df"
   ]
  },
  {
   "cell_type": "markdown",
   "id": "ef542ff8-38b1-400f-aecd-54360be993d7",
   "metadata": {},
   "source": [
    "Preencher valores nulos com a moda"
   ]
  },
  {
   "cell_type": "code",
   "execution_count": 18,
   "id": "60bf0204-66d5-46a4-8b3d-0cd688913a5e",
   "metadata": {},
   "outputs": [],
   "source": [
    "df.year.fillna(df.year.mode().astype(int).values[0],inplace=True)"
   ]
  },
  {
   "cell_type": "code",
   "execution_count": 19,
   "id": "8e927390-22c8-46a5-a492-bed9bea5a60e",
   "metadata": {
    "tags": []
   },
   "outputs": [],
   "source": [
    "df.year = df.year.astype(int)"
   ]
  },
  {
   "cell_type": "markdown",
   "id": "3a1e8822-47e5-471c-bce3-e9cda3afedf5",
   "metadata": {},
   "source": [
    "* **Remoção de duplicados**"
   ]
  },
  {
   "cell_type": "code",
   "execution_count": 20,
   "id": "4516e8d4",
   "metadata": {
    "tags": []
   },
   "outputs": [],
   "source": [
    "df.drop_duplicates(inplace=True)"
   ]
  },
  {
   "cell_type": "code",
   "execution_count": 21,
   "id": "64667dfc",
   "metadata": {
    "tags": []
   },
   "outputs": [
    {
     "name": "stdout",
     "output_type": "stream",
     "text": [
      "<class 'pandas.core.frame.DataFrame'>\n",
      "Int64Index: 97886 entries, 0 to 129970\n",
      "Data columns (total 7 columns):\n",
      " #   Column       Non-Null Count  Dtype  \n",
      "---  ------       --------------  -----  \n",
      " 0   country      97886 non-null  object \n",
      " 1   points       97886 non-null  int64  \n",
      " 2   price        97886 non-null  float64\n",
      " 3   province     97886 non-null  object \n",
      " 4   taster_name  97886 non-null  object \n",
      " 5   year         97886 non-null  int32  \n",
      " 6   variety      97886 non-null  object \n",
      "dtypes: float64(1), int32(1), int64(1), object(4)\n",
      "memory usage: 5.6+ MB\n"
     ]
    }
   ],
   "source": [
    "df.info()"
   ]
  },
  {
   "cell_type": "markdown",
   "id": "b3a4a70e-bdc0-4d94-8eef-0e2d442cacb1",
   "metadata": {
    "tags": []
   },
   "source": [
    "* **Labeling das features**"
   ]
  },
  {
   "cell_type": "markdown",
   "id": "ccd31c08-6543-400e-a9e0-e94c091d9d9c",
   "metadata": {},
   "source": [
    "Número de valores únicos e tipo de cada feature"
   ]
  },
  {
   "cell_type": "code",
   "execution_count": 26,
   "id": "6f546fb4-6c0d-426e-92bd-634663f979cd",
   "metadata": {
    "tags": []
   },
   "outputs": [
    {
     "name": "stdout",
     "output_type": "stream",
     "text": [
      "country : 44  \n",
      "   type : int64\n",
      "points : 21  \n",
      "   type : int64\n",
      "price : 391  \n",
      "   type : float64\n",
      "province : 426  \n",
      "   type : int64\n",
      "taster_name : 20  \n",
      "   type : int64\n",
      "year : 168  \n",
      "   type : int32\n",
      "variety : 708  \n",
      "   type : int64\n"
     ]
    }
   ],
   "source": [
    "columns = df.columns.values\n",
    "for c in columns:\n",
    "    print(f\"{c} : {df[c].nunique()}  \\n   type : {df[c].dtype}\")"
   ]
  },
  {
   "cell_type": "markdown",
   "id": "66e5eaa8-8930-4093-aee5-94c6c7cc6661",
   "metadata": {},
   "source": [
    "Labeling de features tipo object"
   ]
  },
  {
   "cell_type": "code",
   "execution_count": 27,
   "id": "2ebc40fc-c88f-4ccd-867b-b1dbfb02d72a",
   "metadata": {
    "tags": []
   },
   "outputs": [
    {
     "data": {
      "text/html": [
       "<div>\n",
       "<style scoped>\n",
       "    .dataframe tbody tr th:only-of-type {\n",
       "        vertical-align: middle;\n",
       "    }\n",
       "\n",
       "    .dataframe tbody tr th {\n",
       "        vertical-align: top;\n",
       "    }\n",
       "\n",
       "    .dataframe thead th {\n",
       "        text-align: right;\n",
       "    }\n",
       "</style>\n",
       "<table border=\"1\" class=\"dataframe\">\n",
       "  <thead>\n",
       "    <tr style=\"text-align: right;\">\n",
       "      <th></th>\n",
       "      <th>country</th>\n",
       "      <th>points</th>\n",
       "      <th>price</th>\n",
       "      <th>province</th>\n",
       "      <th>taster_name</th>\n",
       "      <th>year</th>\n",
       "      <th>variety</th>\n",
       "    </tr>\n",
       "  </thead>\n",
       "  <tbody>\n",
       "    <tr>\n",
       "      <th>0</th>\n",
       "      <td>24</td>\n",
       "      <td>87</td>\n",
       "      <td>35.363389</td>\n",
       "      <td>333</td>\n",
       "      <td>10</td>\n",
       "      <td>2013</td>\n",
       "      <td>692</td>\n",
       "    </tr>\n",
       "    <tr>\n",
       "      <th>1</th>\n",
       "      <td>33</td>\n",
       "      <td>87</td>\n",
       "      <td>15.000000</td>\n",
       "      <td>110</td>\n",
       "      <td>16</td>\n",
       "      <td>2011</td>\n",
       "      <td>452</td>\n",
       "    </tr>\n",
       "    <tr>\n",
       "      <th>2</th>\n",
       "      <td>42</td>\n",
       "      <td>87</td>\n",
       "      <td>14.000000</td>\n",
       "      <td>270</td>\n",
       "      <td>15</td>\n",
       "      <td>2013</td>\n",
       "      <td>438</td>\n",
       "    </tr>\n",
       "    <tr>\n",
       "      <th>3</th>\n",
       "      <td>42</td>\n",
       "      <td>87</td>\n",
       "      <td>13.000000</td>\n",
       "      <td>220</td>\n",
       "      <td>1</td>\n",
       "      <td>2013</td>\n",
       "      <td>481</td>\n",
       "    </tr>\n",
       "    <tr>\n",
       "      <th>4</th>\n",
       "      <td>42</td>\n",
       "      <td>87</td>\n",
       "      <td>65.000000</td>\n",
       "      <td>270</td>\n",
       "      <td>15</td>\n",
       "      <td>2012</td>\n",
       "      <td>442</td>\n",
       "    </tr>\n",
       "  </tbody>\n",
       "</table>\n",
       "</div>"
      ],
      "text/plain": [
       "   country  points      price  province  taster_name  year  variety\n",
       "0       24      87  35.363389       333           10  2013      692\n",
       "1       33      87  15.000000       110           16  2011      452\n",
       "2       42      87  14.000000       270           15  2013      438\n",
       "3       42      87  13.000000       220            1  2013      481\n",
       "4       42      87  65.000000       270           15  2012      442"
      ]
     },
     "execution_count": 27,
     "metadata": {},
     "output_type": "execute_result"
    }
   ],
   "source": [
    "for c in df.columns.values:\n",
    "    if(df[c].dtype=='object'):\n",
    "        labels = df[c].astype('category').cat.categories.tolist()\n",
    "        replace_map_comp = {c : {k: v for k,v in zip(labels,list(range(1,len(labels)+1)))}}\n",
    "        df.replace(replace_map_comp,inplace=True)\n",
    "\n",
    "df.head()\n"
   ]
  },
  {
   "cell_type": "code",
   "execution_count": 25,
   "id": "220f1634",
   "metadata": {},
   "outputs": [
    {
     "data": {
      "image/png": "[encoded data removed]",
      "text/plain": [
       "<Figure size 864x720 with 2 Axes>"
      ]
     },
     "metadata": {
      "needs_background": "light"
     },
     "output_type": "display_data"
    }
   ],
   "source": [
    "#Correlação entre features\n",
    "corr_matrix = df.corr()\n",
    "f, ax = plt.subplots(figsize=(12, 10))\n",
    "sns.heatmap(corr_matrix, vmin=-1, vmax=1, square = True, annot=True)\n",
    "plt.draw()"
   ]
  },
  {
   "cell_type": "markdown",
   "id": "2f2c57e2-7a7b-44da-84bd-3a2f5b5018c8",
   "metadata": {
    "tags": []
   },
   "source": [
    "### **5. Aplicação de modelos de Machine Learning**"
   ]
  },
  {
   "cell_type": "markdown",
   "id": "4a7a5c72-8d18-4171-a820-fd4201f79e39",
   "metadata": {
    "jp-MarkdownHeadingCollapsed": true,
    "tags": []
   },
   "source": [
    "#### **5.1. Decision Tree regressor**"
   ]
  },
  {
   "cell_type": "markdown",
   "id": "84263d11-5848-4af3-9a08-ce92277459e8",
   "metadata": {},
   "source": [
    "* **Imports necessários**"
   ]
  },
  {
   "cell_type": "code",
   "execution_count": null,
   "id": "ca9c9178-f1e0-49a8-ae74-99f7dde847f4",
   "metadata": {},
   "outputs": [],
   "source": [
    "from sklearn import preprocessing\n",
    "from sklearn.model_selection import train_test_split\n",
    "from sklearn.tree import DecisionTreeRegressor\n",
    "from sklearn.metrics import confusion_matrix\n",
    "from sklearn.metrics import recall_score\n",
    "from sklearn.metrics import accuracy_score\n",
    "from sklearn.metrics import precision_score\n",
    "from sklearn.metrics import roc_auc_score\n",
    "from sklearn.metrics import roc_curve\n",
    "from sklearn.metrics import f1_score\n",
    "from sklearn.metrics import fbeta_score\n",
    "from sklearn.metrics import mean_absolute_error\n",
    "from sklearn.metrics import mean_squared_error"
   ]
  },
  {
   "cell_type": "markdown",
   "id": "c49ac6dc-1e94-4dd6-a32c-634d20c09f68",
   "metadata": {},
   "source": [
    "* **Retirar target do data-set de treino e criar uma cópia do data-set, para verificar predictions**"
   ]
  },
  {
   "cell_type": "code",
   "execution_count": null,
   "id": "33bbc97e-79a2-4ad1-9edb-4226cff24d39",
   "metadata": {},
   "outputs": [],
   "source": [
    "x = df.drop(['points'],axis=1)\n",
    "y = df['points'].to_frame()"
   ]
  },
  {
   "cell_type": "code",
   "execution_count": null,
   "id": "5d9efbad-18c6-4da2-99d5-4acc2269e8ad",
   "metadata": {
    "tags": []
   },
   "outputs": [],
   "source": [
    "x"
   ]
  },
  {
   "cell_type": "code",
   "execution_count": null,
   "id": "3f8faea2-561e-46e0-b3b9-19910dfd7d1a",
   "metadata": {
    "tags": []
   },
   "outputs": [],
   "source": [
    "y"
   ]
  },
  {
   "cell_type": "markdown",
   "id": "e2cf8b89-75f1-4d69-97eb-8b3c3fc23bbd",
   "metadata": {},
   "source": [
    "* **Separar o data-set em conjuntos de treino e teste** <br>\n",
    "Tamanho de teste - 25% <br>\n",
    "Seed = 2022"
   ]
  },
  {
   "cell_type": "code",
   "execution_count": null,
   "id": "b70fe65d-c4a2-4d80-a7e8-ee680137f1b6",
   "metadata": {},
   "outputs": [],
   "source": [
    "x_train, x_test, y_train, y_test = train_test_split(x, y, test_size=0.25, random_state=2022)"
   ]
  },
  {
   "cell_type": "markdown",
   "id": "d606efc0-22c9-43f6-8930-571905061726",
   "metadata": {},
   "source": [
    "* **Criar modelo de árvores de decisão**"
   ]
  },
  {
   "cell_type": "code",
   "execution_count": null,
   "id": "ad84e84f-14be-4b3d-a9ab-4c358768b95a",
   "metadata": {},
   "outputs": [],
   "source": [
    "clf = DecisionTreeRegressor(random_state=2022)"
   ]
  },
  {
   "cell_type": "markdown",
   "id": "83207773-dcd5-41c8-9ce9-bb9b3bd13ebb",
   "metadata": {},
   "source": [
    "* **Treinar modelo**"
   ]
  },
  {
   "cell_type": "code",
   "execution_count": null,
   "id": "4540ee9d-74c2-4041-9f26-26f30a3b0b3a",
   "metadata": {},
   "outputs": [],
   "source": [
    "clf.fit(x_train,y_train)"
   ]
  },
  {
   "cell_type": "markdown",
   "id": "76539ba1-71af-488e-9078-513c6a4ad582",
   "metadata": {},
   "source": [
    "Gerar previsões"
   ]
  },
  {
   "cell_type": "code",
   "execution_count": null,
   "id": "b6797620-43c6-4689-925d-084003a6ce94",
   "metadata": {
    "tags": []
   },
   "outputs": [],
   "source": [
    "predictions = clf.predict(x_test)\n",
    "pd.DataFrame(predictions)"
   ]
  },
  {
   "cell_type": "markdown",
   "id": "81212379-b719-4e26-b0c2-3738677471a6",
   "metadata": {},
   "source": [
    "MAE"
   ]
  },
  {
   "cell_type": "code",
   "execution_count": null,
   "id": "f803a65c-3793-4fd1-8758-db5350768c81",
   "metadata": {},
   "outputs": [],
   "source": [
    "mean_absolute_error(y_test,predictions)"
   ]
  },
  {
   "cell_type": "code",
   "execution_count": null,
   "id": "fbed4df1-346a-4ff1-98c8-2936e23f63c3",
   "metadata": {
    "tags": []
   },
   "outputs": [],
   "source": [
    "y_test"
   ]
  },
  {
   "cell_type": "markdown",
   "id": "09d6d7e4",
   "metadata": {
    "jp-MarkdownHeadingCollapsed": true,
    "tags": []
   },
   "source": [
    "#### **5.2. Linear Regression**"
   ]
  },
  {
   "cell_type": "markdown",
   "id": "6ddefa85",
   "metadata": {},
   "source": [
    "* **Importar as funções necessárias para este modelo**"
   ]
  },
  {
   "cell_type": "code",
   "execution_count": null,
   "id": "766ac9f0",
   "metadata": {},
   "outputs": [],
   "source": [
    "from sklearn.linear_model import LinearRegression"
   ]
  },
  {
   "cell_type": "markdown",
   "id": "db027a7e",
   "metadata": {},
   "source": [
    "* **Separar o data-set em conjuntos de treino e teste** <br>\n",
    "Tamanho de teste - 30% <br>\n",
    "Seed = 2022"
   ]
  },
  {
   "cell_type": "code",
   "execution_count": null,
   "id": "7f85f020",
   "metadata": {},
   "outputs": [],
   "source": [
    "x_train, x_test, y_train, y_test = train_test_split(x, y, test_size=0.3, random_state=2022)"
   ]
  },
  {
   "cell_type": "markdown",
   "id": "8268916b",
   "metadata": {},
   "source": [
    "* **Criar modelo de regressão linear**"
   ]
  },
  {
   "cell_type": "code",
   "execution_count": null,
   "id": "4d406d03",
   "metadata": {},
   "outputs": [],
   "source": [
    "lm = LinearRegression()"
   ]
  },
  {
   "cell_type": "code",
   "execution_count": null,
   "id": "556cca9b",
   "metadata": {},
   "outputs": [],
   "source": [
    "lm.fit(x_train, y_train)"
   ]
  },
  {
   "cell_type": "markdown",
   "id": "348e25ac",
   "metadata": {},
   "source": [
    "Gerar previsões"
   ]
  },
  {
   "cell_type": "code",
   "execution_count": null,
   "id": "59db0084",
   "metadata": {
    "scrolled": true
   },
   "outputs": [],
   "source": [
    "predictions = lm.predict(x_test)\n",
    "df_pred = pd.DataFrame(data=predictions)\n",
    "df_pred"
   ]
  },
  {
   "cell_type": "code",
   "execution_count": null,
   "id": "179cea10",
   "metadata": {
    "scrolled": true
   },
   "outputs": [],
   "source": [
    "y_test"
   ]
  },
  {
   "cell_type": "markdown",
   "id": "cf4edd0c",
   "metadata": {
    "tags": []
   },
   "source": [
    "* **Avaliação do modelo**"
   ]
  },
  {
   "cell_type": "code",
   "execution_count": null,
   "id": "ef30c629",
   "metadata": {},
   "outputs": [],
   "source": [
    "from sklearn import metrics\n",
    "from math import sqrt\n",
    "\n",
    "print('MAE:', metrics.mean_absolute_error(y_test, predictions))\n",
    "print('MSE:', metrics.mean_squared_error(y_test, predictions))\n",
    "print('RMSE:', np.sqrt(metrics.mean_squared_error(y_test, predictions)))"
   ]
  },
  {
   "cell_type": "markdown",
   "id": "ca020e51-ac3c-44f5-a7f7-446609f52d14",
   "metadata": {
    "tags": []
   },
   "source": [
    "#### **5.3. Neural Network**"
   ]
  },
  {
   "cell_type": "markdown",
   "id": "a1839cdd-32e3-4116-9d06-36f8527d0be3",
   "metadata": {},
   "source": [
    "* **Importar funções necessárias para o modelo**"
   ]
  },
  {
   "cell_type": "code",
   "execution_count": null,
   "id": "460b2ea8-b3c9-4723-bc48-b055703ab680",
   "metadata": {
    "jupyter": {
     "outputs_hidden": true
    },
    "tags": []
   },
   "outputs": [],
   "source": [
    "import tensorflow as tf\n",
    "\n",
    "from tensorflow.keras.models import Sequential\n",
    "\n",
    "from tensorflow.keras.layers import Dense, Dropout, BatchNormalization\n",
    "from tensorflow.keras.wrappers.scikit_learn import KerasRegressor\n",
    "from sklearn.model_selection import GridSearchCV, KFold, train_test_split\n",
    "from sklearn.preprocessing import MinMaxScaler\n",
    "RANDOM_SEED = 2021"
   ]
  },
  {
   "cell_type": "markdown",
   "id": "451cb32a-e6fa-4762-9af8-349a20fc28c9",
   "metadata": {},
   "source": [
    "* **Escalar dados para o bom funcionamento da rede**"
   ]
  },
  {
   "cell_type": "code",
   "execution_count": null,
   "id": "9ed7d54d-53a7-49ac-b7bd-f16942c38084",
   "metadata": {},
   "outputs": [],
   "source": [
    "scaler_X = MinMaxScaler(feature_range=(0, 1)).fit(x)\n",
    "scaler_y = MinMaxScaler(feature_range=(0, 1)).fit(y)\n",
    "x_scaled = pd.DataFrame(scaler_X.transform(x[x.columns]), columns=x.columns)\n",
    "y_scaled = pd.DataFrame(scaler_y.transform(y[y.columns]), columns=y.columns)"
   ]
  },
  {
   "cell_type": "code",
   "execution_count": null,
   "id": "dd1003ca-a446-44e3-b4e1-46e5e8d1cc4d",
   "metadata": {},
   "outputs": [],
   "source": [
    "x_scaled.head()"
   ]
  },
  {
   "cell_type": "code",
   "execution_count": null,
   "id": "cdf3e785-8f8a-435d-b225-0057e4fb58d0",
   "metadata": {},
   "outputs": [],
   "source": [
    "y_scaled.head()"
   ]
  },
  {
   "cell_type": "markdown",
   "id": "dbb1f6b1-3b1d-41c1-95cf-0d2684e5b8f3",
   "metadata": {},
   "source": [
    "* **Separar dados de treino e de teste**"
   ]
  },
  {
   "cell_type": "code",
   "execution_count": null,
   "id": "a6e3c481-644b-4b2a-aa95-9f643858fb4b",
   "metadata": {},
   "outputs": [],
   "source": [
    "x_train, x_test, y_train, y_test = train_test_split(x_scaled, y_scaled,test_size=0.2,random_state=2022)"
   ]
  },
  {
   "cell_type": "markdown",
   "id": "bb2d7505-70e2-463f-92d3-f3962873be83",
   "metadata": {},
   "source": [
    "* **Criar modelo para as redes**"
   ]
  },
  {
   "cell_type": "code",
   "execution_count": null,
   "id": "76e7be2e-eca3-414c-a012-0551bc50c3dc",
   "metadata": {
    "tags": []
   },
   "outputs": [],
   "source": [
    "def build_model(activation='relu', learning_rate=0.01):\n",
    "    #Create a sequential model (with three Layers - Last one is the output)\n",
    "    model = Sequential()\n",
    "    model.add(Dense(16, input_dim=6, activation=activation) )\n",
    "    model.add(Dense(8, activation=activation) )\n",
    "    model.add(Dense(1, activation='relu'))\n",
    "\n",
    "    #Compile the model\n",
    "    #Define the Loss function, the otimizer and metrics to be used\n",
    "    model .compile(\n",
    "    loss = 'mae',\n",
    "    optimizer = tf.optimizers.Adam(learning_rate),\n",
    "    metrics = ['mae', 'mse'])\n",
    "    return model"
   ]
  },
  {
   "cell_type": "code",
   "execution_count": null,
   "id": "5711854c-ee3b-4ad5-9966-5f3cbf7b70b9",
   "metadata": {},
   "outputs": [],
   "source": [
    "model = build_model()"
   ]
  },
  {
   "cell_type": "markdown",
   "id": "a5b0cc14-0b6c-4a8f-9409-eec6b3b8ce17",
   "metadata": {},
   "source": [
    "Tunning do modelo"
   ]
  },
  {
   "cell_type": "code",
   "execution_count": null,
   "id": "efb59746-680b-4519-8257-4730b9156b7d",
   "metadata": {},
   "outputs": [],
   "source": [
    "TUNING_DICT = {\n",
    "'activation' : ['relu', 'sigmoid'],\n",
    "'learning_rate' : [0.01, 0.001]\n",
    "}"
   ]
  },
  {
   "cell_type": "markdown",
   "id": "4fded6e4-af7f-49ff-9fed-036628f711e2",
   "metadata": {},
   "source": [
    "* **Correr modelo**"
   ]
  },
  {
   "cell_type": "code",
   "execution_count": null,
   "id": "8eaf91b6-4699-4295-a9dd-059f45456ac0",
   "metadata": {
    "jupyter": {
     "outputs_hidden": true
    },
    "tags": []
   },
   "outputs": [],
   "source": [
    "#kf = KFold(n_splits=5, shuffle=True, random_state=RANDOM_SEED)\n",
    "#\n",
    "#model = KerasRegressor(build_fn=build_model, epochs=20, batch_size=32)\n",
    "#grid_search = GridSearchCV(estimator = model,\n",
    "#                            param_grid = TUNING_DICT,\n",
    "#                            cv = kf,\n",
    "#                            scoring = 'neg_mean_absolute_error',\n",
    "#                            refit = 'True',\n",
    "#                            verbose = 1)\n",
    "#\n",
    "#grid_search.fit(x_train, y_train, validation_split=0.2)"
   ]
  },
  {
   "cell_type": "markdown",
   "id": "74f3dfcd-b5b4-44d9-a667-cd0e7a077b5b",
   "metadata": {},
   "source": [
    "* **Resultados**"
   ]
  },
  {
   "cell_type": "code",
   "execution_count": null,
   "id": "28a5f50b-3ffb-408a-b517-040b68d6596b",
   "metadata": {},
   "outputs": [],
   "source": [
    "#summarize results\n",
    "print(\"Best: %f using %s\" % (grid_search.best_score_, grid_search.best_params_))\n",
    "means = grid_search.cv_results_['mean_test_score']\n",
    "stds = grid_search.cv_results_['std_test_score']\n",
    "params = grid_search.cv_results_['params']\n",
    "for mean, stdev, param in zip(means, stds, params):\n",
    "    print(\"%f (%f) with: %r\" % (mean, stdev, param))"
   ]
  },
  {
   "cell_type": "code",
   "execution_count": null,
   "id": "2246b267-bc38-41eb-93b0-cf12e4bf38df",
   "metadata": {},
   "outputs": [],
   "source": [
    "#Our best model (remember we set refit=True?)\n",
    "best_mlp_model = grid_search.best_estimator_"
   ]
  },
  {
   "cell_type": "code",
   "execution_count": null,
   "id": "573a7a09-3b97-4ff3-9eb0-6d1667084aa8",
   "metadata": {},
   "outputs": [],
   "source": [
    "from livelossplot import PlotLossesKerasTF"
   ]
  },
  {
   "cell_type": "markdown",
   "id": "18f3a869-59e3-4600-8d55-5ce8f80dfaf9",
   "metadata": {},
   "source": [
    "**Fitting do modelo**"
   ]
  },
  {
   "cell_type": "code",
   "execution_count": null,
   "id": "252feb54-f335-4c98-97f7-13d454bfe7cb",
   "metadata": {},
   "outputs": [],
   "source": [
    "best_mlp_model.fit(x_train, y_train, epochs=20,\n",
    "validation_data=(x_test, y_test),\n",
    "callbacks=[PlotLossesKerasTF()], verbose=1)"
   ]
  },
  {
   "cell_type": "markdown",
   "id": "8e37a8be-fe28-49a8-a8bb-c32ffd88d4fa",
   "metadata": {},
   "source": [
    "O fit não é o melhor, sugerindo que deveriamos aumentar a quantidade de dados de treino"
   ]
  },
  {
   "cell_type": "markdown",
   "id": "5ec9037f-127e-4593-b245-595fa8d4058f",
   "metadata": {},
   "source": [
    "* **Unscaled results**"
   ]
  },
  {
   "cell_type": "code",
   "execution_count": null,
   "id": "dbeec138-0a76-40b6-978e-0b236b0353be",
   "metadata": {},
   "outputs": [],
   "source": [
    "#Obtain predictions\n",
    "\n",
    "predictions = best_mlp_model.predict(x_test)\n",
    "\n",
    "predictions = predictions.reshape(predictions.shape[0], 1)\n",
    "predictions[:5]"
   ]
  },
  {
   "cell_type": "code",
   "execution_count": null,
   "id": "75f994cc-f6a8-4f61-996b-67f4402f21b1",
   "metadata": {},
   "outputs": [],
   "source": [
    "#And now Let's unscale the model's predictions to see real prices!\n",
    "predictions_unscaled = scaler_y.inverse_transform(predictions)\n",
    "pd.DataFrame(predictions_unscaled)"
   ]
  },
  {
   "cell_type": "code",
   "execution_count": null,
   "id": "9f01e972-edc0-4e8e-94c7-a15de7470058",
   "metadata": {},
   "outputs": [],
   "source": [
    "y_test_unscaled = pd.DataFrame(scaler_y.inverse_transform(y_test))\n",
    "y_test_unscaled"
   ]
  },
  {
   "cell_type": "code",
   "execution_count": null,
   "id": "e96d017e-905d-4fd8-bb91-34c1248536c3",
   "metadata": {},
   "outputs": [],
   "source": [
    "print('MAE:', metrics.mean_absolute_error(y_test_unscaled, predictions_unscaled))\n",
    "print('MSE:', metrics.mean_squared_error(y_test_unscaled, predictions_unscaled))\n",
    "print('RMSE:', np.sqrt(metrics.mean_squared_error(y_test_unscaled, predictions_unscaled)))"
   ]
  },
  {
   "cell_type": "markdown",
   "id": "a1008ac7",
   "metadata": {
    "jp-MarkdownHeadingCollapsed": true,
    "tags": []
   },
   "source": [
    "#### **5.4. Support Vector Machine**"
   ]
  },
  {
   "cell_type": "markdown",
   "id": "793d7c49",
   "metadata": {},
   "source": [
    "Separar o data-set em conjuntos de treino e teste <br>\n",
    "Tamanho de teste - 25% <br>\n",
    "Seed = 2022"
   ]
  },
  {
   "cell_type": "code",
   "execution_count": null,
   "id": "599cf5a1",
   "metadata": {},
   "outputs": [],
   "source": [
    "from sklearn.model_selection import train_test_split\n",
    "x = df.drop(['points'],axis=1)\n",
    "y = df['points'].to_frame()\n",
    "x_train, x_test, y_train, y_test = train_test_split(x, y, test_size=0.25, random_state=2022)"
   ]
  },
  {
   "cell_type": "markdown",
   "id": "539602fb",
   "metadata": {},
   "source": [
    "Importar funções necessárias para este modelo"
   ]
  },
  {
   "cell_type": "code",
   "execution_count": null,
   "id": "f864bb6d",
   "metadata": {},
   "outputs": [],
   "source": [
    "from sklearn.svm import SVR\n",
    "from sklearn.preprocessing import StandardScaler\n",
    "from sklearn.pipeline import make_pipeline"
   ]
  },
  {
   "cell_type": "markdown",
   "id": "d1dc3958",
   "metadata": {},
   "source": [
    "Criação de uma instância SVR()"
   ]
  },
  {
   "cell_type": "code",
   "execution_count": null,
   "id": "88ab7480",
   "metadata": {},
   "outputs": [],
   "source": [
    "#model = SVR(kernel = 'rbf')\n",
    "#model.fit(x_train,y_train.values.ravel())"
   ]
  },
  {
   "cell_type": "markdown",
   "id": "97dd6efe",
   "metadata": {},
   "source": [
    "Geração de previsões"
   ]
  },
  {
   "cell_type": "code",
   "execution_count": null,
   "id": "d10fd96b",
   "metadata": {},
   "outputs": [],
   "source": [
    "#y_pred = model.predict(x_test)\n",
    "#y_pred"
   ]
  },
  {
   "cell_type": "code",
   "execution_count": null,
   "id": "35d2052b",
   "metadata": {},
   "outputs": [],
   "source": [
    "y_test"
   ]
  },
  {
   "cell_type": "markdown",
   "id": "6a685393",
   "metadata": {},
   "source": [
    "**Avaliação do modelo**"
   ]
  },
  {
   "cell_type": "markdown",
   "id": "97b7707f",
   "metadata": {},
   "source": [
    "Importar funções necessárias"
   ]
  },
  {
   "cell_type": "code",
   "execution_count": null,
   "id": "bc17a67f",
   "metadata": {},
   "outputs": [],
   "source": [
    "from sklearn.metrics import classification_report, plot_confusion_matrix"
   ]
  },
  {
   "cell_type": "markdown",
   "id": "eda67d32",
   "metadata": {},
   "source": [
    "Matriz de confusão"
   ]
  },
  {
   "cell_type": "code",
   "execution_count": null,
   "id": "66e6ccac",
   "metadata": {},
   "outputs": [],
   "source": [
    "plot_confusion_matrix(model, x_test, y_test) "
   ]
  },
  {
   "cell_type": "markdown",
   "id": "cd80ae1b",
   "metadata": {},
   "source": [
    "Classification report"
   ]
  },
  {
   "cell_type": "code",
   "execution_count": null,
   "id": "969de465",
   "metadata": {},
   "outputs": [],
   "source": [
    "print(classification_report(y_test, y_pred))"
   ]
  },
  {
   "cell_type": "markdown",
   "id": "22e3e7a7",
   "metadata": {},
   "source": [
    "### 5.5 Ensemble learning"
   ]
  },
  {
   "cell_type": "markdown",
   "id": "669f99b3",
   "metadata": {},
   "source": [
    "### 5.5.1 Voting"
   ]
  },
  {
   "cell_type": "code",
   "execution_count": null,
   "id": "63a93c8e",
   "metadata": {},
   "outputs": [],
   "source": [
    "#from sklearn.ensemble import VotingRegressor\n",
    "#from sklearn.tree import DecisionTreeRegressor\n",
    "#from sklearn.linear_model import LinearRegression\n",
    "#from sklearn.preprocessing import StandardScaler\n",
    "#from sklearn.svm import SVR\n",
    "#from sklearn.model_selection import train_test_split\n",
    "#\n",
    "#x = df.drop(['points'],axis=1)\n",
    "#y = df['points'].to_frame()\n",
    "#x_train, x_test, y_train, y_test = train_test_split(x, y, test_size=0.25, random_state=2022)\n",
    "#\n",
    "#\n",
    "#best_svr = SVR()\n",
    "#best_dt = DecisionTreeRegressor(random_state=2022)\n",
    "#best_lr = LinearRegression()\n",
    "#\n",
    "#estimators = [('svr', best_svr), ('dt', best_dt), ('lr', best_lr)]\n",
    "#vr = VotingRegressor(estimators, weights = [1, 1, 1])\n",
    "#\n",
    "#vr = vr.fit(x_train, y_train.values.ravel())\n"
   ]
  },
  {
   "cell_type": "markdown",
   "id": "17b2a8a8",
   "metadata": {},
   "source": [
    "### 5.5.2 Bagging"
   ]
  },
  {
   "cell_type": "code",
   "execution_count": null,
   "id": "4a9dac68",
   "metadata": {},
   "outputs": [],
   "source": [
    "#from sklearn.ensemble import BaggingRegressor\n",
    "#from sklearn.model_selection import GridSearchCV, StratifiedShuffleSplit\n",
    "#from sklearn.model_selection import train_test_split\n",
    "#\n",
    "#x = df.drop(['points'],axis=1)\n",
    "#y = df['points'].to_frame()\n",
    "#x_train, x_test, y_train, y_test = train_test_split(x, y, test_size=0.25, random_state=2022)\n",
    "#\n",
    "#n_estimators = [10,40,68, 80, 100, 160]\n",
    "#\n",
    "#cv = StratifiedShuffleSplit(n_splits=10, test_size=21, random_state=2022)\n",
    "#parameters={'n_estimators' :n_estimators}\n",
    "#\n",
    "#gs = GridSearchCV(BaggingRegressor(DecisionTreeRegressor(random_state=2022), bootstrap = True),\n",
    "#                  param_grid=parameters, cv=cv)\n",
    "#gs = gs.fit(x_train, y_train.values.ravel())"
   ]
  },
  {
   "cell_type": "code",
   "execution_count": null,
   "id": "67c30719",
   "metadata": {},
   "outputs": [],
   "source": [
    "#predictions = gs.predict(x_test)\n",
    "#mean_absolute_error(y_test,predictions)"
   ]
  },
  {
   "cell_type": "markdown",
   "id": "7136aad5",
   "metadata": {},
   "source": [
    "### 5.5.3 Stacking"
   ]
  },
  {
   "cell_type": "code",
   "execution_count": null,
   "id": "802528af",
   "metadata": {},
   "outputs": [],
   "source": [
    "from sklearn.ensemble import StackingRegressor\n",
    "from sklearn.ensemble import RandomForestRegressor\n",
    "from sklearn.model_selection import train_test_split\n",
    "import xgboost as xgb\n",
    "\n",
    "x = df.drop(['points'],axis=1)\n",
    "y = df['points'].to_frame()\n",
    "x_train, x_test, y_train, y_test = train_test_split(x, y, test_size=0.25, random_state=2022)\n",
    "\n",
    "boost = xgb.XGBRegressor(random_state=2022, verbosity=0, use_label_encoder=False)\n",
    "forest = RandomForestRegressor(n_estimators=100,random_state=2022)\n",
    "lgregression = LinearRegression(random_state=2022)\n",
    "\n",
    "estimators = [\n",
    "     ('rf', forest),\n",
    "     ('xgb', boost)\n",
    "]\n",
    "sclf = StackingRegressor(estimators=estimators,\n",
    "                          final_estimator=lgregression,\n",
    "                          cv=10)\n",
    "\n",
    "sclf.fit(x_train, y_train.values.ravel())"
   ]
  },
  {
   "cell_type": "markdown",
   "id": "c13c26ea",
   "metadata": {},
   "source": [
    "### 5.5.4 Blending"
   ]
  },
  {
   "cell_type": "code",
   "execution_count": null,
   "id": "fa4f98ed",
   "metadata": {},
   "outputs": [],
   "source": [
    "#from sklearn.model_selection import train_test_split\n",
    "#from sklearn.svm import SVR\n",
    "#x = df.drop(['points'],axis=1)\n",
    "#y = df['points'].to_frame()\n",
    "#\n",
    "#X_train, X_test, y_train, y_test = train_test_split(x, y, test_size=0.2, random_state=2022)\n",
    "#X_train, X_val, y_train, y_val = train_test_split(X_train, y_train, test_size=0.2, random_state=2022)\n",
    "#\n",
    "#model_1= SVR(gamma=\"scale\")\n",
    "#model_1.fit(X_train, y_train.values.ravel())\n",
    "#\n",
    "#val_pred_1= model_1.predict(X_val)\n",
    "#test_pred_1= model_1.predict(X_test)\n",
    "#\n",
    "#model_2= RandomForestRegression(random_state=2022)\n",
    "#model_2.fit(X_train, y_train.values.ravel())\n",
    "#\n",
    "#val_pred_2= model_2.predict(X_val)\n",
    "#test_pred_2= model_2.predict(X_test)\n",
    "#\n",
    "#df_val= pd.concat([X_val, val_pred_1, val_pred_2], axis=1)\n",
    "#df_test= pd.concat([X_test, test_pred_1, test_pred_2], axis=1)\n",
    "#\n",
    "#model = LinearRegression(random_state=2022)\n",
    "#\n",
    "#model.fit(df_val, y_val.values.ravel())"
   ]
  },
  {
   "cell_type": "markdown",
   "id": "0f782387",
   "metadata": {},
   "source": [
    "### 5.5.5 Adaboost"
   ]
  },
  {
   "cell_type": "code",
   "execution_count": null,
   "id": "840a53fd",
   "metadata": {},
   "outputs": [],
   "source": [
    "from sklearn.ensemble import AdaBoostRegressor\n",
    "from sklearn.model_selection import train_test_split\n",
    "from sklearn.model_selection import GridSearchCV\n",
    "\n",
    "x = df.drop(['points'],axis=1)\n",
    "y = df['points'].to_frame()\n",
    "\n",
    "X_train, X_test, y_train, y_test = train_test_split(x, y, test_size=0.25, random_state=2022)\n",
    "\n",
    "clf = AdaBoostRegressor(random_state=2022)\n",
    "clf.fit(x_train, y_train.values.ravel())"
   ]
  },
  {
   "cell_type": "code",
   "execution_count": null,
   "id": "d817923c",
   "metadata": {},
   "outputs": [],
   "source": [
    "predictions = rfc.predict(x_test)\n",
    "mean_absolute_error(y_test,predictions)"
   ]
  },
  {
   "cell_type": "markdown",
   "id": "1fe462ea",
   "metadata": {},
   "source": [
    "### 5.5.6 XGBoost"
   ]
  },
  {
   "cell_type": "code",
   "execution_count": null,
   "id": "ca272671",
   "metadata": {},
   "outputs": [],
   "source": [
    "import xgboost as xgb\n",
    "from sklearn.model_selection import train_test_split\n",
    "\n",
    "x = df.drop(['points'],axis=1)\n",
    "y = df['points'].to_frame()\n",
    "x_train, x_test, y_train,y_test = train_test_split(x,y,test_size=0.25,random_state=2022)\n",
    "\n",
    "xg_reg = xgb.XGBRegressor(tree_method=\"hist\",eval_metric=mean_absolute_error,random_state=2022, n_estimators=100)\n",
    "xg_reg.fit(x_train, y_train.values.ravel())"
   ]
  },
  {
   "cell_type": "code",
   "execution_count": null,
   "id": "2c8e2eef",
   "metadata": {},
   "outputs": [],
   "source": [
    "predictions = rfc.predict(x_test)\n",
    "mean_absolute_error(y_test,predictions)"
   ]
  },
  {
   "cell_type": "markdown",
   "id": "3f5fdf48",
   "metadata": {},
   "source": [
    "### 5.5.7 Random Forest Regressor"
   ]
  },
  {
   "cell_type": "code",
   "execution_count": null,
   "id": "dec63b57",
   "metadata": {},
   "outputs": [],
   "source": [
    "from sklearn.ensemble import RandomForestRegressor\n",
    "from sklearn.model_selection import train_test_split\n",
    "from sklearn.metrics import mean_absolute_error"
   ]
  },
  {
   "cell_type": "code",
   "execution_count": null,
   "id": "140f426d",
   "metadata": {},
   "outputs": [],
   "source": [
    "x = df.drop(['points'],axis=1)\n",
    "y = df['points'].to_frame()\n",
    "x_train, x_test, y_train,y_test = train_test_split(x,y,test_size=0.25,random_state=2022)\n",
    "\n",
    "rfc = RandomForestRegressor(n_estimators=100, random_state=2022)\n",
    "rfc.fit(x_train, y_train.values.ravel())"
   ]
  },
  {
   "cell_type": "code",
   "execution_count": null,
   "id": "a9401ca2",
   "metadata": {},
   "outputs": [],
   "source": [
    "predictions = rfc.predict(x_test)\n",
    "mean_absolute_error(y_test,predictions)"
   ]
  },
  {
   "cell_type": "markdown",
   "id": "c3451bdf",
   "metadata": {},
   "source": [
    "*Usar GPU em vez de CPU para as redes neuronais*"
   ]
  },
  {
   "cell_type": "code",
   "execution_count": null,
   "id": "a77e269e",
   "metadata": {},
   "outputs": [],
   "source": [
    "!pip install --upgrade tensorflow-gpu==2.4.1"
   ]
  },
  {
   "cell_type": "code",
   "execution_count": null,
   "id": "44a60a04-cee0-4e09-b34b-cd9d4398f6c6",
   "metadata": {},
   "outputs": [],
   "source": [
    "import tensorflow as tf\n",
    "tf.test.is_gpu_available()\n"
   ]
  },
  {
   "cell_type": "code",
   "execution_count": null,
   "id": "d53bffd3-166d-45de-b27d-df83e9fd908d",
   "metadata": {},
   "outputs": [],
   "source": []
  }
 ],
 "metadata": {
  "kernelspec": {
   "display_name": "Python 3",
   "language": "python",
   "name": "python3"
  },
  "language_info": {
   "codemirror_mode": {
    "name": "ipython",
    "version": 3
   },
   "file_extension": ".py",
   "mimetype": "text/x-python",
   "name": "python",
   "nbconvert_exporter": "python",
   "pygments_lexer": "ipython3",
   "version": "3.6.4"
  }
 },
 "nbformat": 4,
 "nbformat_minor": 5
}
