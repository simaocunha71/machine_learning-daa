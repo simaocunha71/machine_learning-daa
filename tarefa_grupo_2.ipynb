{
 "cells": [
  {
   "cell_type": "markdown",
   "id": "d0be7b61",
   "metadata": {},
   "source": [
    "# TAREFA DATASET GRUPO\n",
    "\n",
    "Para esta fase, decidimos escolher um dataset referente a avaliações de vinhos. \n",
    "Pode ser encontrado neste link: https://www.kaggle.com/datasets/zynicide/wine-reviews <br>\n",
    "O objetivo desta fase é, através deste dataset, inferir acerca do valor de points que será dado a um dado vinho."
   ]
  },
  {
   "cell_type": "markdown",
   "id": "f3425fbd",
   "metadata": {},
   "source": [
    "### **1.** Importar as bibliotecas essenciais do Python para a elaboração desta tarefa"
   ]
  },
  {
   "cell_type": "code",
   "execution_count": 196,
   "id": "d2110514",
   "metadata": {},
   "outputs": [],
   "source": [
    "import sklearn as skl\n",
    "import numpy as np\n",
    "import pandas as pd\n",
    "import matplotlib.pyplot as plt\n",
    "import seaborn as sns\n",
    "pd.set_option('display.max_columns', None)\n",
    "\n",
    "import warnings\n",
    "warnings.filterwarnings('always')"
   ]
  },
  {
   "cell_type": "markdown",
   "id": "bf0e69e0",
   "metadata": {},
   "source": [
    "### **2.** Carregar o dataset para um dataframe da biblioteca Panda "
   ]
  },
  {
   "cell_type": "code",
   "execution_count": null,
   "id": "c5b1ae2b",
   "metadata": {},
   "outputs": [],
   "source": [
    "df = pd.read_csv('docs/winemag-data-130k-v2.csv', encoding=\"utf-8\", skipinitialspace=True)"
   ]
  },
  {
   "cell_type": "markdown",
   "id": "67994d89",
   "metadata": {
    "tags": []
   },
   "source": [
    "### **3.** Obtenção de informação acerca do dataset: tipos de dados das features, conteúdo do dataset e estatística"
   ]
  },
  {
   "cell_type": "markdown",
   "id": "6f6d0507",
   "metadata": {},
   "source": [
    "* **tipos de dados das features**"
   ]
  },
  {
   "cell_type": "code",
   "execution_count": null,
   "id": "45f0c71d",
   "metadata": {
    "scrolled": true,
    "tags": []
   },
   "outputs": [],
   "source": [
    "df.info()"
   ]
  },
  {
   "cell_type": "markdown",
   "id": "ab9ff096-9c59-4187-85ac-64e58ef63877",
   "metadata": {},
   "source": [
    "A feature objetivo, points, está preenchida em todas as linhas.<br>\n",
    "Muitas das outras features têm de ser preenchidas mais tarde ou retiradas completamente por estarem incompletas (como taster_twiter_handle)"
   ]
  },
  {
   "cell_type": "markdown",
   "id": "b5152fce",
   "metadata": {},
   "source": [
    "* **conteúdo do dataset**"
   ]
  },
  {
   "cell_type": "code",
   "execution_count": null,
   "id": "258cac20",
   "metadata": {
    "scrolled": true,
    "tags": []
   },
   "outputs": [],
   "source": [
    "df"
   ]
  },
  {
   "cell_type": "markdown",
   "id": "36c1cdb7-b3b5-4222-beb2-a733153cab45",
   "metadata": {},
   "source": [
    "Reparamos que a feature Unnamed: 0 apenas serve como id, sendo portanto desnecessária. <br>\n",
    "Region 1 e 2 sao apenas especificações de province, dependendo do seu número de valores únicos, talvez sejam um overload de informação que é melhor excluir. <br>\n",
    "Da mesma forma, taster_twitter_handle apenas complementa taster_name."
   ]
  },
  {
   "cell_type": "markdown",
   "id": "7561aa58",
   "metadata": {},
   "source": [
    "* **estatística**"
   ]
  },
  {
   "cell_type": "code",
   "execution_count": null,
   "id": "5d441b59",
   "metadata": {},
   "outputs": [],
   "source": [
    "df.describe()"
   ]
  },
  {
   "cell_type": "markdown",
   "id": "cb9c76dd-141b-459a-bdbd-f1a2d01ef0b7",
   "metadata": {},
   "source": [
    "Podemos ver que embora points seja da perspetiva de fora um atributo de classificação que iria de 0-100, neste dataset apenas temos valores entre 80 e 100.<br>\n",
    "O valor máximo de preço é muito superior à sua média (possível necessidade de tratar de outliers).\n"
   ]
  },
  {
   "cell_type": "markdown",
   "id": "e16bf2f7-58b6-40b7-8aa8-2542d240b6e4",
   "metadata": {},
   "source": [
    "* **Distribuição da feature target**"
   ]
  },
  {
   "cell_type": "code",
   "execution_count": null,
   "id": "556a6ef7-31ef-4a30-9221-8ef2f5ee1196",
   "metadata": {
    "scrolled": true,
    "tags": []
   },
   "outputs": [],
   "source": [
    "df.points.hist()"
   ]
  },
  {
   "cell_type": "markdown",
   "id": "513b8a69-81b8-4487-bef9-d303f0fbc56c",
   "metadata": {},
   "source": [
    "Distribuição do target é aproximadamente normal, o que será benéfico para a criação de modelos, como por exemplo de regressão linear."
   ]
  },
  {
   "cell_type": "markdown",
   "id": "7105f47a-0132-4d7d-8676-95d819b5d3a7",
   "metadata": {},
   "source": [
    "* **Distribuição da feature price**"
   ]
  },
  {
   "cell_type": "code",
   "execution_count": null,
   "id": "bee6a747-1f4b-425a-a1b4-351184db86be",
   "metadata": {
    "scrolled": true,
    "tags": []
   },
   "outputs": [],
   "source": [
    "df.price.hist(bins=[0,20,50,100,200,300,1000,2000,2500,3000])"
   ]
  },
  {
   "cell_type": "markdown",
   "id": "3de4423a-d05f-439c-b3e1-6c2283135283",
   "metadata": {},
   "source": [
    "Através do grafo dos preços (possível segunda feature alvo), podemos ver que a grande maioria destes se distribui por volta de valores menores que 100."
   ]
  },
  {
   "cell_type": "markdown",
   "id": "1c565635-76f8-49cc-b2e1-d43e2b3074ef",
   "metadata": {},
   "source": [
    "* **Análise dos valores únicos das features**"
   ]
  },
  {
   "cell_type": "code",
   "execution_count": null,
   "id": "38a369f5-d7ed-41bb-9fd3-3143cab934da",
   "metadata": {
    "scrolled": true,
    "tags": []
   },
   "outputs": [],
   "source": [
    "for c in df:\n",
    "    print(f\"{c}: {df[c].unique()}\")\n",
    "    print(f\"Quantidade: {df[c].nunique()}\")\n",
    "    print(\"---------------------------------------\")"
   ]
  },
  {
   "cell_type": "markdown",
   "id": "ff2570ad-dc46-4d1b-8e9a-4efdfa17e3c1",
   "metadata": {
    "tags": []
   },
   "source": [
    "| Feature               | Justificação                                                                                                                                          |\n",
    "|-----------------------|-------------------------------------------------------------------------------------------------------------------------------------------------------|\n",
    "| Unnamed               | Como mencionado anteriormente, esta feature serve como id, devendo ser retirada.                                                                      |\n",
    "| description           | O número de valores únicos é muito elevado, além de serem strings sem nenhum significado para os modelos                                              |\n",
    "| designation           | Número de valores únicos muito elevados (para strings).                                                                                               |\n",
    "| province              | Embora uma especificação de country, como não tem um número excessivo de valores únicos, pode ser benéfico.                                           |\n",
    "| region_1              | Especificação de especificação (province), com muitos valores únicos. Provavelmente melhor retirar.                                                   |\n",
    "| region_2              | Nova especificação de province.                                                                                                                       |\n",
    "| taster_twitter_handle | Especificação/AlterEgo do taster_name, informação redundante.                                                                                         |\n",
    "| title                 | Como mencionado anteriormente, número de únicos demasiado elevado, mas contém informação útil dentro deste, devendo ser retirada nos próximos passos. |\n",
    "| variety               | Número elevado de strings únicas, pode ou não ser relevante, devendo ser experimentado o modelo em ambos os casos.                                    |\n",
    "| winery                | Número muito elevado de strings únicas, embora potencialmente relevantes numa perspetiva de mundo real.                                               |"
   ]
  },
  {
   "cell_type": "markdown",
   "id": "0df88f51",
   "metadata": {},
   "source": [
    "### **4.** Preparação dos dados"
   ]
  },
  {
   "cell_type": "code",
   "execution_count": null,
   "id": "4ea552fb",
   "metadata": {
    "scrolled": true,
    "tags": []
   },
   "outputs": [],
   "source": [
    "df.head()"
   ]
  },
  {
   "cell_type": "code",
   "execution_count": null,
   "id": "df891ea4-8dce-4c6c-aa6c-0e1273efa5a6",
   "metadata": {
    "tags": []
   },
   "outputs": [],
   "source": [
    "df.columns"
   ]
  },
  {
   "cell_type": "markdown",
   "id": "376e31f5-e858-4f4b-8ca5-5bf88eb1705c",
   "metadata": {},
   "source": [
    "* **Remoção de features**"
   ]
  },
  {
   "cell_type": "code",
   "execution_count": null,
   "id": "6a2f5793",
   "metadata": {
    "tags": []
   },
   "outputs": [],
   "source": [
    "remove_features_list = [\"Unnamed: 0\",'designation', \"description\",'region_1', \"region_2\", \"taster_twitter_handle\",\"winery\"]\n",
    "for ft in remove_features_list:\n",
    "    df = df.drop(ft, axis=1)"
   ]
  },
  {
   "cell_type": "markdown",
   "id": "cb118e49-0399-4cb1-90c5-2b6663cacea6",
   "metadata": {},
   "source": [
    "* **Preenchimento valores em falta**"
   ]
  },
  {
   "cell_type": "code",
   "execution_count": null,
   "id": "3502377f-0e08-446d-a371-db61996b6568",
   "metadata": {},
   "outputs": [],
   "source": [
    "df.price.fillna(df.price.mean(),inplace =True)\n",
    "df.country.fillna(str(df.country.mode()),inplace =True)\n",
    "df.province.fillna(str(df.province.mode()),inplace =True)\n",
    "df.taster_name.fillna('unknown',inplace =True)\n",
    "df.variety.fillna(str(df.variety.mode()),inplace =True)"
   ]
  },
  {
   "cell_type": "markdown",
   "id": "92641438-6e75-46da-8adf-7d16bb29815b",
   "metadata": {
    "tags": []
   },
   "source": [
    "* **Tratamento de title**"
   ]
  },
  {
   "cell_type": "markdown",
   "id": "21a7ad35-7ee1-4447-9942-3ddc47c95cfb",
   "metadata": {},
   "source": [
    "Obsevando previamente os valores da feature title, observamos que todos parecem incluir o ano de produção de vinho e, embora a atualmente esta feature apresente demasiados valores únicos para ser útil, se conseguirmos retirar apenas o ano desta, possívelmente poderá ser usado no modelo."
   ]
  },
  {
   "cell_type": "code",
   "execution_count": null,
   "id": "f2ed0fa3-0b89-4c27-b374-962a6ea41272",
   "metadata": {
    "scrolled": true,
    "tags": []
   },
   "outputs": [],
   "source": [
    "df[df.title.str.contains(r'.*\\d{4}.*')].info()"
   ]
  },
  {
   "cell_type": "markdown",
   "id": "1c6644cd-f94d-48d1-85a1-80706aa3f072",
   "metadata": {},
   "source": [
    "Confirmamos que a grande maioria das linhas apresenta o ano. (apenas 4609 de 130k não apresentam)"
   ]
  },
  {
   "cell_type": "code",
   "execution_count": null,
   "id": "7c2b488a-3016-4adc-a85e-c93ff3299243",
   "metadata": {
    "tags": []
   },
   "outputs": [],
   "source": [
    "df.title = df.title.str.replace(r'(.|\\n)*(\\d{4})(.|\\n)*',r'\\2',regex=True)\n",
    "df.title = df.title[df.title.str.contains(r'\\d{4}')]\n"
   ]
  },
  {
   "cell_type": "code",
   "execution_count": null,
   "id": "083eee4b-d33b-48ed-b5dd-16a90f7bef2e",
   "metadata": {
    "jupyter": {
     "outputs_hidden": true
    },
    "tags": []
   },
   "outputs": [],
   "source": [
    "df.info()"
   ]
  },
  {
   "cell_type": "markdown",
   "id": "859e119d-48aa-4521-83f8-0a193af1f8b6",
   "metadata": {},
   "source": [
    "Mudar nome da feature para year"
   ]
  },
  {
   "cell_type": "code",
   "execution_count": null,
   "id": "be57b5d6-c6b7-4e29-a72d-f54ff26b227a",
   "metadata": {
    "tags": []
   },
   "outputs": [],
   "source": [
    "rename_map = {'title':'year'}\n",
    "df.rename(columns=rename_map,inplace=True)"
   ]
  },
  {
   "cell_type": "code",
   "execution_count": null,
   "id": "3178a93b-3a67-4034-aa0f-290b6b34cfcb",
   "metadata": {
    "jupyter": {
     "outputs_hidden": true
    },
    "tags": []
   },
   "outputs": [],
   "source": [
    "df"
   ]
  },
  {
   "cell_type": "markdown",
   "id": "ef542ff8-38b1-400f-aecd-54360be993d7",
   "metadata": {},
   "source": [
    "Preencher valores nulos com a moda"
   ]
  },
  {
   "cell_type": "code",
   "execution_count": null,
   "id": "60bf0204-66d5-46a4-8b3d-0cd688913a5e",
   "metadata": {},
   "outputs": [],
   "source": [
    "df.year.fillna(df.year.mode().astype(int).values[0],inplace=True)"
   ]
  },
  {
   "cell_type": "code",
   "execution_count": null,
   "id": "8e927390-22c8-46a5-a492-bed9bea5a60e",
   "metadata": {
    "tags": []
   },
   "outputs": [],
   "source": [
    "df.year = df.year.astype(int)"
   ]
  },
  {
   "cell_type": "markdown",
   "id": "3a1e8822-47e5-471c-bce3-e9cda3afedf5",
   "metadata": {},
   "source": [
    "* **Remoção de duplicados**"
   ]
  },
  {
   "cell_type": "code",
   "execution_count": null,
   "id": "4516e8d4",
   "metadata": {
    "tags": []
   },
   "outputs": [],
   "source": [
    "# Remoção de registos duplicados (caso hajam)\n",
    "df.drop_duplicates(inplace=True)"
   ]
  },
  {
   "cell_type": "code",
   "execution_count": null,
   "id": "64667dfc",
   "metadata": {
    "jupyter": {
     "outputs_hidden": true
    },
    "tags": []
   },
   "outputs": [],
   "source": [
    "df.info()"
   ]
  },
  {
   "cell_type": "markdown",
   "id": "b3a4a70e-bdc0-4d94-8eef-0e2d442cacb1",
   "metadata": {},
   "source": [
    "* **Labeling das features**"
   ]
  },
  {
   "cell_type": "markdown",
   "id": "ccd31c08-6543-400e-a9e0-e94c091d9d9c",
   "metadata": {},
   "source": [
    "Número de valores únicos e tipo de cada feature"
   ]
  },
  {
   "cell_type": "code",
   "execution_count": null,
   "id": "6f546fb4-6c0d-426e-92bd-634663f979cd",
   "metadata": {
    "tags": []
   },
   "outputs": [],
   "source": [
    "columns = df.columns.values\n",
    "for c in columns:\n",
    "    print(f\"{c} : {df[c].nunique()}  \\n   type : {df[c].dtype}\")"
   ]
  },
  {
   "cell_type": "code",
   "execution_count": null,
   "id": "2f4cc59d-ca2b-461f-ae8d-a387ffbfebdd",
   "metadata": {
    "tags": []
   },
   "outputs": [],
   "source": [
    "df.info()"
   ]
  },
  {
   "cell_type": "markdown",
   "id": "66e5eaa8-8930-4093-aee5-94c6c7cc6661",
   "metadata": {},
   "source": [
    "Labeling de features tipo object"
   ]
  },
  {
   "cell_type": "code",
   "execution_count": null,
   "id": "2ebc40fc-c88f-4ccd-867b-b1dbfb02d72a",
   "metadata": {
    "tags": []
   },
   "outputs": [],
   "source": [
    "for c in df.columns.values:\n",
    "    if(df[c].dtype=='object'):\n",
    "        print(c)\n",
    "        labels = df[c].astype('category').cat.categories.tolist()\n",
    "        replace_map_comp = {c : {k: v for k,v in zip(labels,list(range(1,len(labels)+1)))}}\n",
    "        df.replace(replace_map_comp,inplace=True)\n",
    "\n",
    "df.head()\n"
   ]
  },
  {
   "cell_type": "markdown",
   "id": "2f2c57e2-7a7b-44da-84bd-3a2f5b5018c8",
   "metadata": {},
   "source": [
    "### **5.** Aplicação de modelos de Machine Learning"
   ]
  },
  {
   "cell_type": "markdown",
   "id": "4a7a5c72-8d18-4171-a820-fd4201f79e39",
   "metadata": {},
   "source": [
    "#### 5.1. Decision Tree regressor"
   ]
  },
  {
   "cell_type": "markdown",
   "id": "84263d11-5848-4af3-9a08-ce92277459e8",
   "metadata": {},
   "source": [
    "Imports necessários"
   ]
  },
  {
   "cell_type": "code",
   "execution_count": null,
   "id": "ca9c9178-f1e0-49a8-ae74-99f7dde847f4",
   "metadata": {},
   "outputs": [],
   "source": [
    "from sklearn import preprocessing\n",
    "from sklearn.model_selection import train_test_split\n",
    "from sklearn.tree import DecisionTreeClassifier\n",
    "from sklearn.tree import DecisionTreeRegressor\n",
    "from sklearn.metrics import confusion_matrix\n",
    "from sklearn.metrics import recall_score\n",
    "from sklearn.metrics import accuracy_score\n",
    "from sklearn.metrics import precision_score\n",
    "from sklearn.metrics import roc_auc_score\n",
    "from sklearn.metrics import roc_curve\n",
    "from sklearn.metrics import f1_score\n",
    "from sklearn.metrics import fbeta_score\n",
    "from sklearn.metrics import mean_absolute_error\n",
    "from sklearn.metrics import mean_squared_error"
   ]
  },
  {
   "cell_type": "markdown",
   "id": "c49ac6dc-1e94-4dd6-a32c-634d20c09f68",
   "metadata": {},
   "source": [
    "Retirar target do data-set de treino e criar uma cópia do data-set, para verificar predictions"
   ]
  },
  {
   "cell_type": "code",
   "execution_count": null,
   "id": "33bbc97e-79a2-4ad1-9edb-4226cff24d39",
   "metadata": {},
   "outputs": [],
   "source": [
    "x = df.drop(['points'],axis=1)\n",
    "y = df['points'].to_frame()"
   ]
  },
  {
   "cell_type": "code",
   "execution_count": null,
   "id": "5d9efbad-18c6-4da2-99d5-4acc2269e8ad",
   "metadata": {
    "jupyter": {
     "outputs_hidden": true
    },
    "tags": []
   },
   "outputs": [],
   "source": [
    "x"
   ]
  },
  {
   "cell_type": "code",
   "execution_count": null,
   "id": "3f8faea2-561e-46e0-b3b9-19910dfd7d1a",
   "metadata": {
    "jupyter": {
     "outputs_hidden": true
    },
    "tags": []
   },
   "outputs": [],
   "source": [
    "y"
   ]
  },
  {
   "cell_type": "markdown",
   "id": "e2cf8b89-75f1-4d69-97eb-8b3c3fc23bbd",
   "metadata": {},
   "source": [
    "Separar o data-set em conjuntos de treino e teste <br>\n",
    "Tamanho de teste - 25% <br>\n",
    "Seed = 2022"
   ]
  },
  {
   "cell_type": "code",
   "execution_count": null,
   "id": "b70fe65d-c4a2-4d80-a7e8-ee680137f1b6",
   "metadata": {},
   "outputs": [],
   "source": [
    "x_train, x_test, y_train, y_test = train_test_split(x, y, test_size=0.25, random_state=2022)"
   ]
  },
  {
   "cell_type": "markdown",
   "id": "d606efc0-22c9-43f6-8930-571905061726",
   "metadata": {},
   "source": [
    "Criar modelo de árvores de decisão"
   ]
  },
  {
   "cell_type": "code",
   "execution_count": null,
   "id": "ad84e84f-14be-4b3d-a9ab-4c358768b95a",
   "metadata": {},
   "outputs": [],
   "source": [
    "clf = DecisionTreeRegressor(random_state=2022)"
   ]
  },
  {
   "cell_type": "markdown",
   "id": "83207773-dcd5-41c8-9ce9-bb9b3bd13ebb",
   "metadata": {},
   "source": [
    "Treinar modelo"
   ]
  },
  {
   "cell_type": "code",
   "execution_count": null,
   "id": "4540ee9d-74c2-4041-9f26-26f30a3b0b3a",
   "metadata": {},
   "outputs": [],
   "source": [
    "clf.fit(x_train,y_train)"
   ]
  },
  {
   "cell_type": "markdown",
   "id": "76539ba1-71af-488e-9078-513c6a4ad582",
   "metadata": {},
   "source": [
    "Gerar previsões"
   ]
  },
  {
   "cell_type": "code",
   "execution_count": null,
   "id": "b6797620-43c6-4689-925d-084003a6ce94",
   "metadata": {
    "jupyter": {
     "outputs_hidden": true
    },
    "tags": []
   },
   "outputs": [],
   "source": [
    "predictions = clf.predict(x_test)\n",
    "pd.DataFrame(predictions)"
   ]
  },
  {
   "cell_type": "markdown",
   "id": "81212379-b719-4e26-b0c2-3738677471a6",
   "metadata": {},
   "source": [
    "MAE"
   ]
  },
  {
   "cell_type": "code",
   "execution_count": null,
   "id": "f803a65c-3793-4fd1-8758-db5350768c81",
   "metadata": {},
   "outputs": [],
   "source": [
    "mean_absolute_error(y_test,predictions)"
   ]
  },
  {
   "cell_type": "code",
   "execution_count": null,
   "id": "fbed4df1-346a-4ff1-98c8-2936e23f63c3",
   "metadata": {
    "jupyter": {
     "outputs_hidden": true
    },
    "tags": []
   },
   "outputs": [],
   "source": [
    "y_test"
   ]
  },
  {
   "cell_type": "markdown",
   "id": "34c71788",
   "metadata": {},
   "source": [
    "K-Cross validation com K = 10"
   ]
  },
  {
   "cell_type": "code",
   "execution_count": null,
   "id": "5e239d7d",
   "metadata": {},
   "outputs": [],
   "source": [
    "from sklearn.model_selection import cross_val_score\n",
    "\n",
    "N_FOLDS = 10\n",
    "scores = cross_val_score(clf, x, y, cv=N_FOLDS)\n",
    "print(scores)\n",
    "print(\"Accuracy: %0.2f\" %(scores.mean()))\n",
    "print(\"Desvio padrão: %0.2f\" %(scores.std()))"
   ]
  },
  {
   "cell_type": "markdown",
   "id": "09d6d7e4",
   "metadata": {},
   "source": [
    "#### 5.2. Linear Regression"
   ]
  },
  {
   "cell_type": "markdown",
   "id": "6ddefa85",
   "metadata": {},
   "source": [
    "Importar as funções necessárias para este modelo"
   ]
  },
  {
   "cell_type": "code",
   "execution_count": 151,
   "id": "766ac9f0",
   "metadata": {},
   "outputs": [],
   "source": [
    "from sklearn.linear_model import LinearRegression"
   ]
  },
  {
   "cell_type": "markdown",
   "id": "db027a7e",
   "metadata": {},
   "source": [
    "Separar o data-set em conjuntos de treino e teste <br>\n",
    "Tamanho de teste - 25% <br>\n",
    "Seed = 2022"
   ]
  },
  {
   "cell_type": "code",
   "execution_count": 163,
   "id": "7f85f020",
   "metadata": {},
   "outputs": [],
   "source": [
    "x_train, x_test, y_train, y_test = train_test_split(x, y, test_size=0.3, random_state=2022)"
   ]
  },
  {
   "cell_type": "markdown",
   "id": "8268916b",
   "metadata": {},
   "source": [
    "Criar instância de LinearRegression()"
   ]
  },
  {
   "cell_type": "code",
   "execution_count": 164,
   "id": "4d406d03",
   "metadata": {},
   "outputs": [],
   "source": [
    "lm = LinearRegression()"
   ]
  },
  {
   "cell_type": "code",
   "execution_count": 165,
   "id": "556cca9b",
   "metadata": {},
   "outputs": [
    {
     "data": {
      "text/plain": [
       "LinearRegression()"
      ]
     },
     "execution_count": 165,
     "metadata": {},
     "output_type": "execute_result"
    }
   ],
   "source": [
    "lm.fit(x_train, y_train)"
   ]
  },
  {
   "cell_type": "markdown",
   "id": "348e25ac",
   "metadata": {},
   "source": [
    "Gerar previsões"
   ]
  },
  {
   "cell_type": "code",
   "execution_count": 183,
   "id": "59db0084",
   "metadata": {
    "scrolled": true
   },
   "outputs": [
    {
     "data": {
      "text/html": [
       "<div>\n",
       "<style scoped>\n",
       "    .dataframe tbody tr th:only-of-type {\n",
       "        vertical-align: middle;\n",
       "    }\n",
       "\n",
       "    .dataframe tbody tr th {\n",
       "        vertical-align: top;\n",
       "    }\n",
       "\n",
       "    .dataframe thead th {\n",
       "        text-align: right;\n",
       "    }\n",
       "</style>\n",
       "<table border=\"1\" class=\"dataframe\">\n",
       "  <thead>\n",
       "    <tr style=\"text-align: right;\">\n",
       "      <th></th>\n",
       "      <th>0</th>\n",
       "    </tr>\n",
       "  </thead>\n",
       "  <tbody>\n",
       "    <tr>\n",
       "      <th>0</th>\n",
       "      <td>87.554118</td>\n",
       "    </tr>\n",
       "    <tr>\n",
       "      <th>1</th>\n",
       "      <td>88.986521</td>\n",
       "    </tr>\n",
       "    <tr>\n",
       "      <th>2</th>\n",
       "      <td>90.100114</td>\n",
       "    </tr>\n",
       "    <tr>\n",
       "      <th>3</th>\n",
       "      <td>87.671286</td>\n",
       "    </tr>\n",
       "    <tr>\n",
       "      <th>4</th>\n",
       "      <td>87.633931</td>\n",
       "    </tr>\n",
       "    <tr>\n",
       "      <th>...</th>\n",
       "      <td>...</td>\n",
       "    </tr>\n",
       "    <tr>\n",
       "      <th>29361</th>\n",
       "      <td>87.725749</td>\n",
       "    </tr>\n",
       "    <tr>\n",
       "      <th>29362</th>\n",
       "      <td>87.671178</td>\n",
       "    </tr>\n",
       "    <tr>\n",
       "      <th>29363</th>\n",
       "      <td>89.079302</td>\n",
       "    </tr>\n",
       "    <tr>\n",
       "      <th>29364</th>\n",
       "      <td>88.175809</td>\n",
       "    </tr>\n",
       "    <tr>\n",
       "      <th>29365</th>\n",
       "      <td>87.877476</td>\n",
       "    </tr>\n",
       "  </tbody>\n",
       "</table>\n",
       "<p>29366 rows × 1 columns</p>\n",
       "</div>"
      ],
      "text/plain": [
       "               0\n",
       "0      87.554118\n",
       "1      88.986521\n",
       "2      90.100114\n",
       "3      87.671286\n",
       "4      87.633931\n",
       "...          ...\n",
       "29361  87.725749\n",
       "29362  87.671178\n",
       "29363  89.079302\n",
       "29364  88.175809\n",
       "29365  87.877476\n",
       "\n",
       "[29366 rows x 1 columns]"
      ]
     },
     "execution_count": 183,
     "metadata": {},
     "output_type": "execute_result"
    }
   ],
   "source": [
    "predictions = lm.predict(x_test)\n",
    "df_pred = pd.DataFrame(data=predictions)\n",
    "df_pred"
   ]
  },
  {
   "cell_type": "code",
   "execution_count": 187,
   "id": "179cea10",
   "metadata": {
    "scrolled": true
   },
   "outputs": [
    {
     "data": {
      "text/html": [
       "<div>\n",
       "<style scoped>\n",
       "    .dataframe tbody tr th:only-of-type {\n",
       "        vertical-align: middle;\n",
       "    }\n",
       "\n",
       "    .dataframe tbody tr th {\n",
       "        vertical-align: top;\n",
       "    }\n",
       "\n",
       "    .dataframe thead th {\n",
       "        text-align: right;\n",
       "    }\n",
       "</style>\n",
       "<table border=\"1\" class=\"dataframe\">\n",
       "  <thead>\n",
       "    <tr style=\"text-align: right;\">\n",
       "      <th></th>\n",
       "      <th>points</th>\n",
       "    </tr>\n",
       "  </thead>\n",
       "  <tbody>\n",
       "    <tr>\n",
       "      <th>105320</th>\n",
       "      <td>87</td>\n",
       "    </tr>\n",
       "    <tr>\n",
       "      <th>100128</th>\n",
       "      <td>90</td>\n",
       "    </tr>\n",
       "    <tr>\n",
       "      <th>1139</th>\n",
       "      <td>84</td>\n",
       "    </tr>\n",
       "    <tr>\n",
       "      <th>40948</th>\n",
       "      <td>86</td>\n",
       "    </tr>\n",
       "    <tr>\n",
       "      <th>110663</th>\n",
       "      <td>90</td>\n",
       "    </tr>\n",
       "    <tr>\n",
       "      <th>...</th>\n",
       "      <td>...</td>\n",
       "    </tr>\n",
       "    <tr>\n",
       "      <th>129921</th>\n",
       "      <td>91</td>\n",
       "    </tr>\n",
       "    <tr>\n",
       "      <th>109424</th>\n",
       "      <td>80</td>\n",
       "    </tr>\n",
       "    <tr>\n",
       "      <th>77237</th>\n",
       "      <td>93</td>\n",
       "    </tr>\n",
       "    <tr>\n",
       "      <th>77868</th>\n",
       "      <td>85</td>\n",
       "    </tr>\n",
       "    <tr>\n",
       "      <th>23036</th>\n",
       "      <td>88</td>\n",
       "    </tr>\n",
       "  </tbody>\n",
       "</table>\n",
       "<p>29366 rows × 1 columns</p>\n",
       "</div>"
      ],
      "text/plain": [
       "        points\n",
       "105320      87\n",
       "100128      90\n",
       "1139        84\n",
       "40948       86\n",
       "110663      90\n",
       "...        ...\n",
       "129921      91\n",
       "109424      80\n",
       "77237       93\n",
       "77868       85\n",
       "23036       88\n",
       "\n",
       "[29366 rows x 1 columns]"
      ]
     },
     "execution_count": 187,
     "metadata": {},
     "output_type": "execute_result"
    }
   ],
   "source": [
    "y_test"
   ]
  },
  {
   "cell_type": "markdown",
   "id": "cf4edd0c",
   "metadata": {},
   "source": [
    "#### **Avaliação do modelo**"
   ]
  },
  {
   "cell_type": "code",
   "execution_count": 188,
   "id": "ef30c629",
   "metadata": {},
   "outputs": [
    {
     "name": "stdout",
     "output_type": "stream",
     "text": [
      "MAE: 2.2825673584524777\n",
      "MSE: 8.462452909482172\n",
      "RMSE: 2.909029547715556\n"
     ]
    }
   ],
   "source": [
    "from sklearn import metrics\n",
    "from math import sqrt\n",
    "\n",
    "print('MAE:', metrics.mean_absolute_error(y_test, predictions))\n",
    "print('MSE:', metrics.mean_squared_error(y_test, predictions))\n",
    "print('RMSE:', np.sqrt(metrics.mean_squared_error(y_test, predictions)))"
   ]
  },
  {
   "cell_type": "markdown",
   "id": "a1008ac7",
   "metadata": {},
   "source": [
    "#### 5.3. Support Vector Machine"
   ]
  },
  {
   "cell_type": "markdown",
   "id": "793d7c49",
   "metadata": {},
   "source": [
    "Separar o data-set em conjuntos de treino e teste <br>\n",
    "Tamanho de teste - 25% <br>\n",
    "Seed = 2022"
   ]
  },
  {
   "cell_type": "code",
   "execution_count": null,
   "id": "599cf5a1",
   "metadata": {},
   "outputs": [],
   "source": [
    "x_train, x_test, y_train, y_test = train_test_split(x, y, test_size=0.25, random_state=2022)"
   ]
  },
  {
   "cell_type": "markdown",
   "id": "539602fb",
   "metadata": {},
   "source": [
    "Importar funções necessárias para este modelo"
   ]
  },
  {
   "cell_type": "code",
   "execution_count": null,
   "id": "f864bb6d",
   "metadata": {},
   "outputs": [],
   "source": [
    "from sklearn.svm import SVC\n",
    "from sklearn.tree import DecisionTreeClassifier\n",
    "from sklearn import tree"
   ]
  },
  {
   "cell_type": "markdown",
   "id": "d1dc3958",
   "metadata": {},
   "source": [
    "Criação de uma instância SVC()"
   ]
  },
  {
   "cell_type": "code",
   "execution_count": null,
   "id": "88ab7480",
   "metadata": {},
   "outputs": [],
   "source": [
    "model = SVC(random_state=2022)\n",
    "model.fit(x_train,y_train)"
   ]
  },
  {
   "cell_type": "markdown",
   "id": "97dd6efe",
   "metadata": {},
   "source": [
    "Geração de previsões"
   ]
  },
  {
   "cell_type": "code",
   "execution_count": null,
   "id": "d10fd96b",
   "metadata": {},
   "outputs": [],
   "source": [
    "y_pred = model.predict(x_test)\n",
    "y_pred"
   ]
  },
  {
   "cell_type": "code",
   "execution_count": null,
   "id": "35d2052b",
   "metadata": {},
   "outputs": [],
   "source": [
    "y_test"
   ]
  },
  {
   "cell_type": "markdown",
   "id": "6a685393",
   "metadata": {},
   "source": [
    "**Avaliação do modelo**"
   ]
  },
  {
   "cell_type": "markdown",
   "id": "97b7707f",
   "metadata": {},
   "source": [
    "Importar funções necessárias"
   ]
  },
  {
   "cell_type": "code",
   "execution_count": null,
   "id": "bc17a67f",
   "metadata": {},
   "outputs": [],
   "source": [
    "from sklearn.metrics import classification_report, plot_confusion_matrix"
   ]
  },
  {
   "cell_type": "markdown",
   "id": "eda67d32",
   "metadata": {},
   "source": [
    "Matriz de confusão"
   ]
  },
  {
   "cell_type": "code",
   "execution_count": null,
   "id": "66e6ccac",
   "metadata": {},
   "outputs": [],
   "source": [
    "plot_confusion_matrix(model, x_test, y_test) "
   ]
  },
  {
   "cell_type": "markdown",
   "id": "cd80ae1b",
   "metadata": {},
   "source": [
    "Classification report"
   ]
  },
  {
   "cell_type": "code",
   "execution_count": null,
   "id": "969de465",
   "metadata": {},
   "outputs": [],
   "source": [
    "print(classification_report(y_test, y_pred))"
   ]
  },
  {
   "cell_type": "markdown",
   "id": "4df6c9ea",
   "metadata": {},
   "source": [
    "TODO: \n",
    "- usar GRIDSEARCH e PRUNNIG?\n",
    "- Redes neuronais"
   ]
  },
  {
   "cell_type": "code",
   "execution_count": null,
   "id": "a77e269e",
   "metadata": {},
   "outputs": [],
   "source": []
  }
 ],
 "metadata": {
  "kernelspec": {
   "display_name": "Python 3",
   "language": "python",
   "name": "python3"
  },
  "language_info": {
   "codemirror_mode": {
    "name": "ipython",
    "version": 3
   },
   "file_extension": ".py",
   "mimetype": "text/x-python",
   "name": "python",
   "nbconvert_exporter": "python",
   "pygments_lexer": "ipython3",
   "version": "3.6.4"
  }
 },
 "nbformat": 4,
 "nbformat_minor": 5
}
